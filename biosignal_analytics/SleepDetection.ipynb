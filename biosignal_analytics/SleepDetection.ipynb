{
 "cells": [
  {
   "cell_type": "code",
   "execution_count": 88,
   "id": "97bb3f7c-a222-4136-bd26-a6d64f783cb9",
   "metadata": {
    "execution": {
     "iopub.execute_input": "2024-02-07T13:20:18.745242Z",
     "iopub.status.busy": "2024-02-07T13:20:18.744276Z",
     "iopub.status.idle": "2024-02-07T13:20:18.753742Z",
     "shell.execute_reply": "2024-02-07T13:20:18.752395Z",
     "shell.execute_reply.started": "2024-02-07T13:20:18.745188Z"
    }
   },
   "outputs": [],
   "source": [
    "import tsfel\n",
    "import pandas as pd\n",
    "import matplotlib.pyplot as plt\n",
    "import seaborn as sns\n",
    "import sklearn\n",
    "from pathlib import Path"
   ]
  },
  {
   "cell_type": "code",
   "execution_count": null,
   "id": "80bc639d-6ad8-4507-9f7c-fdd426368c05",
   "metadata": {},
   "outputs": [],
   "source": [
    "# fig, axes = plt.subplots(1, 2, figsize=(8, 4))\n",
    "# axes[0].plot(df['eog'])\n",
    "# axes[1].plot(df['emg'])"
   ]
  },
  {
   "cell_type": "markdown",
   "id": "bb55bedd-f01b-4db9-bb76-e64aebe096f5",
   "metadata": {},
   "source": [
    "# Gathering the Data"
   ]
  },
  {
   "cell_type": "code",
   "execution_count": 91,
   "id": "df97cfb3-6055-4eff-893b-e27aaf6e3a38",
   "metadata": {
    "execution": {
     "iopub.execute_input": "2024-02-07T13:21:24.971201Z",
     "iopub.status.busy": "2024-02-07T13:21:24.970465Z",
     "iopub.status.idle": "2024-02-07T13:21:24.984802Z",
     "shell.execute_reply": "2024-02-07T13:21:24.983980Z",
     "shell.execute_reply.started": "2024-02-07T13:21:24.971169Z"
    }
   },
   "outputs": [],
   "source": [
    "def path_to_files_labels(pth, label):\n",
    "    p = Path(pth)\n",
    "    return [(pt, label) for pt in p.iterdir()]\n",
    "\n",
    "Train_files = []\n",
    "\n",
    "Train_files += path_to_files_labels('Data/Train/awake/',  0)\n",
    "Train_files += path_to_files_labels('Data/Train/nonrem/', 1)\n",
    "Train_files += path_to_files_labels('Data/Train/rem/',    2)\n",
    "\n",
    "Test_files = []\n",
    "\n",
    "Test_files += path_to_files_labels('Data/Test/awake/',  0)\n",
    "Test_files += path_to_files_labels('Data/Test/nonrem/', 1)\n",
    "Test_files += path_to_files_labels('Data/Test/rem/',    2)"
   ]
  },
  {
   "cell_type": "code",
   "execution_count": 95,
   "id": "6069d51a-43a7-42d8-b202-a761f55c127d",
   "metadata": {
    "execution": {
     "iopub.execute_input": "2024-02-07T13:24:43.249533Z",
     "iopub.status.busy": "2024-02-07T13:24:43.245698Z",
     "iopub.status.idle": "2024-02-07T13:24:43.264362Z",
     "shell.execute_reply": "2024-02-07T13:24:43.263924Z",
     "shell.execute_reply.started": "2024-02-07T13:24:43.249459Z"
    }
   },
   "outputs": [],
   "source": [
    "cfg = tsfel.get_features_by_domain()\n",
    "\n",
    "def file_label_to_ts_feats(file):\n",
    "    df = pd.read_csv(file)\n",
    "    df = df.drop(12000)\n",
    "\n",
    "    X = tsfel.time_series_features_extractor(cfg, df)\n",
    "\n",
    "    return X\n",
    "\n",
    "def file_label_to_df(fl_list):\n",
    "    \n",
    "    files, labels = list(zip(*fl_list))\n",
    "    \n",
    "    file_list = map(file_label_to_ts_feats, files)\n",
    "    _df = pd.concat(file_list)\n",
    "    _df = _df.reset_index(drop=True)\n",
    "    \n",
    "    _df = pd.concat([_df, pd.DataFrame(list(labels))], axis=1)\n",
    "    _df = _df.rename(columns={0: 'target'}, errors=\"raise\")\n",
    "\n",
    "    return _df"
   ]
  },
  {
   "cell_type": "code",
   "execution_count": 96,
   "id": "460e81ec-c62b-4dac-b44a-764ca55e1aa8",
   "metadata": {
    "execution": {
     "iopub.execute_input": "2024-02-07T13:24:55.098618Z",
     "iopub.status.busy": "2024-02-07T13:24:55.097604Z",
     "iopub.status.idle": "2024-02-07T13:26:07.449162Z",
     "shell.execute_reply": "2024-02-07T13:26:07.443000Z",
     "shell.execute_reply.started": "2024-02-07T13:24:55.098564Z"
    },
    "scrolled": true
   },
   "outputs": [
    {
     "name": "stdout",
     "output_type": "stream",
     "text": [
      "*** Feature extraction started ***\n"
     ]
    },
    {
     "name": "stderr",
     "output_type": "stream",
     "text": [
      "/var/folders/qz/0cbhxg4s7jsf6cyzrm1_nkq40000gn/T/ipykernel_29437/1350890044.py:7: UserWarning: Using default sampling frequency set in configuration file.\n",
      "  X = tsfel.time_series_features_extractor(cfg, df)\n"
     ]
    },
    {
     "data": {
      "text/html": [
       "\n",
       "              <p>\n",
       "                  Progress: 100% Complete\n",
       "              <p/>\n",
       "              <progress\n",
       "                  value='60'\n",
       "                  max='60',\n",
       "                  style='width: 25%',\n",
       "              >\n",
       "                  60\n",
       "              </progress>\n",
       "\n",
       "    "
      ],
      "text/plain": [
       "<IPython.core.display.HTML object>"
      ]
     },
     "metadata": {},
     "output_type": "display_data"
    },
    {
     "name": "stdout",
     "output_type": "stream",
     "text": [
      "\n",
      "*** Feature extraction finished ***\n",
      "*** Feature extraction started ***\n"
     ]
    },
    {
     "name": "stderr",
     "output_type": "stream",
     "text": [
      "/var/folders/qz/0cbhxg4s7jsf6cyzrm1_nkq40000gn/T/ipykernel_29437/1350890044.py:7: UserWarning: Using default sampling frequency set in configuration file.\n",
      "  X = tsfel.time_series_features_extractor(cfg, df)\n"
     ]
    },
    {
     "data": {
      "text/html": [
       "\n",
       "              <p>\n",
       "                  Progress: 100% Complete\n",
       "              <p/>\n",
       "              <progress\n",
       "                  value='60'\n",
       "                  max='60',\n",
       "                  style='width: 25%',\n",
       "              >\n",
       "                  60\n",
       "              </progress>\n",
       "\n",
       "    "
      ],
      "text/plain": [
       "<IPython.core.display.HTML object>"
      ]
     },
     "metadata": {},
     "output_type": "display_data"
    },
    {
     "name": "stdout",
     "output_type": "stream",
     "text": [
      "\n",
      "*** Feature extraction finished ***\n",
      "*** Feature extraction started ***\n"
     ]
    },
    {
     "name": "stderr",
     "output_type": "stream",
     "text": [
      "/var/folders/qz/0cbhxg4s7jsf6cyzrm1_nkq40000gn/T/ipykernel_29437/1350890044.py:7: UserWarning: Using default sampling frequency set in configuration file.\n",
      "  X = tsfel.time_series_features_extractor(cfg, df)\n"
     ]
    },
    {
     "data": {
      "text/html": [
       "\n",
       "              <p>\n",
       "                  Progress: 100% Complete\n",
       "              <p/>\n",
       "              <progress\n",
       "                  value='60'\n",
       "                  max='60',\n",
       "                  style='width: 25%',\n",
       "              >\n",
       "                  60\n",
       "              </progress>\n",
       "\n",
       "    "
      ],
      "text/plain": [
       "<IPython.core.display.HTML object>"
      ]
     },
     "metadata": {},
     "output_type": "display_data"
    },
    {
     "name": "stdout",
     "output_type": "stream",
     "text": [
      "\n",
      "*** Feature extraction finished ***\n",
      "*** Feature extraction started ***\n"
     ]
    },
    {
     "name": "stderr",
     "output_type": "stream",
     "text": [
      "/var/folders/qz/0cbhxg4s7jsf6cyzrm1_nkq40000gn/T/ipykernel_29437/1350890044.py:7: UserWarning: Using default sampling frequency set in configuration file.\n",
      "  X = tsfel.time_series_features_extractor(cfg, df)\n"
     ]
    },
    {
     "data": {
      "text/html": [
       "\n",
       "              <p>\n",
       "                  Progress: 100% Complete\n",
       "              <p/>\n",
       "              <progress\n",
       "                  value='60'\n",
       "                  max='60',\n",
       "                  style='width: 25%',\n",
       "              >\n",
       "                  60\n",
       "              </progress>\n",
       "\n",
       "    "
      ],
      "text/plain": [
       "<IPython.core.display.HTML object>"
      ]
     },
     "metadata": {},
     "output_type": "display_data"
    },
    {
     "name": "stdout",
     "output_type": "stream",
     "text": [
      "\n",
      "*** Feature extraction finished ***\n",
      "*** Feature extraction started ***\n"
     ]
    },
    {
     "name": "stderr",
     "output_type": "stream",
     "text": [
      "/var/folders/qz/0cbhxg4s7jsf6cyzrm1_nkq40000gn/T/ipykernel_29437/1350890044.py:7: UserWarning: Using default sampling frequency set in configuration file.\n",
      "  X = tsfel.time_series_features_extractor(cfg, df)\n"
     ]
    },
    {
     "data": {
      "text/html": [
       "\n",
       "              <p>\n",
       "                  Progress: 100% Complete\n",
       "              <p/>\n",
       "              <progress\n",
       "                  value='60'\n",
       "                  max='60',\n",
       "                  style='width: 25%',\n",
       "              >\n",
       "                  60\n",
       "              </progress>\n",
       "\n",
       "    "
      ],
      "text/plain": [
       "<IPython.core.display.HTML object>"
      ]
     },
     "metadata": {},
     "output_type": "display_data"
    },
    {
     "name": "stdout",
     "output_type": "stream",
     "text": [
      "\n",
      "*** Feature extraction finished ***\n",
      "*** Feature extraction started ***\n"
     ]
    },
    {
     "name": "stderr",
     "output_type": "stream",
     "text": [
      "/var/folders/qz/0cbhxg4s7jsf6cyzrm1_nkq40000gn/T/ipykernel_29437/1350890044.py:7: UserWarning: Using default sampling frequency set in configuration file.\n",
      "  X = tsfel.time_series_features_extractor(cfg, df)\n"
     ]
    },
    {
     "data": {
      "text/html": [
       "\n",
       "              <p>\n",
       "                  Progress: 100% Complete\n",
       "              <p/>\n",
       "              <progress\n",
       "                  value='60'\n",
       "                  max='60',\n",
       "                  style='width: 25%',\n",
       "              >\n",
       "                  60\n",
       "              </progress>\n",
       "\n",
       "    "
      ],
      "text/plain": [
       "<IPython.core.display.HTML object>"
      ]
     },
     "metadata": {},
     "output_type": "display_data"
    },
    {
     "name": "stdout",
     "output_type": "stream",
     "text": [
      "\n",
      "*** Feature extraction finished ***\n",
      "*** Feature extraction started ***\n"
     ]
    },
    {
     "name": "stderr",
     "output_type": "stream",
     "text": [
      "/var/folders/qz/0cbhxg4s7jsf6cyzrm1_nkq40000gn/T/ipykernel_29437/1350890044.py:7: UserWarning: Using default sampling frequency set in configuration file.\n",
      "  X = tsfel.time_series_features_extractor(cfg, df)\n"
     ]
    },
    {
     "data": {
      "text/html": [
       "\n",
       "              <p>\n",
       "                  Progress: 100% Complete\n",
       "              <p/>\n",
       "              <progress\n",
       "                  value='60'\n",
       "                  max='60',\n",
       "                  style='width: 25%',\n",
       "              >\n",
       "                  60\n",
       "              </progress>\n",
       "\n",
       "    "
      ],
      "text/plain": [
       "<IPython.core.display.HTML object>"
      ]
     },
     "metadata": {},
     "output_type": "display_data"
    },
    {
     "name": "stdout",
     "output_type": "stream",
     "text": [
      "\n",
      "*** Feature extraction finished ***\n",
      "*** Feature extraction started ***\n"
     ]
    },
    {
     "name": "stderr",
     "output_type": "stream",
     "text": [
      "/var/folders/qz/0cbhxg4s7jsf6cyzrm1_nkq40000gn/T/ipykernel_29437/1350890044.py:7: UserWarning: Using default sampling frequency set in configuration file.\n",
      "  X = tsfel.time_series_features_extractor(cfg, df)\n"
     ]
    },
    {
     "data": {
      "text/html": [
       "\n",
       "              <p>\n",
       "                  Progress: 100% Complete\n",
       "              <p/>\n",
       "              <progress\n",
       "                  value='60'\n",
       "                  max='60',\n",
       "                  style='width: 25%',\n",
       "              >\n",
       "                  60\n",
       "              </progress>\n",
       "\n",
       "    "
      ],
      "text/plain": [
       "<IPython.core.display.HTML object>"
      ]
     },
     "metadata": {},
     "output_type": "display_data"
    },
    {
     "name": "stdout",
     "output_type": "stream",
     "text": [
      "\n",
      "*** Feature extraction finished ***\n",
      "*** Feature extraction started ***\n"
     ]
    },
    {
     "name": "stderr",
     "output_type": "stream",
     "text": [
      "/var/folders/qz/0cbhxg4s7jsf6cyzrm1_nkq40000gn/T/ipykernel_29437/1350890044.py:7: UserWarning: Using default sampling frequency set in configuration file.\n",
      "  X = tsfel.time_series_features_extractor(cfg, df)\n"
     ]
    },
    {
     "data": {
      "text/html": [
       "\n",
       "              <p>\n",
       "                  Progress: 100% Complete\n",
       "              <p/>\n",
       "              <progress\n",
       "                  value='60'\n",
       "                  max='60',\n",
       "                  style='width: 25%',\n",
       "              >\n",
       "                  60\n",
       "              </progress>\n",
       "\n",
       "    "
      ],
      "text/plain": [
       "<IPython.core.display.HTML object>"
      ]
     },
     "metadata": {},
     "output_type": "display_data"
    },
    {
     "name": "stdout",
     "output_type": "stream",
     "text": [
      "\n",
      "*** Feature extraction finished ***\n",
      "*** Feature extraction started ***\n"
     ]
    },
    {
     "name": "stderr",
     "output_type": "stream",
     "text": [
      "/var/folders/qz/0cbhxg4s7jsf6cyzrm1_nkq40000gn/T/ipykernel_29437/1350890044.py:7: UserWarning: Using default sampling frequency set in configuration file.\n",
      "  X = tsfel.time_series_features_extractor(cfg, df)\n"
     ]
    },
    {
     "data": {
      "text/html": [
       "\n",
       "              <p>\n",
       "                  Progress: 100% Complete\n",
       "              <p/>\n",
       "              <progress\n",
       "                  value='60'\n",
       "                  max='60',\n",
       "                  style='width: 25%',\n",
       "              >\n",
       "                  60\n",
       "              </progress>\n",
       "\n",
       "    "
      ],
      "text/plain": [
       "<IPython.core.display.HTML object>"
      ]
     },
     "metadata": {},
     "output_type": "display_data"
    },
    {
     "name": "stdout",
     "output_type": "stream",
     "text": [
      "\n",
      "*** Feature extraction finished ***\n",
      "*** Feature extraction started ***\n"
     ]
    },
    {
     "name": "stderr",
     "output_type": "stream",
     "text": [
      "/var/folders/qz/0cbhxg4s7jsf6cyzrm1_nkq40000gn/T/ipykernel_29437/1350890044.py:7: UserWarning: Using default sampling frequency set in configuration file.\n",
      "  X = tsfel.time_series_features_extractor(cfg, df)\n"
     ]
    },
    {
     "data": {
      "text/html": [
       "\n",
       "              <p>\n",
       "                  Progress: 100% Complete\n",
       "              <p/>\n",
       "              <progress\n",
       "                  value='60'\n",
       "                  max='60',\n",
       "                  style='width: 25%',\n",
       "              >\n",
       "                  60\n",
       "              </progress>\n",
       "\n",
       "    "
      ],
      "text/plain": [
       "<IPython.core.display.HTML object>"
      ]
     },
     "metadata": {},
     "output_type": "display_data"
    },
    {
     "name": "stdout",
     "output_type": "stream",
     "text": [
      "\n",
      "*** Feature extraction finished ***\n",
      "*** Feature extraction started ***\n"
     ]
    },
    {
     "name": "stderr",
     "output_type": "stream",
     "text": [
      "/var/folders/qz/0cbhxg4s7jsf6cyzrm1_nkq40000gn/T/ipykernel_29437/1350890044.py:7: UserWarning: Using default sampling frequency set in configuration file.\n",
      "  X = tsfel.time_series_features_extractor(cfg, df)\n"
     ]
    },
    {
     "data": {
      "text/html": [
       "\n",
       "              <p>\n",
       "                  Progress: 100% Complete\n",
       "              <p/>\n",
       "              <progress\n",
       "                  value='60'\n",
       "                  max='60',\n",
       "                  style='width: 25%',\n",
       "              >\n",
       "                  60\n",
       "              </progress>\n",
       "\n",
       "    "
      ],
      "text/plain": [
       "<IPython.core.display.HTML object>"
      ]
     },
     "metadata": {},
     "output_type": "display_data"
    },
    {
     "name": "stdout",
     "output_type": "stream",
     "text": [
      "\n",
      "*** Feature extraction finished ***\n",
      "*** Feature extraction started ***\n"
     ]
    },
    {
     "name": "stderr",
     "output_type": "stream",
     "text": [
      "/var/folders/qz/0cbhxg4s7jsf6cyzrm1_nkq40000gn/T/ipykernel_29437/1350890044.py:7: UserWarning: Using default sampling frequency set in configuration file.\n",
      "  X = tsfel.time_series_features_extractor(cfg, df)\n"
     ]
    },
    {
     "data": {
      "text/html": [
       "\n",
       "              <p>\n",
       "                  Progress: 100% Complete\n",
       "              <p/>\n",
       "              <progress\n",
       "                  value='60'\n",
       "                  max='60',\n",
       "                  style='width: 25%',\n",
       "              >\n",
       "                  60\n",
       "              </progress>\n",
       "\n",
       "    "
      ],
      "text/plain": [
       "<IPython.core.display.HTML object>"
      ]
     },
     "metadata": {},
     "output_type": "display_data"
    },
    {
     "name": "stdout",
     "output_type": "stream",
     "text": [
      "\n",
      "*** Feature extraction finished ***\n",
      "*** Feature extraction started ***\n"
     ]
    },
    {
     "name": "stderr",
     "output_type": "stream",
     "text": [
      "/var/folders/qz/0cbhxg4s7jsf6cyzrm1_nkq40000gn/T/ipykernel_29437/1350890044.py:7: UserWarning: Using default sampling frequency set in configuration file.\n",
      "  X = tsfel.time_series_features_extractor(cfg, df)\n"
     ]
    },
    {
     "data": {
      "text/html": [
       "\n",
       "              <p>\n",
       "                  Progress: 100% Complete\n",
       "              <p/>\n",
       "              <progress\n",
       "                  value='60'\n",
       "                  max='60',\n",
       "                  style='width: 25%',\n",
       "              >\n",
       "                  60\n",
       "              </progress>\n",
       "\n",
       "    "
      ],
      "text/plain": [
       "<IPython.core.display.HTML object>"
      ]
     },
     "metadata": {},
     "output_type": "display_data"
    },
    {
     "name": "stdout",
     "output_type": "stream",
     "text": [
      "\n",
      "*** Feature extraction finished ***\n",
      "*** Feature extraction started ***\n"
     ]
    },
    {
     "name": "stderr",
     "output_type": "stream",
     "text": [
      "/var/folders/qz/0cbhxg4s7jsf6cyzrm1_nkq40000gn/T/ipykernel_29437/1350890044.py:7: UserWarning: Using default sampling frequency set in configuration file.\n",
      "  X = tsfel.time_series_features_extractor(cfg, df)\n"
     ]
    },
    {
     "data": {
      "text/html": [
       "\n",
       "              <p>\n",
       "                  Progress: 100% Complete\n",
       "              <p/>\n",
       "              <progress\n",
       "                  value='60'\n",
       "                  max='60',\n",
       "                  style='width: 25%',\n",
       "              >\n",
       "                  60\n",
       "              </progress>\n",
       "\n",
       "    "
      ],
      "text/plain": [
       "<IPython.core.display.HTML object>"
      ]
     },
     "metadata": {},
     "output_type": "display_data"
    },
    {
     "name": "stdout",
     "output_type": "stream",
     "text": [
      "\n",
      "*** Feature extraction finished ***\n",
      "*** Feature extraction started ***\n"
     ]
    },
    {
     "name": "stderr",
     "output_type": "stream",
     "text": [
      "/var/folders/qz/0cbhxg4s7jsf6cyzrm1_nkq40000gn/T/ipykernel_29437/1350890044.py:7: UserWarning: Using default sampling frequency set in configuration file.\n",
      "  X = tsfel.time_series_features_extractor(cfg, df)\n"
     ]
    },
    {
     "data": {
      "text/html": [
       "\n",
       "              <p>\n",
       "                  Progress: 100% Complete\n",
       "              <p/>\n",
       "              <progress\n",
       "                  value='60'\n",
       "                  max='60',\n",
       "                  style='width: 25%',\n",
       "              >\n",
       "                  60\n",
       "              </progress>\n",
       "\n",
       "    "
      ],
      "text/plain": [
       "<IPython.core.display.HTML object>"
      ]
     },
     "metadata": {},
     "output_type": "display_data"
    },
    {
     "name": "stdout",
     "output_type": "stream",
     "text": [
      "\n",
      "*** Feature extraction finished ***\n",
      "*** Feature extraction started ***\n"
     ]
    },
    {
     "name": "stderr",
     "output_type": "stream",
     "text": [
      "/var/folders/qz/0cbhxg4s7jsf6cyzrm1_nkq40000gn/T/ipykernel_29437/1350890044.py:7: UserWarning: Using default sampling frequency set in configuration file.\n",
      "  X = tsfel.time_series_features_extractor(cfg, df)\n"
     ]
    },
    {
     "data": {
      "text/html": [
       "\n",
       "              <p>\n",
       "                  Progress: 100% Complete\n",
       "              <p/>\n",
       "              <progress\n",
       "                  value='60'\n",
       "                  max='60',\n",
       "                  style='width: 25%',\n",
       "              >\n",
       "                  60\n",
       "              </progress>\n",
       "\n",
       "    "
      ],
      "text/plain": [
       "<IPython.core.display.HTML object>"
      ]
     },
     "metadata": {},
     "output_type": "display_data"
    },
    {
     "name": "stdout",
     "output_type": "stream",
     "text": [
      "\n",
      "*** Feature extraction finished ***\n",
      "*** Feature extraction started ***\n"
     ]
    },
    {
     "name": "stderr",
     "output_type": "stream",
     "text": [
      "/var/folders/qz/0cbhxg4s7jsf6cyzrm1_nkq40000gn/T/ipykernel_29437/1350890044.py:7: UserWarning: Using default sampling frequency set in configuration file.\n",
      "  X = tsfel.time_series_features_extractor(cfg, df)\n"
     ]
    },
    {
     "data": {
      "text/html": [
       "\n",
       "              <p>\n",
       "                  Progress: 100% Complete\n",
       "              <p/>\n",
       "              <progress\n",
       "                  value='60'\n",
       "                  max='60',\n",
       "                  style='width: 25%',\n",
       "              >\n",
       "                  60\n",
       "              </progress>\n",
       "\n",
       "    "
      ],
      "text/plain": [
       "<IPython.core.display.HTML object>"
      ]
     },
     "metadata": {},
     "output_type": "display_data"
    },
    {
     "name": "stdout",
     "output_type": "stream",
     "text": [
      "\n",
      "*** Feature extraction finished ***\n",
      "*** Feature extraction started ***\n"
     ]
    },
    {
     "name": "stderr",
     "output_type": "stream",
     "text": [
      "/var/folders/qz/0cbhxg4s7jsf6cyzrm1_nkq40000gn/T/ipykernel_29437/1350890044.py:7: UserWarning: Using default sampling frequency set in configuration file.\n",
      "  X = tsfel.time_series_features_extractor(cfg, df)\n"
     ]
    },
    {
     "data": {
      "text/html": [
       "\n",
       "              <p>\n",
       "                  Progress: 100% Complete\n",
       "              <p/>\n",
       "              <progress\n",
       "                  value='60'\n",
       "                  max='60',\n",
       "                  style='width: 25%',\n",
       "              >\n",
       "                  60\n",
       "              </progress>\n",
       "\n",
       "    "
      ],
      "text/plain": [
       "<IPython.core.display.HTML object>"
      ]
     },
     "metadata": {},
     "output_type": "display_data"
    },
    {
     "name": "stdout",
     "output_type": "stream",
     "text": [
      "\n",
      "*** Feature extraction finished ***\n",
      "*** Feature extraction started ***\n"
     ]
    },
    {
     "name": "stderr",
     "output_type": "stream",
     "text": [
      "/var/folders/qz/0cbhxg4s7jsf6cyzrm1_nkq40000gn/T/ipykernel_29437/1350890044.py:7: UserWarning: Using default sampling frequency set in configuration file.\n",
      "  X = tsfel.time_series_features_extractor(cfg, df)\n"
     ]
    },
    {
     "data": {
      "text/html": [
       "\n",
       "              <p>\n",
       "                  Progress: 100% Complete\n",
       "              <p/>\n",
       "              <progress\n",
       "                  value='60'\n",
       "                  max='60',\n",
       "                  style='width: 25%',\n",
       "              >\n",
       "                  60\n",
       "              </progress>\n",
       "\n",
       "    "
      ],
      "text/plain": [
       "<IPython.core.display.HTML object>"
      ]
     },
     "metadata": {},
     "output_type": "display_data"
    },
    {
     "name": "stdout",
     "output_type": "stream",
     "text": [
      "\n",
      "*** Feature extraction finished ***\n",
      "*** Feature extraction started ***\n"
     ]
    },
    {
     "name": "stderr",
     "output_type": "stream",
     "text": [
      "/var/folders/qz/0cbhxg4s7jsf6cyzrm1_nkq40000gn/T/ipykernel_29437/1350890044.py:7: UserWarning: Using default sampling frequency set in configuration file.\n",
      "  X = tsfel.time_series_features_extractor(cfg, df)\n"
     ]
    },
    {
     "data": {
      "text/html": [
       "\n",
       "              <p>\n",
       "                  Progress: 100% Complete\n",
       "              <p/>\n",
       "              <progress\n",
       "                  value='60'\n",
       "                  max='60',\n",
       "                  style='width: 25%',\n",
       "              >\n",
       "                  60\n",
       "              </progress>\n",
       "\n",
       "    "
      ],
      "text/plain": [
       "<IPython.core.display.HTML object>"
      ]
     },
     "metadata": {},
     "output_type": "display_data"
    },
    {
     "name": "stdout",
     "output_type": "stream",
     "text": [
      "\n",
      "*** Feature extraction finished ***\n",
      "*** Feature extraction started ***\n"
     ]
    },
    {
     "name": "stderr",
     "output_type": "stream",
     "text": [
      "/var/folders/qz/0cbhxg4s7jsf6cyzrm1_nkq40000gn/T/ipykernel_29437/1350890044.py:7: UserWarning: Using default sampling frequency set in configuration file.\n",
      "  X = tsfel.time_series_features_extractor(cfg, df)\n"
     ]
    },
    {
     "data": {
      "text/html": [
       "\n",
       "              <p>\n",
       "                  Progress: 100% Complete\n",
       "              <p/>\n",
       "              <progress\n",
       "                  value='60'\n",
       "                  max='60',\n",
       "                  style='width: 25%',\n",
       "              >\n",
       "                  60\n",
       "              </progress>\n",
       "\n",
       "    "
      ],
      "text/plain": [
       "<IPython.core.display.HTML object>"
      ]
     },
     "metadata": {},
     "output_type": "display_data"
    },
    {
     "name": "stdout",
     "output_type": "stream",
     "text": [
      "\n",
      "*** Feature extraction finished ***\n",
      "*** Feature extraction started ***\n"
     ]
    },
    {
     "name": "stderr",
     "output_type": "stream",
     "text": [
      "/var/folders/qz/0cbhxg4s7jsf6cyzrm1_nkq40000gn/T/ipykernel_29437/1350890044.py:7: UserWarning: Using default sampling frequency set in configuration file.\n",
      "  X = tsfel.time_series_features_extractor(cfg, df)\n"
     ]
    },
    {
     "data": {
      "text/html": [
       "\n",
       "              <p>\n",
       "                  Progress: 100% Complete\n",
       "              <p/>\n",
       "              <progress\n",
       "                  value='60'\n",
       "                  max='60',\n",
       "                  style='width: 25%',\n",
       "              >\n",
       "                  60\n",
       "              </progress>\n",
       "\n",
       "    "
      ],
      "text/plain": [
       "<IPython.core.display.HTML object>"
      ]
     },
     "metadata": {},
     "output_type": "display_data"
    },
    {
     "name": "stdout",
     "output_type": "stream",
     "text": [
      "\n",
      "*** Feature extraction finished ***\n",
      "*** Feature extraction started ***\n"
     ]
    },
    {
     "name": "stderr",
     "output_type": "stream",
     "text": [
      "/var/folders/qz/0cbhxg4s7jsf6cyzrm1_nkq40000gn/T/ipykernel_29437/1350890044.py:7: UserWarning: Using default sampling frequency set in configuration file.\n",
      "  X = tsfel.time_series_features_extractor(cfg, df)\n"
     ]
    },
    {
     "data": {
      "text/html": [
       "\n",
       "              <p>\n",
       "                  Progress: 100% Complete\n",
       "              <p/>\n",
       "              <progress\n",
       "                  value='60'\n",
       "                  max='60',\n",
       "                  style='width: 25%',\n",
       "              >\n",
       "                  60\n",
       "              </progress>\n",
       "\n",
       "    "
      ],
      "text/plain": [
       "<IPython.core.display.HTML object>"
      ]
     },
     "metadata": {},
     "output_type": "display_data"
    },
    {
     "name": "stdout",
     "output_type": "stream",
     "text": [
      "\n",
      "*** Feature extraction finished ***\n",
      "*** Feature extraction started ***\n"
     ]
    },
    {
     "name": "stderr",
     "output_type": "stream",
     "text": [
      "/var/folders/qz/0cbhxg4s7jsf6cyzrm1_nkq40000gn/T/ipykernel_29437/1350890044.py:7: UserWarning: Using default sampling frequency set in configuration file.\n",
      "  X = tsfel.time_series_features_extractor(cfg, df)\n"
     ]
    },
    {
     "data": {
      "text/html": [
       "\n",
       "              <p>\n",
       "                  Progress: 100% Complete\n",
       "              <p/>\n",
       "              <progress\n",
       "                  value='60'\n",
       "                  max='60',\n",
       "                  style='width: 25%',\n",
       "              >\n",
       "                  60\n",
       "              </progress>\n",
       "\n",
       "    "
      ],
      "text/plain": [
       "<IPython.core.display.HTML object>"
      ]
     },
     "metadata": {},
     "output_type": "display_data"
    },
    {
     "name": "stdout",
     "output_type": "stream",
     "text": [
      "\n",
      "*** Feature extraction finished ***\n",
      "*** Feature extraction started ***\n"
     ]
    },
    {
     "name": "stderr",
     "output_type": "stream",
     "text": [
      "/var/folders/qz/0cbhxg4s7jsf6cyzrm1_nkq40000gn/T/ipykernel_29437/1350890044.py:7: UserWarning: Using default sampling frequency set in configuration file.\n",
      "  X = tsfel.time_series_features_extractor(cfg, df)\n"
     ]
    },
    {
     "data": {
      "text/html": [
       "\n",
       "              <p>\n",
       "                  Progress: 100% Complete\n",
       "              <p/>\n",
       "              <progress\n",
       "                  value='60'\n",
       "                  max='60',\n",
       "                  style='width: 25%',\n",
       "              >\n",
       "                  60\n",
       "              </progress>\n",
       "\n",
       "    "
      ],
      "text/plain": [
       "<IPython.core.display.HTML object>"
      ]
     },
     "metadata": {},
     "output_type": "display_data"
    },
    {
     "name": "stdout",
     "output_type": "stream",
     "text": [
      "\n",
      "*** Feature extraction finished ***\n",
      "*** Feature extraction started ***\n"
     ]
    },
    {
     "name": "stderr",
     "output_type": "stream",
     "text": [
      "/var/folders/qz/0cbhxg4s7jsf6cyzrm1_nkq40000gn/T/ipykernel_29437/1350890044.py:7: UserWarning: Using default sampling frequency set in configuration file.\n",
      "  X = tsfel.time_series_features_extractor(cfg, df)\n"
     ]
    },
    {
     "data": {
      "text/html": [
       "\n",
       "              <p>\n",
       "                  Progress: 100% Complete\n",
       "              <p/>\n",
       "              <progress\n",
       "                  value='60'\n",
       "                  max='60',\n",
       "                  style='width: 25%',\n",
       "              >\n",
       "                  60\n",
       "              </progress>\n",
       "\n",
       "    "
      ],
      "text/plain": [
       "<IPython.core.display.HTML object>"
      ]
     },
     "metadata": {},
     "output_type": "display_data"
    },
    {
     "name": "stdout",
     "output_type": "stream",
     "text": [
      "\n",
      "*** Feature extraction finished ***\n",
      "*** Feature extraction started ***\n"
     ]
    },
    {
     "name": "stderr",
     "output_type": "stream",
     "text": [
      "/var/folders/qz/0cbhxg4s7jsf6cyzrm1_nkq40000gn/T/ipykernel_29437/1350890044.py:7: UserWarning: Using default sampling frequency set in configuration file.\n",
      "  X = tsfel.time_series_features_extractor(cfg, df)\n"
     ]
    },
    {
     "data": {
      "text/html": [
       "\n",
       "              <p>\n",
       "                  Progress: 100% Complete\n",
       "              <p/>\n",
       "              <progress\n",
       "                  value='60'\n",
       "                  max='60',\n",
       "                  style='width: 25%',\n",
       "              >\n",
       "                  60\n",
       "              </progress>\n",
       "\n",
       "    "
      ],
      "text/plain": [
       "<IPython.core.display.HTML object>"
      ]
     },
     "metadata": {},
     "output_type": "display_data"
    },
    {
     "name": "stdout",
     "output_type": "stream",
     "text": [
      "\n",
      "*** Feature extraction finished ***\n",
      "*** Feature extraction started ***\n"
     ]
    },
    {
     "name": "stderr",
     "output_type": "stream",
     "text": [
      "/var/folders/qz/0cbhxg4s7jsf6cyzrm1_nkq40000gn/T/ipykernel_29437/1350890044.py:7: UserWarning: Using default sampling frequency set in configuration file.\n",
      "  X = tsfel.time_series_features_extractor(cfg, df)\n"
     ]
    },
    {
     "data": {
      "text/html": [
       "\n",
       "              <p>\n",
       "                  Progress: 100% Complete\n",
       "              <p/>\n",
       "              <progress\n",
       "                  value='60'\n",
       "                  max='60',\n",
       "                  style='width: 25%',\n",
       "              >\n",
       "                  60\n",
       "              </progress>\n",
       "\n",
       "    "
      ],
      "text/plain": [
       "<IPython.core.display.HTML object>"
      ]
     },
     "metadata": {},
     "output_type": "display_data"
    },
    {
     "name": "stdout",
     "output_type": "stream",
     "text": [
      "\n",
      "*** Feature extraction finished ***\n",
      "*** Feature extraction started ***\n"
     ]
    },
    {
     "name": "stderr",
     "output_type": "stream",
     "text": [
      "/var/folders/qz/0cbhxg4s7jsf6cyzrm1_nkq40000gn/T/ipykernel_29437/1350890044.py:7: UserWarning: Using default sampling frequency set in configuration file.\n",
      "  X = tsfel.time_series_features_extractor(cfg, df)\n"
     ]
    },
    {
     "data": {
      "text/html": [
       "\n",
       "              <p>\n",
       "                  Progress: 100% Complete\n",
       "              <p/>\n",
       "              <progress\n",
       "                  value='60'\n",
       "                  max='60',\n",
       "                  style='width: 25%',\n",
       "              >\n",
       "                  60\n",
       "              </progress>\n",
       "\n",
       "    "
      ],
      "text/plain": [
       "<IPython.core.display.HTML object>"
      ]
     },
     "metadata": {},
     "output_type": "display_data"
    },
    {
     "name": "stdout",
     "output_type": "stream",
     "text": [
      "\n",
      "*** Feature extraction finished ***\n",
      "*** Feature extraction started ***\n"
     ]
    },
    {
     "name": "stderr",
     "output_type": "stream",
     "text": [
      "/var/folders/qz/0cbhxg4s7jsf6cyzrm1_nkq40000gn/T/ipykernel_29437/1350890044.py:7: UserWarning: Using default sampling frequency set in configuration file.\n",
      "  X = tsfel.time_series_features_extractor(cfg, df)\n"
     ]
    },
    {
     "data": {
      "text/html": [
       "\n",
       "              <p>\n",
       "                  Progress: 100% Complete\n",
       "              <p/>\n",
       "              <progress\n",
       "                  value='60'\n",
       "                  max='60',\n",
       "                  style='width: 25%',\n",
       "              >\n",
       "                  60\n",
       "              </progress>\n",
       "\n",
       "    "
      ],
      "text/plain": [
       "<IPython.core.display.HTML object>"
      ]
     },
     "metadata": {},
     "output_type": "display_data"
    },
    {
     "name": "stdout",
     "output_type": "stream",
     "text": [
      "\n",
      "*** Feature extraction finished ***\n",
      "*** Feature extraction started ***\n"
     ]
    },
    {
     "name": "stderr",
     "output_type": "stream",
     "text": [
      "/var/folders/qz/0cbhxg4s7jsf6cyzrm1_nkq40000gn/T/ipykernel_29437/1350890044.py:7: UserWarning: Using default sampling frequency set in configuration file.\n",
      "  X = tsfel.time_series_features_extractor(cfg, df)\n"
     ]
    },
    {
     "data": {
      "text/html": [
       "\n",
       "              <p>\n",
       "                  Progress: 100% Complete\n",
       "              <p/>\n",
       "              <progress\n",
       "                  value='60'\n",
       "                  max='60',\n",
       "                  style='width: 25%',\n",
       "              >\n",
       "                  60\n",
       "              </progress>\n",
       "\n",
       "    "
      ],
      "text/plain": [
       "<IPython.core.display.HTML object>"
      ]
     },
     "metadata": {},
     "output_type": "display_data"
    },
    {
     "name": "stdout",
     "output_type": "stream",
     "text": [
      "\n",
      "*** Feature extraction finished ***\n",
      "*** Feature extraction started ***\n"
     ]
    },
    {
     "name": "stderr",
     "output_type": "stream",
     "text": [
      "/var/folders/qz/0cbhxg4s7jsf6cyzrm1_nkq40000gn/T/ipykernel_29437/1350890044.py:7: UserWarning: Using default sampling frequency set in configuration file.\n",
      "  X = tsfel.time_series_features_extractor(cfg, df)\n"
     ]
    },
    {
     "data": {
      "text/html": [
       "\n",
       "              <p>\n",
       "                  Progress: 100% Complete\n",
       "              <p/>\n",
       "              <progress\n",
       "                  value='60'\n",
       "                  max='60',\n",
       "                  style='width: 25%',\n",
       "              >\n",
       "                  60\n",
       "              </progress>\n",
       "\n",
       "    "
      ],
      "text/plain": [
       "<IPython.core.display.HTML object>"
      ]
     },
     "metadata": {},
     "output_type": "display_data"
    },
    {
     "name": "stdout",
     "output_type": "stream",
     "text": [
      "\n",
      "*** Feature extraction finished ***\n",
      "*** Feature extraction started ***\n"
     ]
    },
    {
     "name": "stderr",
     "output_type": "stream",
     "text": [
      "/var/folders/qz/0cbhxg4s7jsf6cyzrm1_nkq40000gn/T/ipykernel_29437/1350890044.py:7: UserWarning: Using default sampling frequency set in configuration file.\n",
      "  X = tsfel.time_series_features_extractor(cfg, df)\n"
     ]
    },
    {
     "data": {
      "text/html": [
       "\n",
       "              <p>\n",
       "                  Progress: 100% Complete\n",
       "              <p/>\n",
       "              <progress\n",
       "                  value='60'\n",
       "                  max='60',\n",
       "                  style='width: 25%',\n",
       "              >\n",
       "                  60\n",
       "              </progress>\n",
       "\n",
       "    "
      ],
      "text/plain": [
       "<IPython.core.display.HTML object>"
      ]
     },
     "metadata": {},
     "output_type": "display_data"
    },
    {
     "name": "stdout",
     "output_type": "stream",
     "text": [
      "\n",
      "*** Feature extraction finished ***\n",
      "*** Feature extraction started ***\n"
     ]
    },
    {
     "name": "stderr",
     "output_type": "stream",
     "text": [
      "/var/folders/qz/0cbhxg4s7jsf6cyzrm1_nkq40000gn/T/ipykernel_29437/1350890044.py:7: UserWarning: Using default sampling frequency set in configuration file.\n",
      "  X = tsfel.time_series_features_extractor(cfg, df)\n"
     ]
    },
    {
     "data": {
      "text/html": [
       "\n",
       "              <p>\n",
       "                  Progress: 100% Complete\n",
       "              <p/>\n",
       "              <progress\n",
       "                  value='60'\n",
       "                  max='60',\n",
       "                  style='width: 25%',\n",
       "              >\n",
       "                  60\n",
       "              </progress>\n",
       "\n",
       "    "
      ],
      "text/plain": [
       "<IPython.core.display.HTML object>"
      ]
     },
     "metadata": {},
     "output_type": "display_data"
    },
    {
     "name": "stdout",
     "output_type": "stream",
     "text": [
      "\n",
      "*** Feature extraction finished ***\n",
      "*** Feature extraction started ***\n"
     ]
    },
    {
     "name": "stderr",
     "output_type": "stream",
     "text": [
      "/var/folders/qz/0cbhxg4s7jsf6cyzrm1_nkq40000gn/T/ipykernel_29437/1350890044.py:7: UserWarning: Using default sampling frequency set in configuration file.\n",
      "  X = tsfel.time_series_features_extractor(cfg, df)\n"
     ]
    },
    {
     "data": {
      "text/html": [
       "\n",
       "              <p>\n",
       "                  Progress: 100% Complete\n",
       "              <p/>\n",
       "              <progress\n",
       "                  value='60'\n",
       "                  max='60',\n",
       "                  style='width: 25%',\n",
       "              >\n",
       "                  60\n",
       "              </progress>\n",
       "\n",
       "    "
      ],
      "text/plain": [
       "<IPython.core.display.HTML object>"
      ]
     },
     "metadata": {},
     "output_type": "display_data"
    },
    {
     "name": "stdout",
     "output_type": "stream",
     "text": [
      "\n",
      "*** Feature extraction finished ***\n",
      "*** Feature extraction started ***\n"
     ]
    },
    {
     "name": "stderr",
     "output_type": "stream",
     "text": [
      "/var/folders/qz/0cbhxg4s7jsf6cyzrm1_nkq40000gn/T/ipykernel_29437/1350890044.py:7: UserWarning: Using default sampling frequency set in configuration file.\n",
      "  X = tsfel.time_series_features_extractor(cfg, df)\n"
     ]
    },
    {
     "data": {
      "text/html": [
       "\n",
       "              <p>\n",
       "                  Progress: 100% Complete\n",
       "              <p/>\n",
       "              <progress\n",
       "                  value='60'\n",
       "                  max='60',\n",
       "                  style='width: 25%',\n",
       "              >\n",
       "                  60\n",
       "              </progress>\n",
       "\n",
       "    "
      ],
      "text/plain": [
       "<IPython.core.display.HTML object>"
      ]
     },
     "metadata": {},
     "output_type": "display_data"
    },
    {
     "name": "stdout",
     "output_type": "stream",
     "text": [
      "\n",
      "*** Feature extraction finished ***\n",
      "*** Feature extraction started ***\n"
     ]
    },
    {
     "name": "stderr",
     "output_type": "stream",
     "text": [
      "/var/folders/qz/0cbhxg4s7jsf6cyzrm1_nkq40000gn/T/ipykernel_29437/1350890044.py:7: UserWarning: Using default sampling frequency set in configuration file.\n",
      "  X = tsfel.time_series_features_extractor(cfg, df)\n"
     ]
    },
    {
     "data": {
      "text/html": [
       "\n",
       "              <p>\n",
       "                  Progress: 100% Complete\n",
       "              <p/>\n",
       "              <progress\n",
       "                  value='60'\n",
       "                  max='60',\n",
       "                  style='width: 25%',\n",
       "              >\n",
       "                  60\n",
       "              </progress>\n",
       "\n",
       "    "
      ],
      "text/plain": [
       "<IPython.core.display.HTML object>"
      ]
     },
     "metadata": {},
     "output_type": "display_data"
    },
    {
     "name": "stdout",
     "output_type": "stream",
     "text": [
      "\n",
      "*** Feature extraction finished ***\n",
      "*** Feature extraction started ***\n"
     ]
    },
    {
     "name": "stderr",
     "output_type": "stream",
     "text": [
      "/var/folders/qz/0cbhxg4s7jsf6cyzrm1_nkq40000gn/T/ipykernel_29437/1350890044.py:7: UserWarning: Using default sampling frequency set in configuration file.\n",
      "  X = tsfel.time_series_features_extractor(cfg, df)\n"
     ]
    },
    {
     "data": {
      "text/html": [
       "\n",
       "              <p>\n",
       "                  Progress: 100% Complete\n",
       "              <p/>\n",
       "              <progress\n",
       "                  value='60'\n",
       "                  max='60',\n",
       "                  style='width: 25%',\n",
       "              >\n",
       "                  60\n",
       "              </progress>\n",
       "\n",
       "    "
      ],
      "text/plain": [
       "<IPython.core.display.HTML object>"
      ]
     },
     "metadata": {},
     "output_type": "display_data"
    },
    {
     "name": "stdout",
     "output_type": "stream",
     "text": [
      "\n",
      "*** Feature extraction finished ***\n",
      "*** Feature extraction started ***\n"
     ]
    },
    {
     "name": "stderr",
     "output_type": "stream",
     "text": [
      "/var/folders/qz/0cbhxg4s7jsf6cyzrm1_nkq40000gn/T/ipykernel_29437/1350890044.py:7: UserWarning: Using default sampling frequency set in configuration file.\n",
      "  X = tsfel.time_series_features_extractor(cfg, df)\n"
     ]
    },
    {
     "data": {
      "text/html": [
       "\n",
       "              <p>\n",
       "                  Progress: 100% Complete\n",
       "              <p/>\n",
       "              <progress\n",
       "                  value='60'\n",
       "                  max='60',\n",
       "                  style='width: 25%',\n",
       "              >\n",
       "                  60\n",
       "              </progress>\n",
       "\n",
       "    "
      ],
      "text/plain": [
       "<IPython.core.display.HTML object>"
      ]
     },
     "metadata": {},
     "output_type": "display_data"
    },
    {
     "name": "stdout",
     "output_type": "stream",
     "text": [
      "\n",
      "*** Feature extraction finished ***\n",
      "*** Feature extraction started ***\n"
     ]
    },
    {
     "name": "stderr",
     "output_type": "stream",
     "text": [
      "/var/folders/qz/0cbhxg4s7jsf6cyzrm1_nkq40000gn/T/ipykernel_29437/1350890044.py:7: UserWarning: Using default sampling frequency set in configuration file.\n",
      "  X = tsfel.time_series_features_extractor(cfg, df)\n"
     ]
    },
    {
     "data": {
      "text/html": [
       "\n",
       "              <p>\n",
       "                  Progress: 100% Complete\n",
       "              <p/>\n",
       "              <progress\n",
       "                  value='60'\n",
       "                  max='60',\n",
       "                  style='width: 25%',\n",
       "              >\n",
       "                  60\n",
       "              </progress>\n",
       "\n",
       "    "
      ],
      "text/plain": [
       "<IPython.core.display.HTML object>"
      ]
     },
     "metadata": {},
     "output_type": "display_data"
    },
    {
     "name": "stdout",
     "output_type": "stream",
     "text": [
      "\n",
      "*** Feature extraction finished ***\n",
      "*** Feature extraction started ***\n"
     ]
    },
    {
     "name": "stderr",
     "output_type": "stream",
     "text": [
      "/var/folders/qz/0cbhxg4s7jsf6cyzrm1_nkq40000gn/T/ipykernel_29437/1350890044.py:7: UserWarning: Using default sampling frequency set in configuration file.\n",
      "  X = tsfel.time_series_features_extractor(cfg, df)\n"
     ]
    },
    {
     "data": {
      "text/html": [
       "\n",
       "              <p>\n",
       "                  Progress: 100% Complete\n",
       "              <p/>\n",
       "              <progress\n",
       "                  value='60'\n",
       "                  max='60',\n",
       "                  style='width: 25%',\n",
       "              >\n",
       "                  60\n",
       "              </progress>\n",
       "\n",
       "    "
      ],
      "text/plain": [
       "<IPython.core.display.HTML object>"
      ]
     },
     "metadata": {},
     "output_type": "display_data"
    },
    {
     "name": "stdout",
     "output_type": "stream",
     "text": [
      "\n",
      "*** Feature extraction finished ***\n",
      "*** Feature extraction started ***\n"
     ]
    },
    {
     "name": "stderr",
     "output_type": "stream",
     "text": [
      "/var/folders/qz/0cbhxg4s7jsf6cyzrm1_nkq40000gn/T/ipykernel_29437/1350890044.py:7: UserWarning: Using default sampling frequency set in configuration file.\n",
      "  X = tsfel.time_series_features_extractor(cfg, df)\n"
     ]
    },
    {
     "data": {
      "text/html": [
       "\n",
       "              <p>\n",
       "                  Progress: 100% Complete\n",
       "              <p/>\n",
       "              <progress\n",
       "                  value='60'\n",
       "                  max='60',\n",
       "                  style='width: 25%',\n",
       "              >\n",
       "                  60\n",
       "              </progress>\n",
       "\n",
       "    "
      ],
      "text/plain": [
       "<IPython.core.display.HTML object>"
      ]
     },
     "metadata": {},
     "output_type": "display_data"
    },
    {
     "name": "stdout",
     "output_type": "stream",
     "text": [
      "\n",
      "*** Feature extraction finished ***\n",
      "*** Feature extraction started ***\n"
     ]
    },
    {
     "name": "stderr",
     "output_type": "stream",
     "text": [
      "/var/folders/qz/0cbhxg4s7jsf6cyzrm1_nkq40000gn/T/ipykernel_29437/1350890044.py:7: UserWarning: Using default sampling frequency set in configuration file.\n",
      "  X = tsfel.time_series_features_extractor(cfg, df)\n"
     ]
    },
    {
     "data": {
      "text/html": [
       "\n",
       "              <p>\n",
       "                  Progress: 100% Complete\n",
       "              <p/>\n",
       "              <progress\n",
       "                  value='60'\n",
       "                  max='60',\n",
       "                  style='width: 25%',\n",
       "              >\n",
       "                  60\n",
       "              </progress>\n",
       "\n",
       "    "
      ],
      "text/plain": [
       "<IPython.core.display.HTML object>"
      ]
     },
     "metadata": {},
     "output_type": "display_data"
    },
    {
     "name": "stdout",
     "output_type": "stream",
     "text": [
      "\n",
      "*** Feature extraction finished ***\n",
      "*** Feature extraction started ***\n"
     ]
    },
    {
     "name": "stderr",
     "output_type": "stream",
     "text": [
      "/var/folders/qz/0cbhxg4s7jsf6cyzrm1_nkq40000gn/T/ipykernel_29437/1350890044.py:7: UserWarning: Using default sampling frequency set in configuration file.\n",
      "  X = tsfel.time_series_features_extractor(cfg, df)\n"
     ]
    },
    {
     "data": {
      "text/html": [
       "\n",
       "              <p>\n",
       "                  Progress: 100% Complete\n",
       "              <p/>\n",
       "              <progress\n",
       "                  value='60'\n",
       "                  max='60',\n",
       "                  style='width: 25%',\n",
       "              >\n",
       "                  60\n",
       "              </progress>\n",
       "\n",
       "    "
      ],
      "text/plain": [
       "<IPython.core.display.HTML object>"
      ]
     },
     "metadata": {},
     "output_type": "display_data"
    },
    {
     "name": "stdout",
     "output_type": "stream",
     "text": [
      "\n",
      "*** Feature extraction finished ***\n",
      "*** Feature extraction started ***\n"
     ]
    },
    {
     "name": "stderr",
     "output_type": "stream",
     "text": [
      "/var/folders/qz/0cbhxg4s7jsf6cyzrm1_nkq40000gn/T/ipykernel_29437/1350890044.py:7: UserWarning: Using default sampling frequency set in configuration file.\n",
      "  X = tsfel.time_series_features_extractor(cfg, df)\n"
     ]
    },
    {
     "data": {
      "text/html": [
       "\n",
       "              <p>\n",
       "                  Progress: 100% Complete\n",
       "              <p/>\n",
       "              <progress\n",
       "                  value='60'\n",
       "                  max='60',\n",
       "                  style='width: 25%',\n",
       "              >\n",
       "                  60\n",
       "              </progress>\n",
       "\n",
       "    "
      ],
      "text/plain": [
       "<IPython.core.display.HTML object>"
      ]
     },
     "metadata": {},
     "output_type": "display_data"
    },
    {
     "name": "stdout",
     "output_type": "stream",
     "text": [
      "\n",
      "*** Feature extraction finished ***\n",
      "*** Feature extraction started ***\n"
     ]
    },
    {
     "name": "stderr",
     "output_type": "stream",
     "text": [
      "/var/folders/qz/0cbhxg4s7jsf6cyzrm1_nkq40000gn/T/ipykernel_29437/1350890044.py:7: UserWarning: Using default sampling frequency set in configuration file.\n",
      "  X = tsfel.time_series_features_extractor(cfg, df)\n"
     ]
    },
    {
     "data": {
      "text/html": [
       "\n",
       "              <p>\n",
       "                  Progress: 100% Complete\n",
       "              <p/>\n",
       "              <progress\n",
       "                  value='60'\n",
       "                  max='60',\n",
       "                  style='width: 25%',\n",
       "              >\n",
       "                  60\n",
       "              </progress>\n",
       "\n",
       "    "
      ],
      "text/plain": [
       "<IPython.core.display.HTML object>"
      ]
     },
     "metadata": {},
     "output_type": "display_data"
    },
    {
     "name": "stdout",
     "output_type": "stream",
     "text": [
      "\n",
      "*** Feature extraction finished ***\n",
      "*** Feature extraction started ***\n"
     ]
    },
    {
     "name": "stderr",
     "output_type": "stream",
     "text": [
      "/var/folders/qz/0cbhxg4s7jsf6cyzrm1_nkq40000gn/T/ipykernel_29437/1350890044.py:7: UserWarning: Using default sampling frequency set in configuration file.\n",
      "  X = tsfel.time_series_features_extractor(cfg, df)\n"
     ]
    },
    {
     "data": {
      "text/html": [
       "\n",
       "              <p>\n",
       "                  Progress: 100% Complete\n",
       "              <p/>\n",
       "              <progress\n",
       "                  value='60'\n",
       "                  max='60',\n",
       "                  style='width: 25%',\n",
       "              >\n",
       "                  60\n",
       "              </progress>\n",
       "\n",
       "    "
      ],
      "text/plain": [
       "<IPython.core.display.HTML object>"
      ]
     },
     "metadata": {},
     "output_type": "display_data"
    },
    {
     "name": "stdout",
     "output_type": "stream",
     "text": [
      "\n",
      "*** Feature extraction finished ***\n",
      "*** Feature extraction started ***\n"
     ]
    },
    {
     "name": "stderr",
     "output_type": "stream",
     "text": [
      "/var/folders/qz/0cbhxg4s7jsf6cyzrm1_nkq40000gn/T/ipykernel_29437/1350890044.py:7: UserWarning: Using default sampling frequency set in configuration file.\n",
      "  X = tsfel.time_series_features_extractor(cfg, df)\n"
     ]
    },
    {
     "data": {
      "text/html": [
       "\n",
       "              <p>\n",
       "                  Progress: 100% Complete\n",
       "              <p/>\n",
       "              <progress\n",
       "                  value='60'\n",
       "                  max='60',\n",
       "                  style='width: 25%',\n",
       "              >\n",
       "                  60\n",
       "              </progress>\n",
       "\n",
       "    "
      ],
      "text/plain": [
       "<IPython.core.display.HTML object>"
      ]
     },
     "metadata": {},
     "output_type": "display_data"
    },
    {
     "name": "stdout",
     "output_type": "stream",
     "text": [
      "\n",
      "*** Feature extraction finished ***\n",
      "*** Feature extraction started ***\n"
     ]
    },
    {
     "name": "stderr",
     "output_type": "stream",
     "text": [
      "/var/folders/qz/0cbhxg4s7jsf6cyzrm1_nkq40000gn/T/ipykernel_29437/1350890044.py:7: UserWarning: Using default sampling frequency set in configuration file.\n",
      "  X = tsfel.time_series_features_extractor(cfg, df)\n"
     ]
    },
    {
     "data": {
      "text/html": [
       "\n",
       "              <p>\n",
       "                  Progress: 100% Complete\n",
       "              <p/>\n",
       "              <progress\n",
       "                  value='60'\n",
       "                  max='60',\n",
       "                  style='width: 25%',\n",
       "              >\n",
       "                  60\n",
       "              </progress>\n",
       "\n",
       "    "
      ],
      "text/plain": [
       "<IPython.core.display.HTML object>"
      ]
     },
     "metadata": {},
     "output_type": "display_data"
    },
    {
     "name": "stdout",
     "output_type": "stream",
     "text": [
      "\n",
      "*** Feature extraction finished ***\n",
      "*** Feature extraction started ***\n"
     ]
    },
    {
     "name": "stderr",
     "output_type": "stream",
     "text": [
      "/var/folders/qz/0cbhxg4s7jsf6cyzrm1_nkq40000gn/T/ipykernel_29437/1350890044.py:7: UserWarning: Using default sampling frequency set in configuration file.\n",
      "  X = tsfel.time_series_features_extractor(cfg, df)\n"
     ]
    },
    {
     "data": {
      "text/html": [
       "\n",
       "              <p>\n",
       "                  Progress: 100% Complete\n",
       "              <p/>\n",
       "              <progress\n",
       "                  value='60'\n",
       "                  max='60',\n",
       "                  style='width: 25%',\n",
       "              >\n",
       "                  60\n",
       "              </progress>\n",
       "\n",
       "    "
      ],
      "text/plain": [
       "<IPython.core.display.HTML object>"
      ]
     },
     "metadata": {},
     "output_type": "display_data"
    },
    {
     "name": "stdout",
     "output_type": "stream",
     "text": [
      "\n",
      "*** Feature extraction finished ***\n",
      "*** Feature extraction started ***\n"
     ]
    },
    {
     "name": "stderr",
     "output_type": "stream",
     "text": [
      "/var/folders/qz/0cbhxg4s7jsf6cyzrm1_nkq40000gn/T/ipykernel_29437/1350890044.py:7: UserWarning: Using default sampling frequency set in configuration file.\n",
      "  X = tsfel.time_series_features_extractor(cfg, df)\n"
     ]
    },
    {
     "data": {
      "text/html": [
       "\n",
       "              <p>\n",
       "                  Progress: 100% Complete\n",
       "              <p/>\n",
       "              <progress\n",
       "                  value='60'\n",
       "                  max='60',\n",
       "                  style='width: 25%',\n",
       "              >\n",
       "                  60\n",
       "              </progress>\n",
       "\n",
       "    "
      ],
      "text/plain": [
       "<IPython.core.display.HTML object>"
      ]
     },
     "metadata": {},
     "output_type": "display_data"
    },
    {
     "name": "stdout",
     "output_type": "stream",
     "text": [
      "\n",
      "*** Feature extraction finished ***\n",
      "*** Feature extraction started ***\n"
     ]
    },
    {
     "name": "stderr",
     "output_type": "stream",
     "text": [
      "/var/folders/qz/0cbhxg4s7jsf6cyzrm1_nkq40000gn/T/ipykernel_29437/1350890044.py:7: UserWarning: Using default sampling frequency set in configuration file.\n",
      "  X = tsfel.time_series_features_extractor(cfg, df)\n"
     ]
    },
    {
     "data": {
      "text/html": [
       "\n",
       "              <p>\n",
       "                  Progress: 100% Complete\n",
       "              <p/>\n",
       "              <progress\n",
       "                  value='60'\n",
       "                  max='60',\n",
       "                  style='width: 25%',\n",
       "              >\n",
       "                  60\n",
       "              </progress>\n",
       "\n",
       "    "
      ],
      "text/plain": [
       "<IPython.core.display.HTML object>"
      ]
     },
     "metadata": {},
     "output_type": "display_data"
    },
    {
     "name": "stdout",
     "output_type": "stream",
     "text": [
      "\n",
      "*** Feature extraction finished ***\n",
      "*** Feature extraction started ***\n"
     ]
    },
    {
     "name": "stderr",
     "output_type": "stream",
     "text": [
      "/var/folders/qz/0cbhxg4s7jsf6cyzrm1_nkq40000gn/T/ipykernel_29437/1350890044.py:7: UserWarning: Using default sampling frequency set in configuration file.\n",
      "  X = tsfel.time_series_features_extractor(cfg, df)\n"
     ]
    },
    {
     "data": {
      "text/html": [
       "\n",
       "              <p>\n",
       "                  Progress: 100% Complete\n",
       "              <p/>\n",
       "              <progress\n",
       "                  value='60'\n",
       "                  max='60',\n",
       "                  style='width: 25%',\n",
       "              >\n",
       "                  60\n",
       "              </progress>\n",
       "\n",
       "    "
      ],
      "text/plain": [
       "<IPython.core.display.HTML object>"
      ]
     },
     "metadata": {},
     "output_type": "display_data"
    },
    {
     "name": "stdout",
     "output_type": "stream",
     "text": [
      "\n",
      "*** Feature extraction finished ***\n",
      "*** Feature extraction started ***\n"
     ]
    },
    {
     "name": "stderr",
     "output_type": "stream",
     "text": [
      "/var/folders/qz/0cbhxg4s7jsf6cyzrm1_nkq40000gn/T/ipykernel_29437/1350890044.py:7: UserWarning: Using default sampling frequency set in configuration file.\n",
      "  X = tsfel.time_series_features_extractor(cfg, df)\n"
     ]
    },
    {
     "data": {
      "text/html": [
       "\n",
       "              <p>\n",
       "                  Progress: 100% Complete\n",
       "              <p/>\n",
       "              <progress\n",
       "                  value='60'\n",
       "                  max='60',\n",
       "                  style='width: 25%',\n",
       "              >\n",
       "                  60\n",
       "              </progress>\n",
       "\n",
       "    "
      ],
      "text/plain": [
       "<IPython.core.display.HTML object>"
      ]
     },
     "metadata": {},
     "output_type": "display_data"
    },
    {
     "name": "stdout",
     "output_type": "stream",
     "text": [
      "\n",
      "*** Feature extraction finished ***\n",
      "*** Feature extraction started ***\n"
     ]
    },
    {
     "name": "stderr",
     "output_type": "stream",
     "text": [
      "/var/folders/qz/0cbhxg4s7jsf6cyzrm1_nkq40000gn/T/ipykernel_29437/1350890044.py:7: UserWarning: Using default sampling frequency set in configuration file.\n",
      "  X = tsfel.time_series_features_extractor(cfg, df)\n"
     ]
    },
    {
     "data": {
      "text/html": [
       "\n",
       "              <p>\n",
       "                  Progress: 100% Complete\n",
       "              <p/>\n",
       "              <progress\n",
       "                  value='60'\n",
       "                  max='60',\n",
       "                  style='width: 25%',\n",
       "              >\n",
       "                  60\n",
       "              </progress>\n",
       "\n",
       "    "
      ],
      "text/plain": [
       "<IPython.core.display.HTML object>"
      ]
     },
     "metadata": {},
     "output_type": "display_data"
    },
    {
     "name": "stdout",
     "output_type": "stream",
     "text": [
      "\n",
      "*** Feature extraction finished ***\n",
      "*** Feature extraction started ***\n"
     ]
    },
    {
     "name": "stderr",
     "output_type": "stream",
     "text": [
      "/var/folders/qz/0cbhxg4s7jsf6cyzrm1_nkq40000gn/T/ipykernel_29437/1350890044.py:7: UserWarning: Using default sampling frequency set in configuration file.\n",
      "  X = tsfel.time_series_features_extractor(cfg, df)\n"
     ]
    },
    {
     "data": {
      "text/html": [
       "\n",
       "              <p>\n",
       "                  Progress: 100% Complete\n",
       "              <p/>\n",
       "              <progress\n",
       "                  value='60'\n",
       "                  max='60',\n",
       "                  style='width: 25%',\n",
       "              >\n",
       "                  60\n",
       "              </progress>\n",
       "\n",
       "    "
      ],
      "text/plain": [
       "<IPython.core.display.HTML object>"
      ]
     },
     "metadata": {},
     "output_type": "display_data"
    },
    {
     "name": "stdout",
     "output_type": "stream",
     "text": [
      "\n",
      "*** Feature extraction finished ***\n",
      "*** Feature extraction started ***\n"
     ]
    },
    {
     "name": "stderr",
     "output_type": "stream",
     "text": [
      "/var/folders/qz/0cbhxg4s7jsf6cyzrm1_nkq40000gn/T/ipykernel_29437/1350890044.py:7: UserWarning: Using default sampling frequency set in configuration file.\n",
      "  X = tsfel.time_series_features_extractor(cfg, df)\n"
     ]
    },
    {
     "data": {
      "text/html": [
       "\n",
       "              <p>\n",
       "                  Progress: 100% Complete\n",
       "              <p/>\n",
       "              <progress\n",
       "                  value='60'\n",
       "                  max='60',\n",
       "                  style='width: 25%',\n",
       "              >\n",
       "                  60\n",
       "              </progress>\n",
       "\n",
       "    "
      ],
      "text/plain": [
       "<IPython.core.display.HTML object>"
      ]
     },
     "metadata": {},
     "output_type": "display_data"
    },
    {
     "name": "stdout",
     "output_type": "stream",
     "text": [
      "\n",
      "*** Feature extraction finished ***\n",
      "*** Feature extraction started ***\n"
     ]
    },
    {
     "name": "stderr",
     "output_type": "stream",
     "text": [
      "/var/folders/qz/0cbhxg4s7jsf6cyzrm1_nkq40000gn/T/ipykernel_29437/1350890044.py:7: UserWarning: Using default sampling frequency set in configuration file.\n",
      "  X = tsfel.time_series_features_extractor(cfg, df)\n"
     ]
    },
    {
     "data": {
      "text/html": [
       "\n",
       "              <p>\n",
       "                  Progress: 100% Complete\n",
       "              <p/>\n",
       "              <progress\n",
       "                  value='60'\n",
       "                  max='60',\n",
       "                  style='width: 25%',\n",
       "              >\n",
       "                  60\n",
       "              </progress>\n",
       "\n",
       "    "
      ],
      "text/plain": [
       "<IPython.core.display.HTML object>"
      ]
     },
     "metadata": {},
     "output_type": "display_data"
    },
    {
     "name": "stdout",
     "output_type": "stream",
     "text": [
      "\n",
      "*** Feature extraction finished ***\n",
      "*** Feature extraction started ***\n"
     ]
    },
    {
     "name": "stderr",
     "output_type": "stream",
     "text": [
      "/var/folders/qz/0cbhxg4s7jsf6cyzrm1_nkq40000gn/T/ipykernel_29437/1350890044.py:7: UserWarning: Using default sampling frequency set in configuration file.\n",
      "  X = tsfel.time_series_features_extractor(cfg, df)\n"
     ]
    },
    {
     "data": {
      "text/html": [
       "\n",
       "              <p>\n",
       "                  Progress: 100% Complete\n",
       "              <p/>\n",
       "              <progress\n",
       "                  value='60'\n",
       "                  max='60',\n",
       "                  style='width: 25%',\n",
       "              >\n",
       "                  60\n",
       "              </progress>\n",
       "\n",
       "    "
      ],
      "text/plain": [
       "<IPython.core.display.HTML object>"
      ]
     },
     "metadata": {},
     "output_type": "display_data"
    },
    {
     "name": "stdout",
     "output_type": "stream",
     "text": [
      "\n",
      "*** Feature extraction finished ***\n",
      "*** Feature extraction started ***\n"
     ]
    },
    {
     "name": "stderr",
     "output_type": "stream",
     "text": [
      "/var/folders/qz/0cbhxg4s7jsf6cyzrm1_nkq40000gn/T/ipykernel_29437/1350890044.py:7: UserWarning: Using default sampling frequency set in configuration file.\n",
      "  X = tsfel.time_series_features_extractor(cfg, df)\n"
     ]
    },
    {
     "data": {
      "text/html": [
       "\n",
       "              <p>\n",
       "                  Progress: 100% Complete\n",
       "              <p/>\n",
       "              <progress\n",
       "                  value='60'\n",
       "                  max='60',\n",
       "                  style='width: 25%',\n",
       "              >\n",
       "                  60\n",
       "              </progress>\n",
       "\n",
       "    "
      ],
      "text/plain": [
       "<IPython.core.display.HTML object>"
      ]
     },
     "metadata": {},
     "output_type": "display_data"
    },
    {
     "name": "stdout",
     "output_type": "stream",
     "text": [
      "\n",
      "*** Feature extraction finished ***\n",
      "*** Feature extraction started ***\n"
     ]
    },
    {
     "name": "stderr",
     "output_type": "stream",
     "text": [
      "/var/folders/qz/0cbhxg4s7jsf6cyzrm1_nkq40000gn/T/ipykernel_29437/1350890044.py:7: UserWarning: Using default sampling frequency set in configuration file.\n",
      "  X = tsfel.time_series_features_extractor(cfg, df)\n"
     ]
    },
    {
     "data": {
      "text/html": [
       "\n",
       "              <p>\n",
       "                  Progress: 100% Complete\n",
       "              <p/>\n",
       "              <progress\n",
       "                  value='60'\n",
       "                  max='60',\n",
       "                  style='width: 25%',\n",
       "              >\n",
       "                  60\n",
       "              </progress>\n",
       "\n",
       "    "
      ],
      "text/plain": [
       "<IPython.core.display.HTML object>"
      ]
     },
     "metadata": {},
     "output_type": "display_data"
    },
    {
     "name": "stdout",
     "output_type": "stream",
     "text": [
      "\n",
      "*** Feature extraction finished ***\n",
      "*** Feature extraction started ***\n"
     ]
    },
    {
     "name": "stderr",
     "output_type": "stream",
     "text": [
      "/var/folders/qz/0cbhxg4s7jsf6cyzrm1_nkq40000gn/T/ipykernel_29437/1350890044.py:7: UserWarning: Using default sampling frequency set in configuration file.\n",
      "  X = tsfel.time_series_features_extractor(cfg, df)\n"
     ]
    },
    {
     "data": {
      "text/html": [
       "\n",
       "              <p>\n",
       "                  Progress: 100% Complete\n",
       "              <p/>\n",
       "              <progress\n",
       "                  value='60'\n",
       "                  max='60',\n",
       "                  style='width: 25%',\n",
       "              >\n",
       "                  60\n",
       "              </progress>\n",
       "\n",
       "    "
      ],
      "text/plain": [
       "<IPython.core.display.HTML object>"
      ]
     },
     "metadata": {},
     "output_type": "display_data"
    },
    {
     "name": "stdout",
     "output_type": "stream",
     "text": [
      "\n",
      "*** Feature extraction finished ***\n",
      "*** Feature extraction started ***\n"
     ]
    },
    {
     "name": "stderr",
     "output_type": "stream",
     "text": [
      "/var/folders/qz/0cbhxg4s7jsf6cyzrm1_nkq40000gn/T/ipykernel_29437/1350890044.py:7: UserWarning: Using default sampling frequency set in configuration file.\n",
      "  X = tsfel.time_series_features_extractor(cfg, df)\n"
     ]
    },
    {
     "data": {
      "text/html": [
       "\n",
       "              <p>\n",
       "                  Progress: 100% Complete\n",
       "              <p/>\n",
       "              <progress\n",
       "                  value='60'\n",
       "                  max='60',\n",
       "                  style='width: 25%',\n",
       "              >\n",
       "                  60\n",
       "              </progress>\n",
       "\n",
       "    "
      ],
      "text/plain": [
       "<IPython.core.display.HTML object>"
      ]
     },
     "metadata": {},
     "output_type": "display_data"
    },
    {
     "name": "stdout",
     "output_type": "stream",
     "text": [
      "\n",
      "*** Feature extraction finished ***\n",
      "*** Feature extraction started ***\n"
     ]
    },
    {
     "name": "stderr",
     "output_type": "stream",
     "text": [
      "/var/folders/qz/0cbhxg4s7jsf6cyzrm1_nkq40000gn/T/ipykernel_29437/1350890044.py:7: UserWarning: Using default sampling frequency set in configuration file.\n",
      "  X = tsfel.time_series_features_extractor(cfg, df)\n"
     ]
    },
    {
     "data": {
      "text/html": [
       "\n",
       "              <p>\n",
       "                  Progress: 100% Complete\n",
       "              <p/>\n",
       "              <progress\n",
       "                  value='60'\n",
       "                  max='60',\n",
       "                  style='width: 25%',\n",
       "              >\n",
       "                  60\n",
       "              </progress>\n",
       "\n",
       "    "
      ],
      "text/plain": [
       "<IPython.core.display.HTML object>"
      ]
     },
     "metadata": {},
     "output_type": "display_data"
    },
    {
     "name": "stdout",
     "output_type": "stream",
     "text": [
      "\n",
      "*** Feature extraction finished ***\n",
      "*** Feature extraction started ***\n"
     ]
    },
    {
     "name": "stderr",
     "output_type": "stream",
     "text": [
      "/var/folders/qz/0cbhxg4s7jsf6cyzrm1_nkq40000gn/T/ipykernel_29437/1350890044.py:7: UserWarning: Using default sampling frequency set in configuration file.\n",
      "  X = tsfel.time_series_features_extractor(cfg, df)\n"
     ]
    },
    {
     "data": {
      "text/html": [
       "\n",
       "              <p>\n",
       "                  Progress: 100% Complete\n",
       "              <p/>\n",
       "              <progress\n",
       "                  value='60'\n",
       "                  max='60',\n",
       "                  style='width: 25%',\n",
       "              >\n",
       "                  60\n",
       "              </progress>\n",
       "\n",
       "    "
      ],
      "text/plain": [
       "<IPython.core.display.HTML object>"
      ]
     },
     "metadata": {},
     "output_type": "display_data"
    },
    {
     "name": "stdout",
     "output_type": "stream",
     "text": [
      "\n",
      "*** Feature extraction finished ***\n",
      "*** Feature extraction started ***\n"
     ]
    },
    {
     "name": "stderr",
     "output_type": "stream",
     "text": [
      "/var/folders/qz/0cbhxg4s7jsf6cyzrm1_nkq40000gn/T/ipykernel_29437/1350890044.py:7: UserWarning: Using default sampling frequency set in configuration file.\n",
      "  X = tsfel.time_series_features_extractor(cfg, df)\n"
     ]
    },
    {
     "data": {
      "text/html": [
       "\n",
       "              <p>\n",
       "                  Progress: 100% Complete\n",
       "              <p/>\n",
       "              <progress\n",
       "                  value='60'\n",
       "                  max='60',\n",
       "                  style='width: 25%',\n",
       "              >\n",
       "                  60\n",
       "              </progress>\n",
       "\n",
       "    "
      ],
      "text/plain": [
       "<IPython.core.display.HTML object>"
      ]
     },
     "metadata": {},
     "output_type": "display_data"
    },
    {
     "name": "stdout",
     "output_type": "stream",
     "text": [
      "\n",
      "*** Feature extraction finished ***\n",
      "*** Feature extraction started ***\n"
     ]
    },
    {
     "name": "stderr",
     "output_type": "stream",
     "text": [
      "/var/folders/qz/0cbhxg4s7jsf6cyzrm1_nkq40000gn/T/ipykernel_29437/1350890044.py:7: UserWarning: Using default sampling frequency set in configuration file.\n",
      "  X = tsfel.time_series_features_extractor(cfg, df)\n"
     ]
    },
    {
     "data": {
      "text/html": [
       "\n",
       "              <p>\n",
       "                  Progress: 100% Complete\n",
       "              <p/>\n",
       "              <progress\n",
       "                  value='60'\n",
       "                  max='60',\n",
       "                  style='width: 25%',\n",
       "              >\n",
       "                  60\n",
       "              </progress>\n",
       "\n",
       "    "
      ],
      "text/plain": [
       "<IPython.core.display.HTML object>"
      ]
     },
     "metadata": {},
     "output_type": "display_data"
    },
    {
     "name": "stdout",
     "output_type": "stream",
     "text": [
      "\n",
      "*** Feature extraction finished ***\n",
      "*** Feature extraction started ***\n"
     ]
    },
    {
     "name": "stderr",
     "output_type": "stream",
     "text": [
      "/var/folders/qz/0cbhxg4s7jsf6cyzrm1_nkq40000gn/T/ipykernel_29437/1350890044.py:7: UserWarning: Using default sampling frequency set in configuration file.\n",
      "  X = tsfel.time_series_features_extractor(cfg, df)\n"
     ]
    },
    {
     "data": {
      "text/html": [
       "\n",
       "              <p>\n",
       "                  Progress: 100% Complete\n",
       "              <p/>\n",
       "              <progress\n",
       "                  value='60'\n",
       "                  max='60',\n",
       "                  style='width: 25%',\n",
       "              >\n",
       "                  60\n",
       "              </progress>\n",
       "\n",
       "    "
      ],
      "text/plain": [
       "<IPython.core.display.HTML object>"
      ]
     },
     "metadata": {},
     "output_type": "display_data"
    },
    {
     "name": "stdout",
     "output_type": "stream",
     "text": [
      "\n",
      "*** Feature extraction finished ***\n",
      "*** Feature extraction started ***\n"
     ]
    },
    {
     "name": "stderr",
     "output_type": "stream",
     "text": [
      "/var/folders/qz/0cbhxg4s7jsf6cyzrm1_nkq40000gn/T/ipykernel_29437/1350890044.py:7: UserWarning: Using default sampling frequency set in configuration file.\n",
      "  X = tsfel.time_series_features_extractor(cfg, df)\n"
     ]
    },
    {
     "data": {
      "text/html": [
       "\n",
       "              <p>\n",
       "                  Progress: 100% Complete\n",
       "              <p/>\n",
       "              <progress\n",
       "                  value='60'\n",
       "                  max='60',\n",
       "                  style='width: 25%',\n",
       "              >\n",
       "                  60\n",
       "              </progress>\n",
       "\n",
       "    "
      ],
      "text/plain": [
       "<IPython.core.display.HTML object>"
      ]
     },
     "metadata": {},
     "output_type": "display_data"
    },
    {
     "name": "stdout",
     "output_type": "stream",
     "text": [
      "\n",
      "*** Feature extraction finished ***\n",
      "*** Feature extraction started ***\n"
     ]
    },
    {
     "name": "stderr",
     "output_type": "stream",
     "text": [
      "/var/folders/qz/0cbhxg4s7jsf6cyzrm1_nkq40000gn/T/ipykernel_29437/1350890044.py:7: UserWarning: Using default sampling frequency set in configuration file.\n",
      "  X = tsfel.time_series_features_extractor(cfg, df)\n"
     ]
    },
    {
     "data": {
      "text/html": [
       "\n",
       "              <p>\n",
       "                  Progress: 100% Complete\n",
       "              <p/>\n",
       "              <progress\n",
       "                  value='60'\n",
       "                  max='60',\n",
       "                  style='width: 25%',\n",
       "              >\n",
       "                  60\n",
       "              </progress>\n",
       "\n",
       "    "
      ],
      "text/plain": [
       "<IPython.core.display.HTML object>"
      ]
     },
     "metadata": {},
     "output_type": "display_data"
    },
    {
     "name": "stdout",
     "output_type": "stream",
     "text": [
      "\n",
      "*** Feature extraction finished ***\n",
      "*** Feature extraction started ***\n"
     ]
    },
    {
     "name": "stderr",
     "output_type": "stream",
     "text": [
      "/var/folders/qz/0cbhxg4s7jsf6cyzrm1_nkq40000gn/T/ipykernel_29437/1350890044.py:7: UserWarning: Using default sampling frequency set in configuration file.\n",
      "  X = tsfel.time_series_features_extractor(cfg, df)\n"
     ]
    },
    {
     "data": {
      "text/html": [
       "\n",
       "              <p>\n",
       "                  Progress: 100% Complete\n",
       "              <p/>\n",
       "              <progress\n",
       "                  value='60'\n",
       "                  max='60',\n",
       "                  style='width: 25%',\n",
       "              >\n",
       "                  60\n",
       "              </progress>\n",
       "\n",
       "    "
      ],
      "text/plain": [
       "<IPython.core.display.HTML object>"
      ]
     },
     "metadata": {},
     "output_type": "display_data"
    },
    {
     "name": "stdout",
     "output_type": "stream",
     "text": [
      "\n",
      "*** Feature extraction finished ***\n",
      "*** Feature extraction started ***\n"
     ]
    },
    {
     "name": "stderr",
     "output_type": "stream",
     "text": [
      "/var/folders/qz/0cbhxg4s7jsf6cyzrm1_nkq40000gn/T/ipykernel_29437/1350890044.py:7: UserWarning: Using default sampling frequency set in configuration file.\n",
      "  X = tsfel.time_series_features_extractor(cfg, df)\n"
     ]
    },
    {
     "data": {
      "text/html": [
       "\n",
       "              <p>\n",
       "                  Progress: 100% Complete\n",
       "              <p/>\n",
       "              <progress\n",
       "                  value='60'\n",
       "                  max='60',\n",
       "                  style='width: 25%',\n",
       "              >\n",
       "                  60\n",
       "              </progress>\n",
       "\n",
       "    "
      ],
      "text/plain": [
       "<IPython.core.display.HTML object>"
      ]
     },
     "metadata": {},
     "output_type": "display_data"
    },
    {
     "name": "stdout",
     "output_type": "stream",
     "text": [
      "\n",
      "*** Feature extraction finished ***\n",
      "*** Feature extraction started ***\n"
     ]
    },
    {
     "name": "stderr",
     "output_type": "stream",
     "text": [
      "/var/folders/qz/0cbhxg4s7jsf6cyzrm1_nkq40000gn/T/ipykernel_29437/1350890044.py:7: UserWarning: Using default sampling frequency set in configuration file.\n",
      "  X = tsfel.time_series_features_extractor(cfg, df)\n"
     ]
    },
    {
     "data": {
      "text/html": [
       "\n",
       "              <p>\n",
       "                  Progress: 100% Complete\n",
       "              <p/>\n",
       "              <progress\n",
       "                  value='60'\n",
       "                  max='60',\n",
       "                  style='width: 25%',\n",
       "              >\n",
       "                  60\n",
       "              </progress>\n",
       "\n",
       "    "
      ],
      "text/plain": [
       "<IPython.core.display.HTML object>"
      ]
     },
     "metadata": {},
     "output_type": "display_data"
    },
    {
     "name": "stdout",
     "output_type": "stream",
     "text": [
      "\n",
      "*** Feature extraction finished ***\n",
      "*** Feature extraction started ***\n"
     ]
    },
    {
     "name": "stderr",
     "output_type": "stream",
     "text": [
      "/var/folders/qz/0cbhxg4s7jsf6cyzrm1_nkq40000gn/T/ipykernel_29437/1350890044.py:7: UserWarning: Using default sampling frequency set in configuration file.\n",
      "  X = tsfel.time_series_features_extractor(cfg, df)\n"
     ]
    },
    {
     "data": {
      "text/html": [
       "\n",
       "              <p>\n",
       "                  Progress: 100% Complete\n",
       "              <p/>\n",
       "              <progress\n",
       "                  value='60'\n",
       "                  max='60',\n",
       "                  style='width: 25%',\n",
       "              >\n",
       "                  60\n",
       "              </progress>\n",
       "\n",
       "    "
      ],
      "text/plain": [
       "<IPython.core.display.HTML object>"
      ]
     },
     "metadata": {},
     "output_type": "display_data"
    },
    {
     "name": "stdout",
     "output_type": "stream",
     "text": [
      "\n",
      "*** Feature extraction finished ***\n",
      "*** Feature extraction started ***\n"
     ]
    },
    {
     "name": "stderr",
     "output_type": "stream",
     "text": [
      "/var/folders/qz/0cbhxg4s7jsf6cyzrm1_nkq40000gn/T/ipykernel_29437/1350890044.py:7: UserWarning: Using default sampling frequency set in configuration file.\n",
      "  X = tsfel.time_series_features_extractor(cfg, df)\n"
     ]
    },
    {
     "data": {
      "text/html": [
       "\n",
       "              <p>\n",
       "                  Progress: 100% Complete\n",
       "              <p/>\n",
       "              <progress\n",
       "                  value='60'\n",
       "                  max='60',\n",
       "                  style='width: 25%',\n",
       "              >\n",
       "                  60\n",
       "              </progress>\n",
       "\n",
       "    "
      ],
      "text/plain": [
       "<IPython.core.display.HTML object>"
      ]
     },
     "metadata": {},
     "output_type": "display_data"
    },
    {
     "name": "stdout",
     "output_type": "stream",
     "text": [
      "\n",
      "*** Feature extraction finished ***\n",
      "*** Feature extraction started ***\n"
     ]
    },
    {
     "name": "stderr",
     "output_type": "stream",
     "text": [
      "/var/folders/qz/0cbhxg4s7jsf6cyzrm1_nkq40000gn/T/ipykernel_29437/1350890044.py:7: UserWarning: Using default sampling frequency set in configuration file.\n",
      "  X = tsfel.time_series_features_extractor(cfg, df)\n"
     ]
    },
    {
     "data": {
      "text/html": [
       "\n",
       "              <p>\n",
       "                  Progress: 100% Complete\n",
       "              <p/>\n",
       "              <progress\n",
       "                  value='60'\n",
       "                  max='60',\n",
       "                  style='width: 25%',\n",
       "              >\n",
       "                  60\n",
       "              </progress>\n",
       "\n",
       "    "
      ],
      "text/plain": [
       "<IPython.core.display.HTML object>"
      ]
     },
     "metadata": {},
     "output_type": "display_data"
    },
    {
     "name": "stdout",
     "output_type": "stream",
     "text": [
      "\n",
      "*** Feature extraction finished ***\n",
      "*** Feature extraction started ***\n"
     ]
    },
    {
     "name": "stderr",
     "output_type": "stream",
     "text": [
      "/var/folders/qz/0cbhxg4s7jsf6cyzrm1_nkq40000gn/T/ipykernel_29437/1350890044.py:7: UserWarning: Using default sampling frequency set in configuration file.\n",
      "  X = tsfel.time_series_features_extractor(cfg, df)\n"
     ]
    },
    {
     "data": {
      "text/html": [
       "\n",
       "              <p>\n",
       "                  Progress: 100% Complete\n",
       "              <p/>\n",
       "              <progress\n",
       "                  value='60'\n",
       "                  max='60',\n",
       "                  style='width: 25%',\n",
       "              >\n",
       "                  60\n",
       "              </progress>\n",
       "\n",
       "    "
      ],
      "text/plain": [
       "<IPython.core.display.HTML object>"
      ]
     },
     "metadata": {},
     "output_type": "display_data"
    },
    {
     "name": "stdout",
     "output_type": "stream",
     "text": [
      "\n",
      "*** Feature extraction finished ***\n",
      "*** Feature extraction started ***\n"
     ]
    },
    {
     "name": "stderr",
     "output_type": "stream",
     "text": [
      "/var/folders/qz/0cbhxg4s7jsf6cyzrm1_nkq40000gn/T/ipykernel_29437/1350890044.py:7: UserWarning: Using default sampling frequency set in configuration file.\n",
      "  X = tsfel.time_series_features_extractor(cfg, df)\n"
     ]
    },
    {
     "data": {
      "text/html": [
       "\n",
       "              <p>\n",
       "                  Progress: 100% Complete\n",
       "              <p/>\n",
       "              <progress\n",
       "                  value='60'\n",
       "                  max='60',\n",
       "                  style='width: 25%',\n",
       "              >\n",
       "                  60\n",
       "              </progress>\n",
       "\n",
       "    "
      ],
      "text/plain": [
       "<IPython.core.display.HTML object>"
      ]
     },
     "metadata": {},
     "output_type": "display_data"
    },
    {
     "name": "stdout",
     "output_type": "stream",
     "text": [
      "\n",
      "*** Feature extraction finished ***\n",
      "*** Feature extraction started ***\n"
     ]
    },
    {
     "name": "stderr",
     "output_type": "stream",
     "text": [
      "/var/folders/qz/0cbhxg4s7jsf6cyzrm1_nkq40000gn/T/ipykernel_29437/1350890044.py:7: UserWarning: Using default sampling frequency set in configuration file.\n",
      "  X = tsfel.time_series_features_extractor(cfg, df)\n"
     ]
    },
    {
     "data": {
      "text/html": [
       "\n",
       "              <p>\n",
       "                  Progress: 100% Complete\n",
       "              <p/>\n",
       "              <progress\n",
       "                  value='60'\n",
       "                  max='60',\n",
       "                  style='width: 25%',\n",
       "              >\n",
       "                  60\n",
       "              </progress>\n",
       "\n",
       "    "
      ],
      "text/plain": [
       "<IPython.core.display.HTML object>"
      ]
     },
     "metadata": {},
     "output_type": "display_data"
    },
    {
     "name": "stdout",
     "output_type": "stream",
     "text": [
      "\n",
      "*** Feature extraction finished ***\n",
      "*** Feature extraction started ***\n"
     ]
    },
    {
     "name": "stderr",
     "output_type": "stream",
     "text": [
      "/var/folders/qz/0cbhxg4s7jsf6cyzrm1_nkq40000gn/T/ipykernel_29437/1350890044.py:7: UserWarning: Using default sampling frequency set in configuration file.\n",
      "  X = tsfel.time_series_features_extractor(cfg, df)\n"
     ]
    },
    {
     "data": {
      "text/html": [
       "\n",
       "              <p>\n",
       "                  Progress: 100% Complete\n",
       "              <p/>\n",
       "              <progress\n",
       "                  value='60'\n",
       "                  max='60',\n",
       "                  style='width: 25%',\n",
       "              >\n",
       "                  60\n",
       "              </progress>\n",
       "\n",
       "    "
      ],
      "text/plain": [
       "<IPython.core.display.HTML object>"
      ]
     },
     "metadata": {},
     "output_type": "display_data"
    },
    {
     "name": "stdout",
     "output_type": "stream",
     "text": [
      "\n",
      "*** Feature extraction finished ***\n",
      "*** Feature extraction started ***\n"
     ]
    },
    {
     "name": "stderr",
     "output_type": "stream",
     "text": [
      "/var/folders/qz/0cbhxg4s7jsf6cyzrm1_nkq40000gn/T/ipykernel_29437/1350890044.py:7: UserWarning: Using default sampling frequency set in configuration file.\n",
      "  X = tsfel.time_series_features_extractor(cfg, df)\n"
     ]
    },
    {
     "data": {
      "text/html": [
       "\n",
       "              <p>\n",
       "                  Progress: 100% Complete\n",
       "              <p/>\n",
       "              <progress\n",
       "                  value='60'\n",
       "                  max='60',\n",
       "                  style='width: 25%',\n",
       "              >\n",
       "                  60\n",
       "              </progress>\n",
       "\n",
       "    "
      ],
      "text/plain": [
       "<IPython.core.display.HTML object>"
      ]
     },
     "metadata": {},
     "output_type": "display_data"
    },
    {
     "name": "stdout",
     "output_type": "stream",
     "text": [
      "\n",
      "*** Feature extraction finished ***\n",
      "*** Feature extraction started ***\n"
     ]
    },
    {
     "name": "stderr",
     "output_type": "stream",
     "text": [
      "/var/folders/qz/0cbhxg4s7jsf6cyzrm1_nkq40000gn/T/ipykernel_29437/1350890044.py:7: UserWarning: Using default sampling frequency set in configuration file.\n",
      "  X = tsfel.time_series_features_extractor(cfg, df)\n"
     ]
    },
    {
     "data": {
      "text/html": [
       "\n",
       "              <p>\n",
       "                  Progress: 100% Complete\n",
       "              <p/>\n",
       "              <progress\n",
       "                  value='60'\n",
       "                  max='60',\n",
       "                  style='width: 25%',\n",
       "              >\n",
       "                  60\n",
       "              </progress>\n",
       "\n",
       "    "
      ],
      "text/plain": [
       "<IPython.core.display.HTML object>"
      ]
     },
     "metadata": {},
     "output_type": "display_data"
    },
    {
     "name": "stdout",
     "output_type": "stream",
     "text": [
      "\n",
      "*** Feature extraction finished ***\n",
      "*** Feature extraction started ***\n"
     ]
    },
    {
     "name": "stderr",
     "output_type": "stream",
     "text": [
      "/var/folders/qz/0cbhxg4s7jsf6cyzrm1_nkq40000gn/T/ipykernel_29437/1350890044.py:7: UserWarning: Using default sampling frequency set in configuration file.\n",
      "  X = tsfel.time_series_features_extractor(cfg, df)\n"
     ]
    },
    {
     "data": {
      "text/html": [
       "\n",
       "              <p>\n",
       "                  Progress: 100% Complete\n",
       "              <p/>\n",
       "              <progress\n",
       "                  value='60'\n",
       "                  max='60',\n",
       "                  style='width: 25%',\n",
       "              >\n",
       "                  60\n",
       "              </progress>\n",
       "\n",
       "    "
      ],
      "text/plain": [
       "<IPython.core.display.HTML object>"
      ]
     },
     "metadata": {},
     "output_type": "display_data"
    },
    {
     "name": "stdout",
     "output_type": "stream",
     "text": [
      "\n",
      "*** Feature extraction finished ***\n",
      "*** Feature extraction started ***\n"
     ]
    },
    {
     "name": "stderr",
     "output_type": "stream",
     "text": [
      "/var/folders/qz/0cbhxg4s7jsf6cyzrm1_nkq40000gn/T/ipykernel_29437/1350890044.py:7: UserWarning: Using default sampling frequency set in configuration file.\n",
      "  X = tsfel.time_series_features_extractor(cfg, df)\n"
     ]
    },
    {
     "data": {
      "text/html": [
       "\n",
       "              <p>\n",
       "                  Progress: 100% Complete\n",
       "              <p/>\n",
       "              <progress\n",
       "                  value='60'\n",
       "                  max='60',\n",
       "                  style='width: 25%',\n",
       "              >\n",
       "                  60\n",
       "              </progress>\n",
       "\n",
       "    "
      ],
      "text/plain": [
       "<IPython.core.display.HTML object>"
      ]
     },
     "metadata": {},
     "output_type": "display_data"
    },
    {
     "name": "stdout",
     "output_type": "stream",
     "text": [
      "\n",
      "*** Feature extraction finished ***\n",
      "*** Feature extraction started ***\n"
     ]
    },
    {
     "name": "stderr",
     "output_type": "stream",
     "text": [
      "/var/folders/qz/0cbhxg4s7jsf6cyzrm1_nkq40000gn/T/ipykernel_29437/1350890044.py:7: UserWarning: Using default sampling frequency set in configuration file.\n",
      "  X = tsfel.time_series_features_extractor(cfg, df)\n"
     ]
    },
    {
     "data": {
      "text/html": [
       "\n",
       "              <p>\n",
       "                  Progress: 100% Complete\n",
       "              <p/>\n",
       "              <progress\n",
       "                  value='60'\n",
       "                  max='60',\n",
       "                  style='width: 25%',\n",
       "              >\n",
       "                  60\n",
       "              </progress>\n",
       "\n",
       "    "
      ],
      "text/plain": [
       "<IPython.core.display.HTML object>"
      ]
     },
     "metadata": {},
     "output_type": "display_data"
    },
    {
     "name": "stdout",
     "output_type": "stream",
     "text": [
      "\n",
      "*** Feature extraction finished ***\n",
      "*** Feature extraction started ***\n"
     ]
    },
    {
     "name": "stderr",
     "output_type": "stream",
     "text": [
      "/var/folders/qz/0cbhxg4s7jsf6cyzrm1_nkq40000gn/T/ipykernel_29437/1350890044.py:7: UserWarning: Using default sampling frequency set in configuration file.\n",
      "  X = tsfel.time_series_features_extractor(cfg, df)\n"
     ]
    },
    {
     "data": {
      "text/html": [
       "\n",
       "              <p>\n",
       "                  Progress: 100% Complete\n",
       "              <p/>\n",
       "              <progress\n",
       "                  value='60'\n",
       "                  max='60',\n",
       "                  style='width: 25%',\n",
       "              >\n",
       "                  60\n",
       "              </progress>\n",
       "\n",
       "    "
      ],
      "text/plain": [
       "<IPython.core.display.HTML object>"
      ]
     },
     "metadata": {},
     "output_type": "display_data"
    },
    {
     "name": "stdout",
     "output_type": "stream",
     "text": [
      "\n",
      "*** Feature extraction finished ***\n",
      "*** Feature extraction started ***\n"
     ]
    },
    {
     "name": "stderr",
     "output_type": "stream",
     "text": [
      "/var/folders/qz/0cbhxg4s7jsf6cyzrm1_nkq40000gn/T/ipykernel_29437/1350890044.py:7: UserWarning: Using default sampling frequency set in configuration file.\n",
      "  X = tsfel.time_series_features_extractor(cfg, df)\n"
     ]
    },
    {
     "data": {
      "text/html": [
       "\n",
       "              <p>\n",
       "                  Progress: 100% Complete\n",
       "              <p/>\n",
       "              <progress\n",
       "                  value='60'\n",
       "                  max='60',\n",
       "                  style='width: 25%',\n",
       "              >\n",
       "                  60\n",
       "              </progress>\n",
       "\n",
       "    "
      ],
      "text/plain": [
       "<IPython.core.display.HTML object>"
      ]
     },
     "metadata": {},
     "output_type": "display_data"
    },
    {
     "name": "stdout",
     "output_type": "stream",
     "text": [
      "\n",
      "*** Feature extraction finished ***\n",
      "*** Feature extraction started ***\n"
     ]
    },
    {
     "name": "stderr",
     "output_type": "stream",
     "text": [
      "/var/folders/qz/0cbhxg4s7jsf6cyzrm1_nkq40000gn/T/ipykernel_29437/1350890044.py:7: UserWarning: Using default sampling frequency set in configuration file.\n",
      "  X = tsfel.time_series_features_extractor(cfg, df)\n"
     ]
    },
    {
     "data": {
      "text/html": [
       "\n",
       "              <p>\n",
       "                  Progress: 100% Complete\n",
       "              <p/>\n",
       "              <progress\n",
       "                  value='60'\n",
       "                  max='60',\n",
       "                  style='width: 25%',\n",
       "              >\n",
       "                  60\n",
       "              </progress>\n",
       "\n",
       "    "
      ],
      "text/plain": [
       "<IPython.core.display.HTML object>"
      ]
     },
     "metadata": {},
     "output_type": "display_data"
    },
    {
     "name": "stdout",
     "output_type": "stream",
     "text": [
      "\n",
      "*** Feature extraction finished ***\n",
      "*** Feature extraction started ***\n"
     ]
    },
    {
     "name": "stderr",
     "output_type": "stream",
     "text": [
      "/var/folders/qz/0cbhxg4s7jsf6cyzrm1_nkq40000gn/T/ipykernel_29437/1350890044.py:7: UserWarning: Using default sampling frequency set in configuration file.\n",
      "  X = tsfel.time_series_features_extractor(cfg, df)\n"
     ]
    },
    {
     "data": {
      "text/html": [
       "\n",
       "              <p>\n",
       "                  Progress: 100% Complete\n",
       "              <p/>\n",
       "              <progress\n",
       "                  value='60'\n",
       "                  max='60',\n",
       "                  style='width: 25%',\n",
       "              >\n",
       "                  60\n",
       "              </progress>\n",
       "\n",
       "    "
      ],
      "text/plain": [
       "<IPython.core.display.HTML object>"
      ]
     },
     "metadata": {},
     "output_type": "display_data"
    },
    {
     "name": "stdout",
     "output_type": "stream",
     "text": [
      "\n",
      "*** Feature extraction finished ***\n",
      "*** Feature extraction started ***\n"
     ]
    },
    {
     "name": "stderr",
     "output_type": "stream",
     "text": [
      "/var/folders/qz/0cbhxg4s7jsf6cyzrm1_nkq40000gn/T/ipykernel_29437/1350890044.py:7: UserWarning: Using default sampling frequency set in configuration file.\n",
      "  X = tsfel.time_series_features_extractor(cfg, df)\n"
     ]
    },
    {
     "data": {
      "text/html": [
       "\n",
       "              <p>\n",
       "                  Progress: 100% Complete\n",
       "              <p/>\n",
       "              <progress\n",
       "                  value='60'\n",
       "                  max='60',\n",
       "                  style='width: 25%',\n",
       "              >\n",
       "                  60\n",
       "              </progress>\n",
       "\n",
       "    "
      ],
      "text/plain": [
       "<IPython.core.display.HTML object>"
      ]
     },
     "metadata": {},
     "output_type": "display_data"
    },
    {
     "name": "stdout",
     "output_type": "stream",
     "text": [
      "\n",
      "*** Feature extraction finished ***\n",
      "*** Feature extraction started ***\n"
     ]
    },
    {
     "name": "stderr",
     "output_type": "stream",
     "text": [
      "/var/folders/qz/0cbhxg4s7jsf6cyzrm1_nkq40000gn/T/ipykernel_29437/1350890044.py:7: UserWarning: Using default sampling frequency set in configuration file.\n",
      "  X = tsfel.time_series_features_extractor(cfg, df)\n"
     ]
    },
    {
     "data": {
      "text/html": [
       "\n",
       "              <p>\n",
       "                  Progress: 100% Complete\n",
       "              <p/>\n",
       "              <progress\n",
       "                  value='60'\n",
       "                  max='60',\n",
       "                  style='width: 25%',\n",
       "              >\n",
       "                  60\n",
       "              </progress>\n",
       "\n",
       "    "
      ],
      "text/plain": [
       "<IPython.core.display.HTML object>"
      ]
     },
     "metadata": {},
     "output_type": "display_data"
    },
    {
     "name": "stdout",
     "output_type": "stream",
     "text": [
      "\n",
      "*** Feature extraction finished ***\n",
      "*** Feature extraction started ***\n"
     ]
    },
    {
     "name": "stderr",
     "output_type": "stream",
     "text": [
      "/var/folders/qz/0cbhxg4s7jsf6cyzrm1_nkq40000gn/T/ipykernel_29437/1350890044.py:7: UserWarning: Using default sampling frequency set in configuration file.\n",
      "  X = tsfel.time_series_features_extractor(cfg, df)\n"
     ]
    },
    {
     "data": {
      "text/html": [
       "\n",
       "              <p>\n",
       "                  Progress: 100% Complete\n",
       "              <p/>\n",
       "              <progress\n",
       "                  value='60'\n",
       "                  max='60',\n",
       "                  style='width: 25%',\n",
       "              >\n",
       "                  60\n",
       "              </progress>\n",
       "\n",
       "    "
      ],
      "text/plain": [
       "<IPython.core.display.HTML object>"
      ]
     },
     "metadata": {},
     "output_type": "display_data"
    },
    {
     "name": "stdout",
     "output_type": "stream",
     "text": [
      "\n",
      "*** Feature extraction finished ***\n",
      "*** Feature extraction started ***\n"
     ]
    },
    {
     "name": "stderr",
     "output_type": "stream",
     "text": [
      "/var/folders/qz/0cbhxg4s7jsf6cyzrm1_nkq40000gn/T/ipykernel_29437/1350890044.py:7: UserWarning: Using default sampling frequency set in configuration file.\n",
      "  X = tsfel.time_series_features_extractor(cfg, df)\n"
     ]
    },
    {
     "data": {
      "text/html": [
       "\n",
       "              <p>\n",
       "                  Progress: 100% Complete\n",
       "              <p/>\n",
       "              <progress\n",
       "                  value='60'\n",
       "                  max='60',\n",
       "                  style='width: 25%',\n",
       "              >\n",
       "                  60\n",
       "              </progress>\n",
       "\n",
       "    "
      ],
      "text/plain": [
       "<IPython.core.display.HTML object>"
      ]
     },
     "metadata": {},
     "output_type": "display_data"
    },
    {
     "name": "stdout",
     "output_type": "stream",
     "text": [
      "\n",
      "*** Feature extraction finished ***\n",
      "*** Feature extraction started ***\n"
     ]
    },
    {
     "name": "stderr",
     "output_type": "stream",
     "text": [
      "/var/folders/qz/0cbhxg4s7jsf6cyzrm1_nkq40000gn/T/ipykernel_29437/1350890044.py:7: UserWarning: Using default sampling frequency set in configuration file.\n",
      "  X = tsfel.time_series_features_extractor(cfg, df)\n"
     ]
    },
    {
     "data": {
      "text/html": [
       "\n",
       "              <p>\n",
       "                  Progress: 100% Complete\n",
       "              <p/>\n",
       "              <progress\n",
       "                  value='60'\n",
       "                  max='60',\n",
       "                  style='width: 25%',\n",
       "              >\n",
       "                  60\n",
       "              </progress>\n",
       "\n",
       "    "
      ],
      "text/plain": [
       "<IPython.core.display.HTML object>"
      ]
     },
     "metadata": {},
     "output_type": "display_data"
    },
    {
     "name": "stdout",
     "output_type": "stream",
     "text": [
      "\n",
      "*** Feature extraction finished ***\n",
      "*** Feature extraction started ***\n"
     ]
    },
    {
     "name": "stderr",
     "output_type": "stream",
     "text": [
      "/var/folders/qz/0cbhxg4s7jsf6cyzrm1_nkq40000gn/T/ipykernel_29437/1350890044.py:7: UserWarning: Using default sampling frequency set in configuration file.\n",
      "  X = tsfel.time_series_features_extractor(cfg, df)\n"
     ]
    },
    {
     "data": {
      "text/html": [
       "\n",
       "              <p>\n",
       "                  Progress: 100% Complete\n",
       "              <p/>\n",
       "              <progress\n",
       "                  value='60'\n",
       "                  max='60',\n",
       "                  style='width: 25%',\n",
       "              >\n",
       "                  60\n",
       "              </progress>\n",
       "\n",
       "    "
      ],
      "text/plain": [
       "<IPython.core.display.HTML object>"
      ]
     },
     "metadata": {},
     "output_type": "display_data"
    },
    {
     "name": "stdout",
     "output_type": "stream",
     "text": [
      "\n",
      "*** Feature extraction finished ***\n",
      "*** Feature extraction started ***\n"
     ]
    },
    {
     "name": "stderr",
     "output_type": "stream",
     "text": [
      "/var/folders/qz/0cbhxg4s7jsf6cyzrm1_nkq40000gn/T/ipykernel_29437/1350890044.py:7: UserWarning: Using default sampling frequency set in configuration file.\n",
      "  X = tsfel.time_series_features_extractor(cfg, df)\n"
     ]
    },
    {
     "data": {
      "text/html": [
       "\n",
       "              <p>\n",
       "                  Progress: 100% Complete\n",
       "              <p/>\n",
       "              <progress\n",
       "                  value='60'\n",
       "                  max='60',\n",
       "                  style='width: 25%',\n",
       "              >\n",
       "                  60\n",
       "              </progress>\n",
       "\n",
       "    "
      ],
      "text/plain": [
       "<IPython.core.display.HTML object>"
      ]
     },
     "metadata": {},
     "output_type": "display_data"
    },
    {
     "name": "stdout",
     "output_type": "stream",
     "text": [
      "\n",
      "*** Feature extraction finished ***\n",
      "*** Feature extraction started ***\n"
     ]
    },
    {
     "name": "stderr",
     "output_type": "stream",
     "text": [
      "/var/folders/qz/0cbhxg4s7jsf6cyzrm1_nkq40000gn/T/ipykernel_29437/1350890044.py:7: UserWarning: Using default sampling frequency set in configuration file.\n",
      "  X = tsfel.time_series_features_extractor(cfg, df)\n"
     ]
    },
    {
     "data": {
      "text/html": [
       "\n",
       "              <p>\n",
       "                  Progress: 100% Complete\n",
       "              <p/>\n",
       "              <progress\n",
       "                  value='60'\n",
       "                  max='60',\n",
       "                  style='width: 25%',\n",
       "              >\n",
       "                  60\n",
       "              </progress>\n",
       "\n",
       "    "
      ],
      "text/plain": [
       "<IPython.core.display.HTML object>"
      ]
     },
     "metadata": {},
     "output_type": "display_data"
    },
    {
     "name": "stdout",
     "output_type": "stream",
     "text": [
      "\n",
      "*** Feature extraction finished ***\n",
      "*** Feature extraction started ***\n"
     ]
    },
    {
     "name": "stderr",
     "output_type": "stream",
     "text": [
      "/var/folders/qz/0cbhxg4s7jsf6cyzrm1_nkq40000gn/T/ipykernel_29437/1350890044.py:7: UserWarning: Using default sampling frequency set in configuration file.\n",
      "  X = tsfel.time_series_features_extractor(cfg, df)\n"
     ]
    },
    {
     "data": {
      "text/html": [
       "\n",
       "              <p>\n",
       "                  Progress: 100% Complete\n",
       "              <p/>\n",
       "              <progress\n",
       "                  value='60'\n",
       "                  max='60',\n",
       "                  style='width: 25%',\n",
       "              >\n",
       "                  60\n",
       "              </progress>\n",
       "\n",
       "    "
      ],
      "text/plain": [
       "<IPython.core.display.HTML object>"
      ]
     },
     "metadata": {},
     "output_type": "display_data"
    },
    {
     "name": "stdout",
     "output_type": "stream",
     "text": [
      "\n",
      "*** Feature extraction finished ***\n",
      "*** Feature extraction started ***\n"
     ]
    },
    {
     "name": "stderr",
     "output_type": "stream",
     "text": [
      "/var/folders/qz/0cbhxg4s7jsf6cyzrm1_nkq40000gn/T/ipykernel_29437/1350890044.py:7: UserWarning: Using default sampling frequency set in configuration file.\n",
      "  X = tsfel.time_series_features_extractor(cfg, df)\n"
     ]
    },
    {
     "data": {
      "text/html": [
       "\n",
       "              <p>\n",
       "                  Progress: 100% Complete\n",
       "              <p/>\n",
       "              <progress\n",
       "                  value='60'\n",
       "                  max='60',\n",
       "                  style='width: 25%',\n",
       "              >\n",
       "                  60\n",
       "              </progress>\n",
       "\n",
       "    "
      ],
      "text/plain": [
       "<IPython.core.display.HTML object>"
      ]
     },
     "metadata": {},
     "output_type": "display_data"
    },
    {
     "name": "stdout",
     "output_type": "stream",
     "text": [
      "\n",
      "*** Feature extraction finished ***\n",
      "*** Feature extraction started ***\n"
     ]
    },
    {
     "name": "stderr",
     "output_type": "stream",
     "text": [
      "/var/folders/qz/0cbhxg4s7jsf6cyzrm1_nkq40000gn/T/ipykernel_29437/1350890044.py:7: UserWarning: Using default sampling frequency set in configuration file.\n",
      "  X = tsfel.time_series_features_extractor(cfg, df)\n"
     ]
    },
    {
     "data": {
      "text/html": [
       "\n",
       "              <p>\n",
       "                  Progress: 100% Complete\n",
       "              <p/>\n",
       "              <progress\n",
       "                  value='60'\n",
       "                  max='60',\n",
       "                  style='width: 25%',\n",
       "              >\n",
       "                  60\n",
       "              </progress>\n",
       "\n",
       "    "
      ],
      "text/plain": [
       "<IPython.core.display.HTML object>"
      ]
     },
     "metadata": {},
     "output_type": "display_data"
    },
    {
     "name": "stdout",
     "output_type": "stream",
     "text": [
      "\n",
      "*** Feature extraction finished ***\n",
      "*** Feature extraction started ***\n"
     ]
    },
    {
     "name": "stderr",
     "output_type": "stream",
     "text": [
      "/var/folders/qz/0cbhxg4s7jsf6cyzrm1_nkq40000gn/T/ipykernel_29437/1350890044.py:7: UserWarning: Using default sampling frequency set in configuration file.\n",
      "  X = tsfel.time_series_features_extractor(cfg, df)\n"
     ]
    },
    {
     "data": {
      "text/html": [
       "\n",
       "              <p>\n",
       "                  Progress: 100% Complete\n",
       "              <p/>\n",
       "              <progress\n",
       "                  value='60'\n",
       "                  max='60',\n",
       "                  style='width: 25%',\n",
       "              >\n",
       "                  60\n",
       "              </progress>\n",
       "\n",
       "    "
      ],
      "text/plain": [
       "<IPython.core.display.HTML object>"
      ]
     },
     "metadata": {},
     "output_type": "display_data"
    },
    {
     "name": "stdout",
     "output_type": "stream",
     "text": [
      "\n",
      "*** Feature extraction finished ***\n",
      "*** Feature extraction started ***\n"
     ]
    },
    {
     "name": "stderr",
     "output_type": "stream",
     "text": [
      "/var/folders/qz/0cbhxg4s7jsf6cyzrm1_nkq40000gn/T/ipykernel_29437/1350890044.py:7: UserWarning: Using default sampling frequency set in configuration file.\n",
      "  X = tsfel.time_series_features_extractor(cfg, df)\n"
     ]
    },
    {
     "data": {
      "text/html": [
       "\n",
       "              <p>\n",
       "                  Progress: 100% Complete\n",
       "              <p/>\n",
       "              <progress\n",
       "                  value='60'\n",
       "                  max='60',\n",
       "                  style='width: 25%',\n",
       "              >\n",
       "                  60\n",
       "              </progress>\n",
       "\n",
       "    "
      ],
      "text/plain": [
       "<IPython.core.display.HTML object>"
      ]
     },
     "metadata": {},
     "output_type": "display_data"
    },
    {
     "name": "stdout",
     "output_type": "stream",
     "text": [
      "\n",
      "*** Feature extraction finished ***\n",
      "*** Feature extraction started ***\n"
     ]
    },
    {
     "name": "stderr",
     "output_type": "stream",
     "text": [
      "/var/folders/qz/0cbhxg4s7jsf6cyzrm1_nkq40000gn/T/ipykernel_29437/1350890044.py:7: UserWarning: Using default sampling frequency set in configuration file.\n",
      "  X = tsfel.time_series_features_extractor(cfg, df)\n"
     ]
    },
    {
     "data": {
      "text/html": [
       "\n",
       "              <p>\n",
       "                  Progress: 100% Complete\n",
       "              <p/>\n",
       "              <progress\n",
       "                  value='60'\n",
       "                  max='60',\n",
       "                  style='width: 25%',\n",
       "              >\n",
       "                  60\n",
       "              </progress>\n",
       "\n",
       "    "
      ],
      "text/plain": [
       "<IPython.core.display.HTML object>"
      ]
     },
     "metadata": {},
     "output_type": "display_data"
    },
    {
     "name": "stdout",
     "output_type": "stream",
     "text": [
      "\n",
      "*** Feature extraction finished ***\n",
      "*** Feature extraction started ***\n"
     ]
    },
    {
     "name": "stderr",
     "output_type": "stream",
     "text": [
      "/var/folders/qz/0cbhxg4s7jsf6cyzrm1_nkq40000gn/T/ipykernel_29437/1350890044.py:7: UserWarning: Using default sampling frequency set in configuration file.\n",
      "  X = tsfel.time_series_features_extractor(cfg, df)\n"
     ]
    },
    {
     "data": {
      "text/html": [
       "\n",
       "              <p>\n",
       "                  Progress: 100% Complete\n",
       "              <p/>\n",
       "              <progress\n",
       "                  value='60'\n",
       "                  max='60',\n",
       "                  style='width: 25%',\n",
       "              >\n",
       "                  60\n",
       "              </progress>\n",
       "\n",
       "    "
      ],
      "text/plain": [
       "<IPython.core.display.HTML object>"
      ]
     },
     "metadata": {},
     "output_type": "display_data"
    },
    {
     "name": "stdout",
     "output_type": "stream",
     "text": [
      "\n",
      "*** Feature extraction finished ***\n",
      "*** Feature extraction started ***\n"
     ]
    },
    {
     "name": "stderr",
     "output_type": "stream",
     "text": [
      "/var/folders/qz/0cbhxg4s7jsf6cyzrm1_nkq40000gn/T/ipykernel_29437/1350890044.py:7: UserWarning: Using default sampling frequency set in configuration file.\n",
      "  X = tsfel.time_series_features_extractor(cfg, df)\n"
     ]
    },
    {
     "data": {
      "text/html": [
       "\n",
       "              <p>\n",
       "                  Progress: 100% Complete\n",
       "              <p/>\n",
       "              <progress\n",
       "                  value='60'\n",
       "                  max='60',\n",
       "                  style='width: 25%',\n",
       "              >\n",
       "                  60\n",
       "              </progress>\n",
       "\n",
       "    "
      ],
      "text/plain": [
       "<IPython.core.display.HTML object>"
      ]
     },
     "metadata": {},
     "output_type": "display_data"
    },
    {
     "name": "stdout",
     "output_type": "stream",
     "text": [
      "\n",
      "*** Feature extraction finished ***\n",
      "*** Feature extraction started ***\n"
     ]
    },
    {
     "name": "stderr",
     "output_type": "stream",
     "text": [
      "/var/folders/qz/0cbhxg4s7jsf6cyzrm1_nkq40000gn/T/ipykernel_29437/1350890044.py:7: UserWarning: Using default sampling frequency set in configuration file.\n",
      "  X = tsfel.time_series_features_extractor(cfg, df)\n"
     ]
    },
    {
     "data": {
      "text/html": [
       "\n",
       "              <p>\n",
       "                  Progress: 100% Complete\n",
       "              <p/>\n",
       "              <progress\n",
       "                  value='60'\n",
       "                  max='60',\n",
       "                  style='width: 25%',\n",
       "              >\n",
       "                  60\n",
       "              </progress>\n",
       "\n",
       "    "
      ],
      "text/plain": [
       "<IPython.core.display.HTML object>"
      ]
     },
     "metadata": {},
     "output_type": "display_data"
    },
    {
     "name": "stdout",
     "output_type": "stream",
     "text": [
      "\n",
      "*** Feature extraction finished ***\n",
      "*** Feature extraction started ***\n"
     ]
    },
    {
     "name": "stderr",
     "output_type": "stream",
     "text": [
      "/var/folders/qz/0cbhxg4s7jsf6cyzrm1_nkq40000gn/T/ipykernel_29437/1350890044.py:7: UserWarning: Using default sampling frequency set in configuration file.\n",
      "  X = tsfel.time_series_features_extractor(cfg, df)\n"
     ]
    },
    {
     "data": {
      "text/html": [
       "\n",
       "              <p>\n",
       "                  Progress: 100% Complete\n",
       "              <p/>\n",
       "              <progress\n",
       "                  value='60'\n",
       "                  max='60',\n",
       "                  style='width: 25%',\n",
       "              >\n",
       "                  60\n",
       "              </progress>\n",
       "\n",
       "    "
      ],
      "text/plain": [
       "<IPython.core.display.HTML object>"
      ]
     },
     "metadata": {},
     "output_type": "display_data"
    },
    {
     "name": "stdout",
     "output_type": "stream",
     "text": [
      "\n",
      "*** Feature extraction finished ***\n",
      "*** Feature extraction started ***\n"
     ]
    },
    {
     "name": "stderr",
     "output_type": "stream",
     "text": [
      "/var/folders/qz/0cbhxg4s7jsf6cyzrm1_nkq40000gn/T/ipykernel_29437/1350890044.py:7: UserWarning: Using default sampling frequency set in configuration file.\n",
      "  X = tsfel.time_series_features_extractor(cfg, df)\n"
     ]
    },
    {
     "data": {
      "text/html": [
       "\n",
       "              <p>\n",
       "                  Progress: 100% Complete\n",
       "              <p/>\n",
       "              <progress\n",
       "                  value='60'\n",
       "                  max='60',\n",
       "                  style='width: 25%',\n",
       "              >\n",
       "                  60\n",
       "              </progress>\n",
       "\n",
       "    "
      ],
      "text/plain": [
       "<IPython.core.display.HTML object>"
      ]
     },
     "metadata": {},
     "output_type": "display_data"
    },
    {
     "name": "stdout",
     "output_type": "stream",
     "text": [
      "\n",
      "*** Feature extraction finished ***\n",
      "*** Feature extraction started ***\n"
     ]
    },
    {
     "name": "stderr",
     "output_type": "stream",
     "text": [
      "/var/folders/qz/0cbhxg4s7jsf6cyzrm1_nkq40000gn/T/ipykernel_29437/1350890044.py:7: UserWarning: Using default sampling frequency set in configuration file.\n",
      "  X = tsfel.time_series_features_extractor(cfg, df)\n"
     ]
    },
    {
     "data": {
      "text/html": [
       "\n",
       "              <p>\n",
       "                  Progress: 100% Complete\n",
       "              <p/>\n",
       "              <progress\n",
       "                  value='60'\n",
       "                  max='60',\n",
       "                  style='width: 25%',\n",
       "              >\n",
       "                  60\n",
       "              </progress>\n",
       "\n",
       "    "
      ],
      "text/plain": [
       "<IPython.core.display.HTML object>"
      ]
     },
     "metadata": {},
     "output_type": "display_data"
    },
    {
     "name": "stdout",
     "output_type": "stream",
     "text": [
      "\n",
      "*** Feature extraction finished ***\n",
      "*** Feature extraction started ***\n"
     ]
    },
    {
     "name": "stderr",
     "output_type": "stream",
     "text": [
      "/var/folders/qz/0cbhxg4s7jsf6cyzrm1_nkq40000gn/T/ipykernel_29437/1350890044.py:7: UserWarning: Using default sampling frequency set in configuration file.\n",
      "  X = tsfel.time_series_features_extractor(cfg, df)\n"
     ]
    },
    {
     "data": {
      "text/html": [
       "\n",
       "              <p>\n",
       "                  Progress: 100% Complete\n",
       "              <p/>\n",
       "              <progress\n",
       "                  value='60'\n",
       "                  max='60',\n",
       "                  style='width: 25%',\n",
       "              >\n",
       "                  60\n",
       "              </progress>\n",
       "\n",
       "    "
      ],
      "text/plain": [
       "<IPython.core.display.HTML object>"
      ]
     },
     "metadata": {},
     "output_type": "display_data"
    },
    {
     "name": "stdout",
     "output_type": "stream",
     "text": [
      "\n",
      "*** Feature extraction finished ***\n",
      "*** Feature extraction started ***\n"
     ]
    },
    {
     "name": "stderr",
     "output_type": "stream",
     "text": [
      "/var/folders/qz/0cbhxg4s7jsf6cyzrm1_nkq40000gn/T/ipykernel_29437/1350890044.py:7: UserWarning: Using default sampling frequency set in configuration file.\n",
      "  X = tsfel.time_series_features_extractor(cfg, df)\n"
     ]
    },
    {
     "data": {
      "text/html": [
       "\n",
       "              <p>\n",
       "                  Progress: 100% Complete\n",
       "              <p/>\n",
       "              <progress\n",
       "                  value='60'\n",
       "                  max='60',\n",
       "                  style='width: 25%',\n",
       "              >\n",
       "                  60\n",
       "              </progress>\n",
       "\n",
       "    "
      ],
      "text/plain": [
       "<IPython.core.display.HTML object>"
      ]
     },
     "metadata": {},
     "output_type": "display_data"
    },
    {
     "name": "stdout",
     "output_type": "stream",
     "text": [
      "\n",
      "*** Feature extraction finished ***\n",
      "*** Feature extraction started ***\n"
     ]
    },
    {
     "name": "stderr",
     "output_type": "stream",
     "text": [
      "/var/folders/qz/0cbhxg4s7jsf6cyzrm1_nkq40000gn/T/ipykernel_29437/1350890044.py:7: UserWarning: Using default sampling frequency set in configuration file.\n",
      "  X = tsfel.time_series_features_extractor(cfg, df)\n"
     ]
    },
    {
     "data": {
      "text/html": [
       "\n",
       "              <p>\n",
       "                  Progress: 100% Complete\n",
       "              <p/>\n",
       "              <progress\n",
       "                  value='60'\n",
       "                  max='60',\n",
       "                  style='width: 25%',\n",
       "              >\n",
       "                  60\n",
       "              </progress>\n",
       "\n",
       "    "
      ],
      "text/plain": [
       "<IPython.core.display.HTML object>"
      ]
     },
     "metadata": {},
     "output_type": "display_data"
    },
    {
     "name": "stdout",
     "output_type": "stream",
     "text": [
      "\n",
      "*** Feature extraction finished ***\n",
      "*** Feature extraction started ***\n"
     ]
    },
    {
     "name": "stderr",
     "output_type": "stream",
     "text": [
      "/var/folders/qz/0cbhxg4s7jsf6cyzrm1_nkq40000gn/T/ipykernel_29437/1350890044.py:7: UserWarning: Using default sampling frequency set in configuration file.\n",
      "  X = tsfel.time_series_features_extractor(cfg, df)\n"
     ]
    },
    {
     "data": {
      "text/html": [
       "\n",
       "              <p>\n",
       "                  Progress: 100% Complete\n",
       "              <p/>\n",
       "              <progress\n",
       "                  value='60'\n",
       "                  max='60',\n",
       "                  style='width: 25%',\n",
       "              >\n",
       "                  60\n",
       "              </progress>\n",
       "\n",
       "    "
      ],
      "text/plain": [
       "<IPython.core.display.HTML object>"
      ]
     },
     "metadata": {},
     "output_type": "display_data"
    },
    {
     "name": "stdout",
     "output_type": "stream",
     "text": [
      "\n",
      "*** Feature extraction finished ***\n",
      "*** Feature extraction started ***\n"
     ]
    },
    {
     "name": "stderr",
     "output_type": "stream",
     "text": [
      "/var/folders/qz/0cbhxg4s7jsf6cyzrm1_nkq40000gn/T/ipykernel_29437/1350890044.py:7: UserWarning: Using default sampling frequency set in configuration file.\n",
      "  X = tsfel.time_series_features_extractor(cfg, df)\n"
     ]
    },
    {
     "data": {
      "text/html": [
       "\n",
       "              <p>\n",
       "                  Progress: 100% Complete\n",
       "              <p/>\n",
       "              <progress\n",
       "                  value='60'\n",
       "                  max='60',\n",
       "                  style='width: 25%',\n",
       "              >\n",
       "                  60\n",
       "              </progress>\n",
       "\n",
       "    "
      ],
      "text/plain": [
       "<IPython.core.display.HTML object>"
      ]
     },
     "metadata": {},
     "output_type": "display_data"
    },
    {
     "name": "stdout",
     "output_type": "stream",
     "text": [
      "\n",
      "*** Feature extraction finished ***\n",
      "*** Feature extraction started ***\n"
     ]
    },
    {
     "name": "stderr",
     "output_type": "stream",
     "text": [
      "/var/folders/qz/0cbhxg4s7jsf6cyzrm1_nkq40000gn/T/ipykernel_29437/1350890044.py:7: UserWarning: Using default sampling frequency set in configuration file.\n",
      "  X = tsfel.time_series_features_extractor(cfg, df)\n"
     ]
    },
    {
     "data": {
      "text/html": [
       "\n",
       "              <p>\n",
       "                  Progress: 100% Complete\n",
       "              <p/>\n",
       "              <progress\n",
       "                  value='60'\n",
       "                  max='60',\n",
       "                  style='width: 25%',\n",
       "              >\n",
       "                  60\n",
       "              </progress>\n",
       "\n",
       "    "
      ],
      "text/plain": [
       "<IPython.core.display.HTML object>"
      ]
     },
     "metadata": {},
     "output_type": "display_data"
    },
    {
     "name": "stdout",
     "output_type": "stream",
     "text": [
      "\n",
      "*** Feature extraction finished ***\n",
      "*** Feature extraction started ***\n"
     ]
    },
    {
     "name": "stderr",
     "output_type": "stream",
     "text": [
      "/var/folders/qz/0cbhxg4s7jsf6cyzrm1_nkq40000gn/T/ipykernel_29437/1350890044.py:7: UserWarning: Using default sampling frequency set in configuration file.\n",
      "  X = tsfel.time_series_features_extractor(cfg, df)\n"
     ]
    },
    {
     "data": {
      "text/html": [
       "\n",
       "              <p>\n",
       "                  Progress: 100% Complete\n",
       "              <p/>\n",
       "              <progress\n",
       "                  value='60'\n",
       "                  max='60',\n",
       "                  style='width: 25%',\n",
       "              >\n",
       "                  60\n",
       "              </progress>\n",
       "\n",
       "    "
      ],
      "text/plain": [
       "<IPython.core.display.HTML object>"
      ]
     },
     "metadata": {},
     "output_type": "display_data"
    },
    {
     "name": "stdout",
     "output_type": "stream",
     "text": [
      "\n",
      "*** Feature extraction finished ***\n",
      "*** Feature extraction started ***\n"
     ]
    },
    {
     "name": "stderr",
     "output_type": "stream",
     "text": [
      "/var/folders/qz/0cbhxg4s7jsf6cyzrm1_nkq40000gn/T/ipykernel_29437/1350890044.py:7: UserWarning: Using default sampling frequency set in configuration file.\n",
      "  X = tsfel.time_series_features_extractor(cfg, df)\n"
     ]
    },
    {
     "data": {
      "text/html": [
       "\n",
       "              <p>\n",
       "                  Progress: 100% Complete\n",
       "              <p/>\n",
       "              <progress\n",
       "                  value='60'\n",
       "                  max='60',\n",
       "                  style='width: 25%',\n",
       "              >\n",
       "                  60\n",
       "              </progress>\n",
       "\n",
       "    "
      ],
      "text/plain": [
       "<IPython.core.display.HTML object>"
      ]
     },
     "metadata": {},
     "output_type": "display_data"
    },
    {
     "name": "stdout",
     "output_type": "stream",
     "text": [
      "\n",
      "*** Feature extraction finished ***\n",
      "*** Feature extraction started ***\n"
     ]
    },
    {
     "name": "stderr",
     "output_type": "stream",
     "text": [
      "/var/folders/qz/0cbhxg4s7jsf6cyzrm1_nkq40000gn/T/ipykernel_29437/1350890044.py:7: UserWarning: Using default sampling frequency set in configuration file.\n",
      "  X = tsfel.time_series_features_extractor(cfg, df)\n"
     ]
    },
    {
     "data": {
      "text/html": [
       "\n",
       "              <p>\n",
       "                  Progress: 100% Complete\n",
       "              <p/>\n",
       "              <progress\n",
       "                  value='60'\n",
       "                  max='60',\n",
       "                  style='width: 25%',\n",
       "              >\n",
       "                  60\n",
       "              </progress>\n",
       "\n",
       "    "
      ],
      "text/plain": [
       "<IPython.core.display.HTML object>"
      ]
     },
     "metadata": {},
     "output_type": "display_data"
    },
    {
     "name": "stdout",
     "output_type": "stream",
     "text": [
      "\n",
      "*** Feature extraction finished ***\n",
      "*** Feature extraction started ***\n"
     ]
    },
    {
     "name": "stderr",
     "output_type": "stream",
     "text": [
      "/var/folders/qz/0cbhxg4s7jsf6cyzrm1_nkq40000gn/T/ipykernel_29437/1350890044.py:7: UserWarning: Using default sampling frequency set in configuration file.\n",
      "  X = tsfel.time_series_features_extractor(cfg, df)\n"
     ]
    },
    {
     "data": {
      "text/html": [
       "\n",
       "              <p>\n",
       "                  Progress: 100% Complete\n",
       "              <p/>\n",
       "              <progress\n",
       "                  value='60'\n",
       "                  max='60',\n",
       "                  style='width: 25%',\n",
       "              >\n",
       "                  60\n",
       "              </progress>\n",
       "\n",
       "    "
      ],
      "text/plain": [
       "<IPython.core.display.HTML object>"
      ]
     },
     "metadata": {},
     "output_type": "display_data"
    },
    {
     "name": "stdout",
     "output_type": "stream",
     "text": [
      "\n",
      "*** Feature extraction finished ***\n",
      "*** Feature extraction started ***\n"
     ]
    },
    {
     "name": "stderr",
     "output_type": "stream",
     "text": [
      "/var/folders/qz/0cbhxg4s7jsf6cyzrm1_nkq40000gn/T/ipykernel_29437/1350890044.py:7: UserWarning: Using default sampling frequency set in configuration file.\n",
      "  X = tsfel.time_series_features_extractor(cfg, df)\n"
     ]
    },
    {
     "data": {
      "text/html": [
       "\n",
       "              <p>\n",
       "                  Progress: 100% Complete\n",
       "              <p/>\n",
       "              <progress\n",
       "                  value='60'\n",
       "                  max='60',\n",
       "                  style='width: 25%',\n",
       "              >\n",
       "                  60\n",
       "              </progress>\n",
       "\n",
       "    "
      ],
      "text/plain": [
       "<IPython.core.display.HTML object>"
      ]
     },
     "metadata": {},
     "output_type": "display_data"
    },
    {
     "name": "stdout",
     "output_type": "stream",
     "text": [
      "\n",
      "*** Feature extraction finished ***\n",
      "*** Feature extraction started ***\n"
     ]
    },
    {
     "name": "stderr",
     "output_type": "stream",
     "text": [
      "/var/folders/qz/0cbhxg4s7jsf6cyzrm1_nkq40000gn/T/ipykernel_29437/1350890044.py:7: UserWarning: Using default sampling frequency set in configuration file.\n",
      "  X = tsfel.time_series_features_extractor(cfg, df)\n"
     ]
    },
    {
     "data": {
      "text/html": [
       "\n",
       "              <p>\n",
       "                  Progress: 100% Complete\n",
       "              <p/>\n",
       "              <progress\n",
       "                  value='60'\n",
       "                  max='60',\n",
       "                  style='width: 25%',\n",
       "              >\n",
       "                  60\n",
       "              </progress>\n",
       "\n",
       "    "
      ],
      "text/plain": [
       "<IPython.core.display.HTML object>"
      ]
     },
     "metadata": {},
     "output_type": "display_data"
    },
    {
     "name": "stdout",
     "output_type": "stream",
     "text": [
      "\n",
      "*** Feature extraction finished ***\n",
      "*** Feature extraction started ***\n"
     ]
    },
    {
     "name": "stderr",
     "output_type": "stream",
     "text": [
      "/var/folders/qz/0cbhxg4s7jsf6cyzrm1_nkq40000gn/T/ipykernel_29437/1350890044.py:7: UserWarning: Using default sampling frequency set in configuration file.\n",
      "  X = tsfel.time_series_features_extractor(cfg, df)\n"
     ]
    },
    {
     "data": {
      "text/html": [
       "\n",
       "              <p>\n",
       "                  Progress: 100% Complete\n",
       "              <p/>\n",
       "              <progress\n",
       "                  value='60'\n",
       "                  max='60',\n",
       "                  style='width: 25%',\n",
       "              >\n",
       "                  60\n",
       "              </progress>\n",
       "\n",
       "    "
      ],
      "text/plain": [
       "<IPython.core.display.HTML object>"
      ]
     },
     "metadata": {},
     "output_type": "display_data"
    },
    {
     "name": "stdout",
     "output_type": "stream",
     "text": [
      "\n",
      "*** Feature extraction finished ***\n",
      "*** Feature extraction started ***\n"
     ]
    },
    {
     "name": "stderr",
     "output_type": "stream",
     "text": [
      "/var/folders/qz/0cbhxg4s7jsf6cyzrm1_nkq40000gn/T/ipykernel_29437/1350890044.py:7: UserWarning: Using default sampling frequency set in configuration file.\n",
      "  X = tsfel.time_series_features_extractor(cfg, df)\n"
     ]
    },
    {
     "data": {
      "text/html": [
       "\n",
       "              <p>\n",
       "                  Progress: 100% Complete\n",
       "              <p/>\n",
       "              <progress\n",
       "                  value='60'\n",
       "                  max='60',\n",
       "                  style='width: 25%',\n",
       "              >\n",
       "                  60\n",
       "              </progress>\n",
       "\n",
       "    "
      ],
      "text/plain": [
       "<IPython.core.display.HTML object>"
      ]
     },
     "metadata": {},
     "output_type": "display_data"
    },
    {
     "name": "stdout",
     "output_type": "stream",
     "text": [
      "\n",
      "*** Feature extraction finished ***\n",
      "*** Feature extraction started ***\n"
     ]
    },
    {
     "name": "stderr",
     "output_type": "stream",
     "text": [
      "/var/folders/qz/0cbhxg4s7jsf6cyzrm1_nkq40000gn/T/ipykernel_29437/1350890044.py:7: UserWarning: Using default sampling frequency set in configuration file.\n",
      "  X = tsfel.time_series_features_extractor(cfg, df)\n"
     ]
    },
    {
     "data": {
      "text/html": [
       "\n",
       "              <p>\n",
       "                  Progress: 100% Complete\n",
       "              <p/>\n",
       "              <progress\n",
       "                  value='60'\n",
       "                  max='60',\n",
       "                  style='width: 25%',\n",
       "              >\n",
       "                  60\n",
       "              </progress>\n",
       "\n",
       "    "
      ],
      "text/plain": [
       "<IPython.core.display.HTML object>"
      ]
     },
     "metadata": {},
     "output_type": "display_data"
    },
    {
     "name": "stdout",
     "output_type": "stream",
     "text": [
      "\n",
      "*** Feature extraction finished ***\n",
      "*** Feature extraction started ***\n"
     ]
    },
    {
     "name": "stderr",
     "output_type": "stream",
     "text": [
      "/var/folders/qz/0cbhxg4s7jsf6cyzrm1_nkq40000gn/T/ipykernel_29437/1350890044.py:7: UserWarning: Using default sampling frequency set in configuration file.\n",
      "  X = tsfel.time_series_features_extractor(cfg, df)\n"
     ]
    },
    {
     "data": {
      "text/html": [
       "\n",
       "              <p>\n",
       "                  Progress: 100% Complete\n",
       "              <p/>\n",
       "              <progress\n",
       "                  value='60'\n",
       "                  max='60',\n",
       "                  style='width: 25%',\n",
       "              >\n",
       "                  60\n",
       "              </progress>\n",
       "\n",
       "    "
      ],
      "text/plain": [
       "<IPython.core.display.HTML object>"
      ]
     },
     "metadata": {},
     "output_type": "display_data"
    },
    {
     "name": "stdout",
     "output_type": "stream",
     "text": [
      "\n",
      "*** Feature extraction finished ***\n",
      "*** Feature extraction started ***\n"
     ]
    },
    {
     "name": "stderr",
     "output_type": "stream",
     "text": [
      "/var/folders/qz/0cbhxg4s7jsf6cyzrm1_nkq40000gn/T/ipykernel_29437/1350890044.py:7: UserWarning: Using default sampling frequency set in configuration file.\n",
      "  X = tsfel.time_series_features_extractor(cfg, df)\n"
     ]
    },
    {
     "data": {
      "text/html": [
       "\n",
       "              <p>\n",
       "                  Progress: 100% Complete\n",
       "              <p/>\n",
       "              <progress\n",
       "                  value='60'\n",
       "                  max='60',\n",
       "                  style='width: 25%',\n",
       "              >\n",
       "                  60\n",
       "              </progress>\n",
       "\n",
       "    "
      ],
      "text/plain": [
       "<IPython.core.display.HTML object>"
      ]
     },
     "metadata": {},
     "output_type": "display_data"
    },
    {
     "name": "stdout",
     "output_type": "stream",
     "text": [
      "\n",
      "*** Feature extraction finished ***\n",
      "*** Feature extraction started ***\n"
     ]
    },
    {
     "name": "stderr",
     "output_type": "stream",
     "text": [
      "/var/folders/qz/0cbhxg4s7jsf6cyzrm1_nkq40000gn/T/ipykernel_29437/1350890044.py:7: UserWarning: Using default sampling frequency set in configuration file.\n",
      "  X = tsfel.time_series_features_extractor(cfg, df)\n"
     ]
    },
    {
     "data": {
      "text/html": [
       "\n",
       "              <p>\n",
       "                  Progress: 100% Complete\n",
       "              <p/>\n",
       "              <progress\n",
       "                  value='60'\n",
       "                  max='60',\n",
       "                  style='width: 25%',\n",
       "              >\n",
       "                  60\n",
       "              </progress>\n",
       "\n",
       "    "
      ],
      "text/plain": [
       "<IPython.core.display.HTML object>"
      ]
     },
     "metadata": {},
     "output_type": "display_data"
    },
    {
     "name": "stdout",
     "output_type": "stream",
     "text": [
      "\n",
      "*** Feature extraction finished ***\n",
      "*** Feature extraction started ***\n"
     ]
    },
    {
     "name": "stderr",
     "output_type": "stream",
     "text": [
      "/var/folders/qz/0cbhxg4s7jsf6cyzrm1_nkq40000gn/T/ipykernel_29437/1350890044.py:7: UserWarning: Using default sampling frequency set in configuration file.\n",
      "  X = tsfel.time_series_features_extractor(cfg, df)\n"
     ]
    },
    {
     "data": {
      "text/html": [
       "\n",
       "              <p>\n",
       "                  Progress: 100% Complete\n",
       "              <p/>\n",
       "              <progress\n",
       "                  value='60'\n",
       "                  max='60',\n",
       "                  style='width: 25%',\n",
       "              >\n",
       "                  60\n",
       "              </progress>\n",
       "\n",
       "    "
      ],
      "text/plain": [
       "<IPython.core.display.HTML object>"
      ]
     },
     "metadata": {},
     "output_type": "display_data"
    },
    {
     "name": "stdout",
     "output_type": "stream",
     "text": [
      "\n",
      "*** Feature extraction finished ***\n",
      "*** Feature extraction started ***\n"
     ]
    },
    {
     "name": "stderr",
     "output_type": "stream",
     "text": [
      "/var/folders/qz/0cbhxg4s7jsf6cyzrm1_nkq40000gn/T/ipykernel_29437/1350890044.py:7: UserWarning: Using default sampling frequency set in configuration file.\n",
      "  X = tsfel.time_series_features_extractor(cfg, df)\n"
     ]
    },
    {
     "data": {
      "text/html": [
       "\n",
       "              <p>\n",
       "                  Progress: 100% Complete\n",
       "              <p/>\n",
       "              <progress\n",
       "                  value='60'\n",
       "                  max='60',\n",
       "                  style='width: 25%',\n",
       "              >\n",
       "                  60\n",
       "              </progress>\n",
       "\n",
       "    "
      ],
      "text/plain": [
       "<IPython.core.display.HTML object>"
      ]
     },
     "metadata": {},
     "output_type": "display_data"
    },
    {
     "name": "stdout",
     "output_type": "stream",
     "text": [
      "\n",
      "*** Feature extraction finished ***\n",
      "*** Feature extraction started ***\n"
     ]
    },
    {
     "name": "stderr",
     "output_type": "stream",
     "text": [
      "/var/folders/qz/0cbhxg4s7jsf6cyzrm1_nkq40000gn/T/ipykernel_29437/1350890044.py:7: UserWarning: Using default sampling frequency set in configuration file.\n",
      "  X = tsfel.time_series_features_extractor(cfg, df)\n"
     ]
    },
    {
     "data": {
      "text/html": [
       "\n",
       "              <p>\n",
       "                  Progress: 100% Complete\n",
       "              <p/>\n",
       "              <progress\n",
       "                  value='60'\n",
       "                  max='60',\n",
       "                  style='width: 25%',\n",
       "              >\n",
       "                  60\n",
       "              </progress>\n",
       "\n",
       "    "
      ],
      "text/plain": [
       "<IPython.core.display.HTML object>"
      ]
     },
     "metadata": {},
     "output_type": "display_data"
    },
    {
     "name": "stdout",
     "output_type": "stream",
     "text": [
      "\n",
      "*** Feature extraction finished ***\n",
      "*** Feature extraction started ***\n"
     ]
    },
    {
     "name": "stderr",
     "output_type": "stream",
     "text": [
      "/var/folders/qz/0cbhxg4s7jsf6cyzrm1_nkq40000gn/T/ipykernel_29437/1350890044.py:7: UserWarning: Using default sampling frequency set in configuration file.\n",
      "  X = tsfel.time_series_features_extractor(cfg, df)\n"
     ]
    },
    {
     "data": {
      "text/html": [
       "\n",
       "              <p>\n",
       "                  Progress: 100% Complete\n",
       "              <p/>\n",
       "              <progress\n",
       "                  value='60'\n",
       "                  max='60',\n",
       "                  style='width: 25%',\n",
       "              >\n",
       "                  60\n",
       "              </progress>\n",
       "\n",
       "    "
      ],
      "text/plain": [
       "<IPython.core.display.HTML object>"
      ]
     },
     "metadata": {},
     "output_type": "display_data"
    },
    {
     "name": "stdout",
     "output_type": "stream",
     "text": [
      "\n",
      "*** Feature extraction finished ***\n",
      "*** Feature extraction started ***\n"
     ]
    },
    {
     "name": "stderr",
     "output_type": "stream",
     "text": [
      "/var/folders/qz/0cbhxg4s7jsf6cyzrm1_nkq40000gn/T/ipykernel_29437/1350890044.py:7: UserWarning: Using default sampling frequency set in configuration file.\n",
      "  X = tsfel.time_series_features_extractor(cfg, df)\n"
     ]
    },
    {
     "data": {
      "text/html": [
       "\n",
       "              <p>\n",
       "                  Progress: 100% Complete\n",
       "              <p/>\n",
       "              <progress\n",
       "                  value='60'\n",
       "                  max='60',\n",
       "                  style='width: 25%',\n",
       "              >\n",
       "                  60\n",
       "              </progress>\n",
       "\n",
       "    "
      ],
      "text/plain": [
       "<IPython.core.display.HTML object>"
      ]
     },
     "metadata": {},
     "output_type": "display_data"
    },
    {
     "name": "stdout",
     "output_type": "stream",
     "text": [
      "\n",
      "*** Feature extraction finished ***\n",
      "*** Feature extraction started ***\n"
     ]
    },
    {
     "name": "stderr",
     "output_type": "stream",
     "text": [
      "/var/folders/qz/0cbhxg4s7jsf6cyzrm1_nkq40000gn/T/ipykernel_29437/1350890044.py:7: UserWarning: Using default sampling frequency set in configuration file.\n",
      "  X = tsfel.time_series_features_extractor(cfg, df)\n"
     ]
    },
    {
     "data": {
      "text/html": [
       "\n",
       "              <p>\n",
       "                  Progress: 100% Complete\n",
       "              <p/>\n",
       "              <progress\n",
       "                  value='60'\n",
       "                  max='60',\n",
       "                  style='width: 25%',\n",
       "              >\n",
       "                  60\n",
       "              </progress>\n",
       "\n",
       "    "
      ],
      "text/plain": [
       "<IPython.core.display.HTML object>"
      ]
     },
     "metadata": {},
     "output_type": "display_data"
    },
    {
     "name": "stdout",
     "output_type": "stream",
     "text": [
      "\n",
      "*** Feature extraction finished ***\n",
      "*** Feature extraction started ***\n"
     ]
    },
    {
     "name": "stderr",
     "output_type": "stream",
     "text": [
      "/var/folders/qz/0cbhxg4s7jsf6cyzrm1_nkq40000gn/T/ipykernel_29437/1350890044.py:7: UserWarning: Using default sampling frequency set in configuration file.\n",
      "  X = tsfel.time_series_features_extractor(cfg, df)\n"
     ]
    },
    {
     "data": {
      "text/html": [
       "\n",
       "              <p>\n",
       "                  Progress: 100% Complete\n",
       "              <p/>\n",
       "              <progress\n",
       "                  value='60'\n",
       "                  max='60',\n",
       "                  style='width: 25%',\n",
       "              >\n",
       "                  60\n",
       "              </progress>\n",
       "\n",
       "    "
      ],
      "text/plain": [
       "<IPython.core.display.HTML object>"
      ]
     },
     "metadata": {},
     "output_type": "display_data"
    },
    {
     "name": "stdout",
     "output_type": "stream",
     "text": [
      "\n",
      "*** Feature extraction finished ***\n",
      "*** Feature extraction started ***\n"
     ]
    },
    {
     "name": "stderr",
     "output_type": "stream",
     "text": [
      "/var/folders/qz/0cbhxg4s7jsf6cyzrm1_nkq40000gn/T/ipykernel_29437/1350890044.py:7: UserWarning: Using default sampling frequency set in configuration file.\n",
      "  X = tsfel.time_series_features_extractor(cfg, df)\n"
     ]
    },
    {
     "data": {
      "text/html": [
       "\n",
       "              <p>\n",
       "                  Progress: 100% Complete\n",
       "              <p/>\n",
       "              <progress\n",
       "                  value='60'\n",
       "                  max='60',\n",
       "                  style='width: 25%',\n",
       "              >\n",
       "                  60\n",
       "              </progress>\n",
       "\n",
       "    "
      ],
      "text/plain": [
       "<IPython.core.display.HTML object>"
      ]
     },
     "metadata": {},
     "output_type": "display_data"
    },
    {
     "name": "stdout",
     "output_type": "stream",
     "text": [
      "\n",
      "*** Feature extraction finished ***\n",
      "*** Feature extraction started ***\n"
     ]
    },
    {
     "name": "stderr",
     "output_type": "stream",
     "text": [
      "/var/folders/qz/0cbhxg4s7jsf6cyzrm1_nkq40000gn/T/ipykernel_29437/1350890044.py:7: UserWarning: Using default sampling frequency set in configuration file.\n",
      "  X = tsfel.time_series_features_extractor(cfg, df)\n"
     ]
    },
    {
     "data": {
      "text/html": [
       "\n",
       "              <p>\n",
       "                  Progress: 100% Complete\n",
       "              <p/>\n",
       "              <progress\n",
       "                  value='60'\n",
       "                  max='60',\n",
       "                  style='width: 25%',\n",
       "              >\n",
       "                  60\n",
       "              </progress>\n",
       "\n",
       "    "
      ],
      "text/plain": [
       "<IPython.core.display.HTML object>"
      ]
     },
     "metadata": {},
     "output_type": "display_data"
    },
    {
     "name": "stdout",
     "output_type": "stream",
     "text": [
      "\n",
      "*** Feature extraction finished ***\n",
      "*** Feature extraction started ***\n"
     ]
    },
    {
     "name": "stderr",
     "output_type": "stream",
     "text": [
      "/var/folders/qz/0cbhxg4s7jsf6cyzrm1_nkq40000gn/T/ipykernel_29437/1350890044.py:7: UserWarning: Using default sampling frequency set in configuration file.\n",
      "  X = tsfel.time_series_features_extractor(cfg, df)\n"
     ]
    },
    {
     "data": {
      "text/html": [
       "\n",
       "              <p>\n",
       "                  Progress: 100% Complete\n",
       "              <p/>\n",
       "              <progress\n",
       "                  value='60'\n",
       "                  max='60',\n",
       "                  style='width: 25%',\n",
       "              >\n",
       "                  60\n",
       "              </progress>\n",
       "\n",
       "    "
      ],
      "text/plain": [
       "<IPython.core.display.HTML object>"
      ]
     },
     "metadata": {},
     "output_type": "display_data"
    },
    {
     "name": "stdout",
     "output_type": "stream",
     "text": [
      "\n",
      "*** Feature extraction finished ***\n",
      "*** Feature extraction started ***\n"
     ]
    },
    {
     "name": "stderr",
     "output_type": "stream",
     "text": [
      "/var/folders/qz/0cbhxg4s7jsf6cyzrm1_nkq40000gn/T/ipykernel_29437/1350890044.py:7: UserWarning: Using default sampling frequency set in configuration file.\n",
      "  X = tsfel.time_series_features_extractor(cfg, df)\n"
     ]
    },
    {
     "data": {
      "text/html": [
       "\n",
       "              <p>\n",
       "                  Progress: 100% Complete\n",
       "              <p/>\n",
       "              <progress\n",
       "                  value='60'\n",
       "                  max='60',\n",
       "                  style='width: 25%',\n",
       "              >\n",
       "                  60\n",
       "              </progress>\n",
       "\n",
       "    "
      ],
      "text/plain": [
       "<IPython.core.display.HTML object>"
      ]
     },
     "metadata": {},
     "output_type": "display_data"
    },
    {
     "name": "stdout",
     "output_type": "stream",
     "text": [
      "\n",
      "*** Feature extraction finished ***\n",
      "*** Feature extraction started ***\n"
     ]
    },
    {
     "name": "stderr",
     "output_type": "stream",
     "text": [
      "/var/folders/qz/0cbhxg4s7jsf6cyzrm1_nkq40000gn/T/ipykernel_29437/1350890044.py:7: UserWarning: Using default sampling frequency set in configuration file.\n",
      "  X = tsfel.time_series_features_extractor(cfg, df)\n"
     ]
    },
    {
     "data": {
      "text/html": [
       "\n",
       "              <p>\n",
       "                  Progress: 100% Complete\n",
       "              <p/>\n",
       "              <progress\n",
       "                  value='60'\n",
       "                  max='60',\n",
       "                  style='width: 25%',\n",
       "              >\n",
       "                  60\n",
       "              </progress>\n",
       "\n",
       "    "
      ],
      "text/plain": [
       "<IPython.core.display.HTML object>"
      ]
     },
     "metadata": {},
     "output_type": "display_data"
    },
    {
     "name": "stdout",
     "output_type": "stream",
     "text": [
      "\n",
      "*** Feature extraction finished ***\n",
      "*** Feature extraction started ***\n"
     ]
    },
    {
     "name": "stderr",
     "output_type": "stream",
     "text": [
      "/var/folders/qz/0cbhxg4s7jsf6cyzrm1_nkq40000gn/T/ipykernel_29437/1350890044.py:7: UserWarning: Using default sampling frequency set in configuration file.\n",
      "  X = tsfel.time_series_features_extractor(cfg, df)\n"
     ]
    },
    {
     "data": {
      "text/html": [
       "\n",
       "              <p>\n",
       "                  Progress: 100% Complete\n",
       "              <p/>\n",
       "              <progress\n",
       "                  value='60'\n",
       "                  max='60',\n",
       "                  style='width: 25%',\n",
       "              >\n",
       "                  60\n",
       "              </progress>\n",
       "\n",
       "    "
      ],
      "text/plain": [
       "<IPython.core.display.HTML object>"
      ]
     },
     "metadata": {},
     "output_type": "display_data"
    },
    {
     "name": "stdout",
     "output_type": "stream",
     "text": [
      "\n",
      "*** Feature extraction finished ***\n",
      "*** Feature extraction started ***\n"
     ]
    },
    {
     "name": "stderr",
     "output_type": "stream",
     "text": [
      "/var/folders/qz/0cbhxg4s7jsf6cyzrm1_nkq40000gn/T/ipykernel_29437/1350890044.py:7: UserWarning: Using default sampling frequency set in configuration file.\n",
      "  X = tsfel.time_series_features_extractor(cfg, df)\n"
     ]
    },
    {
     "data": {
      "text/html": [
       "\n",
       "              <p>\n",
       "                  Progress: 100% Complete\n",
       "              <p/>\n",
       "              <progress\n",
       "                  value='60'\n",
       "                  max='60',\n",
       "                  style='width: 25%',\n",
       "              >\n",
       "                  60\n",
       "              </progress>\n",
       "\n",
       "    "
      ],
      "text/plain": [
       "<IPython.core.display.HTML object>"
      ]
     },
     "metadata": {},
     "output_type": "display_data"
    },
    {
     "name": "stdout",
     "output_type": "stream",
     "text": [
      "\n",
      "*** Feature extraction finished ***\n",
      "*** Feature extraction started ***\n"
     ]
    },
    {
     "name": "stderr",
     "output_type": "stream",
     "text": [
      "/var/folders/qz/0cbhxg4s7jsf6cyzrm1_nkq40000gn/T/ipykernel_29437/1350890044.py:7: UserWarning: Using default sampling frequency set in configuration file.\n",
      "  X = tsfel.time_series_features_extractor(cfg, df)\n"
     ]
    },
    {
     "data": {
      "text/html": [
       "\n",
       "              <p>\n",
       "                  Progress: 100% Complete\n",
       "              <p/>\n",
       "              <progress\n",
       "                  value='60'\n",
       "                  max='60',\n",
       "                  style='width: 25%',\n",
       "              >\n",
       "                  60\n",
       "              </progress>\n",
       "\n",
       "    "
      ],
      "text/plain": [
       "<IPython.core.display.HTML object>"
      ]
     },
     "metadata": {},
     "output_type": "display_data"
    },
    {
     "name": "stdout",
     "output_type": "stream",
     "text": [
      "\n",
      "*** Feature extraction finished ***\n",
      "*** Feature extraction started ***\n"
     ]
    },
    {
     "name": "stderr",
     "output_type": "stream",
     "text": [
      "/var/folders/qz/0cbhxg4s7jsf6cyzrm1_nkq40000gn/T/ipykernel_29437/1350890044.py:7: UserWarning: Using default sampling frequency set in configuration file.\n",
      "  X = tsfel.time_series_features_extractor(cfg, df)\n"
     ]
    },
    {
     "data": {
      "text/html": [
       "\n",
       "              <p>\n",
       "                  Progress: 100% Complete\n",
       "              <p/>\n",
       "              <progress\n",
       "                  value='60'\n",
       "                  max='60',\n",
       "                  style='width: 25%',\n",
       "              >\n",
       "                  60\n",
       "              </progress>\n",
       "\n",
       "    "
      ],
      "text/plain": [
       "<IPython.core.display.HTML object>"
      ]
     },
     "metadata": {},
     "output_type": "display_data"
    },
    {
     "name": "stdout",
     "output_type": "stream",
     "text": [
      "\n",
      "*** Feature extraction finished ***\n",
      "*** Feature extraction started ***\n"
     ]
    },
    {
     "name": "stderr",
     "output_type": "stream",
     "text": [
      "/var/folders/qz/0cbhxg4s7jsf6cyzrm1_nkq40000gn/T/ipykernel_29437/1350890044.py:7: UserWarning: Using default sampling frequency set in configuration file.\n",
      "  X = tsfel.time_series_features_extractor(cfg, df)\n"
     ]
    },
    {
     "data": {
      "text/html": [
       "\n",
       "              <p>\n",
       "                  Progress: 100% Complete\n",
       "              <p/>\n",
       "              <progress\n",
       "                  value='60'\n",
       "                  max='60',\n",
       "                  style='width: 25%',\n",
       "              >\n",
       "                  60\n",
       "              </progress>\n",
       "\n",
       "    "
      ],
      "text/plain": [
       "<IPython.core.display.HTML object>"
      ]
     },
     "metadata": {},
     "output_type": "display_data"
    },
    {
     "name": "stdout",
     "output_type": "stream",
     "text": [
      "\n",
      "*** Feature extraction finished ***\n",
      "*** Feature extraction started ***\n"
     ]
    },
    {
     "name": "stderr",
     "output_type": "stream",
     "text": [
      "/var/folders/qz/0cbhxg4s7jsf6cyzrm1_nkq40000gn/T/ipykernel_29437/1350890044.py:7: UserWarning: Using default sampling frequency set in configuration file.\n",
      "  X = tsfel.time_series_features_extractor(cfg, df)\n"
     ]
    },
    {
     "data": {
      "text/html": [
       "\n",
       "              <p>\n",
       "                  Progress: 100% Complete\n",
       "              <p/>\n",
       "              <progress\n",
       "                  value='60'\n",
       "                  max='60',\n",
       "                  style='width: 25%',\n",
       "              >\n",
       "                  60\n",
       "              </progress>\n",
       "\n",
       "    "
      ],
      "text/plain": [
       "<IPython.core.display.HTML object>"
      ]
     },
     "metadata": {},
     "output_type": "display_data"
    },
    {
     "name": "stdout",
     "output_type": "stream",
     "text": [
      "\n",
      "*** Feature extraction finished ***\n",
      "*** Feature extraction started ***\n"
     ]
    },
    {
     "name": "stderr",
     "output_type": "stream",
     "text": [
      "/var/folders/qz/0cbhxg4s7jsf6cyzrm1_nkq40000gn/T/ipykernel_29437/1350890044.py:7: UserWarning: Using default sampling frequency set in configuration file.\n",
      "  X = tsfel.time_series_features_extractor(cfg, df)\n"
     ]
    },
    {
     "data": {
      "text/html": [
       "\n",
       "              <p>\n",
       "                  Progress: 100% Complete\n",
       "              <p/>\n",
       "              <progress\n",
       "                  value='60'\n",
       "                  max='60',\n",
       "                  style='width: 25%',\n",
       "              >\n",
       "                  60\n",
       "              </progress>\n",
       "\n",
       "    "
      ],
      "text/plain": [
       "<IPython.core.display.HTML object>"
      ]
     },
     "metadata": {},
     "output_type": "display_data"
    },
    {
     "name": "stdout",
     "output_type": "stream",
     "text": [
      "\n",
      "*** Feature extraction finished ***\n",
      "*** Feature extraction started ***\n"
     ]
    },
    {
     "name": "stderr",
     "output_type": "stream",
     "text": [
      "/var/folders/qz/0cbhxg4s7jsf6cyzrm1_nkq40000gn/T/ipykernel_29437/1350890044.py:7: UserWarning: Using default sampling frequency set in configuration file.\n",
      "  X = tsfel.time_series_features_extractor(cfg, df)\n"
     ]
    },
    {
     "data": {
      "text/html": [
       "\n",
       "              <p>\n",
       "                  Progress: 100% Complete\n",
       "              <p/>\n",
       "              <progress\n",
       "                  value='60'\n",
       "                  max='60',\n",
       "                  style='width: 25%',\n",
       "              >\n",
       "                  60\n",
       "              </progress>\n",
       "\n",
       "    "
      ],
      "text/plain": [
       "<IPython.core.display.HTML object>"
      ]
     },
     "metadata": {},
     "output_type": "display_data"
    },
    {
     "name": "stdout",
     "output_type": "stream",
     "text": [
      "\n",
      "*** Feature extraction finished ***\n",
      "*** Feature extraction started ***\n"
     ]
    },
    {
     "name": "stderr",
     "output_type": "stream",
     "text": [
      "/var/folders/qz/0cbhxg4s7jsf6cyzrm1_nkq40000gn/T/ipykernel_29437/1350890044.py:7: UserWarning: Using default sampling frequency set in configuration file.\n",
      "  X = tsfel.time_series_features_extractor(cfg, df)\n"
     ]
    },
    {
     "data": {
      "text/html": [
       "\n",
       "              <p>\n",
       "                  Progress: 100% Complete\n",
       "              <p/>\n",
       "              <progress\n",
       "                  value='60'\n",
       "                  max='60',\n",
       "                  style='width: 25%',\n",
       "              >\n",
       "                  60\n",
       "              </progress>\n",
       "\n",
       "    "
      ],
      "text/plain": [
       "<IPython.core.display.HTML object>"
      ]
     },
     "metadata": {},
     "output_type": "display_data"
    },
    {
     "name": "stdout",
     "output_type": "stream",
     "text": [
      "\n",
      "*** Feature extraction finished ***\n",
      "*** Feature extraction started ***\n"
     ]
    },
    {
     "name": "stderr",
     "output_type": "stream",
     "text": [
      "/var/folders/qz/0cbhxg4s7jsf6cyzrm1_nkq40000gn/T/ipykernel_29437/1350890044.py:7: UserWarning: Using default sampling frequency set in configuration file.\n",
      "  X = tsfel.time_series_features_extractor(cfg, df)\n"
     ]
    },
    {
     "data": {
      "text/html": [
       "\n",
       "              <p>\n",
       "                  Progress: 100% Complete\n",
       "              <p/>\n",
       "              <progress\n",
       "                  value='60'\n",
       "                  max='60',\n",
       "                  style='width: 25%',\n",
       "              >\n",
       "                  60\n",
       "              </progress>\n",
       "\n",
       "    "
      ],
      "text/plain": [
       "<IPython.core.display.HTML object>"
      ]
     },
     "metadata": {},
     "output_type": "display_data"
    },
    {
     "name": "stdout",
     "output_type": "stream",
     "text": [
      "\n",
      "*** Feature extraction finished ***\n"
     ]
    }
   ],
   "source": [
    "test_df = file_label_to_df(Test_files)"
   ]
  },
  {
   "cell_type": "code",
   "execution_count": 97,
   "id": "3e8043dd-a796-4904-b315-b4b34e41496a",
   "metadata": {
    "execution": {
     "iopub.execute_input": "2024-02-07T13:26:07.472780Z",
     "iopub.status.busy": "2024-02-07T13:26:07.472614Z",
     "iopub.status.idle": "2024-02-07T13:26:07.484164Z",
     "shell.execute_reply": "2024-02-07T13:26:07.483830Z",
     "shell.execute_reply.started": "2024-02-07T13:26:07.472735Z"
    }
   },
   "outputs": [
    {
     "data": {
      "text/html": [
       "<div>\n",
       "<style scoped>\n",
       "    .dataframe tbody tr th:only-of-type {\n",
       "        vertical-align: middle;\n",
       "    }\n",
       "\n",
       "    .dataframe tbody tr th {\n",
       "        vertical-align: top;\n",
       "    }\n",
       "\n",
       "    .dataframe thead th {\n",
       "        text-align: right;\n",
       "    }\n",
       "</style>\n",
       "<table border=\"1\" class=\"dataframe\">\n",
       "  <thead>\n",
       "    <tr style=\"text-align: right;\">\n",
       "      <th></th>\n",
       "      <th>emg_Absolute energy</th>\n",
       "      <th>emg_Area under the curve</th>\n",
       "      <th>emg_Autocorrelation</th>\n",
       "      <th>emg_Average power</th>\n",
       "      <th>emg_Centroid</th>\n",
       "      <th>emg_ECDF Percentile Count_0</th>\n",
       "      <th>emg_ECDF Percentile Count_1</th>\n",
       "      <th>emg_ECDF Percentile_0</th>\n",
       "      <th>emg_ECDF Percentile_1</th>\n",
       "      <th>emg_ECDF_0</th>\n",
       "      <th>...</th>\n",
       "      <th>eog_Wavelet variance_1</th>\n",
       "      <th>eog_Wavelet variance_2</th>\n",
       "      <th>eog_Wavelet variance_3</th>\n",
       "      <th>eog_Wavelet variance_4</th>\n",
       "      <th>eog_Wavelet variance_5</th>\n",
       "      <th>eog_Wavelet variance_6</th>\n",
       "      <th>eog_Wavelet variance_7</th>\n",
       "      <th>eog_Wavelet variance_8</th>\n",
       "      <th>eog_Zero crossing rate</th>\n",
       "      <th>target</th>\n",
       "    </tr>\n",
       "  </thead>\n",
       "  <tbody>\n",
       "    <tr>\n",
       "      <th>0</th>\n",
       "      <td>1672998.0</td>\n",
       "      <td>610.325</td>\n",
       "      <td>1672998.0</td>\n",
       "      <td>1.394281e+04</td>\n",
       "      <td>83.472238</td>\n",
       "      <td>2400.0</td>\n",
       "      <td>9600.0</td>\n",
       "      <td>-5.0</td>\n",
       "      <td>5.0</td>\n",
       "      <td>0.000083</td>\n",
       "      <td>...</td>\n",
       "      <td>312.805575</td>\n",
       "      <td>402.984029</td>\n",
       "      <td>531.839587</td>\n",
       "      <td>742.766206</td>\n",
       "      <td>1047.941502</td>\n",
       "      <td>1451.723703</td>\n",
       "      <td>1952.690820</td>\n",
       "      <td>2545.203459</td>\n",
       "      <td>823.0</td>\n",
       "      <td>0</td>\n",
       "    </tr>\n",
       "    <tr>\n",
       "      <th>1</th>\n",
       "      <td>1466910.0</td>\n",
       "      <td>542.950</td>\n",
       "      <td>1466910.0</td>\n",
       "      <td>1.222527e+04</td>\n",
       "      <td>45.037153</td>\n",
       "      <td>2400.0</td>\n",
       "      <td>9600.0</td>\n",
       "      <td>-3.0</td>\n",
       "      <td>3.0</td>\n",
       "      <td>0.000083</td>\n",
       "      <td>...</td>\n",
       "      <td>118.262878</td>\n",
       "      <td>158.838467</td>\n",
       "      <td>219.032676</td>\n",
       "      <td>302.217849</td>\n",
       "      <td>399.925294</td>\n",
       "      <td>516.062216</td>\n",
       "      <td>659.935191</td>\n",
       "      <td>836.320019</td>\n",
       "      <td>1161.0</td>\n",
       "      <td>0</td>\n",
       "    </tr>\n",
       "    <tr>\n",
       "      <th>2</th>\n",
       "      <td>718427256.0</td>\n",
       "      <td>13709.290</td>\n",
       "      <td>718427256.0</td>\n",
       "      <td>5.987393e+06</td>\n",
       "      <td>51.070324</td>\n",
       "      <td>2400.0</td>\n",
       "      <td>9600.0</td>\n",
       "      <td>-90.0</td>\n",
       "      <td>87.0</td>\n",
       "      <td>0.000083</td>\n",
       "      <td>...</td>\n",
       "      <td>20219.030794</td>\n",
       "      <td>44088.527796</td>\n",
       "      <td>66311.099699</td>\n",
       "      <td>89408.551213</td>\n",
       "      <td>115199.771348</td>\n",
       "      <td>142240.480844</td>\n",
       "      <td>169734.326887</td>\n",
       "      <td>198542.778906</td>\n",
       "      <td>1771.0</td>\n",
       "      <td>0</td>\n",
       "    </tr>\n",
       "    <tr>\n",
       "      <th>3</th>\n",
       "      <td>671957.0</td>\n",
       "      <td>467.090</td>\n",
       "      <td>671957.0</td>\n",
       "      <td>5.600108e+03</td>\n",
       "      <td>54.866946</td>\n",
       "      <td>2400.0</td>\n",
       "      <td>9600.0</td>\n",
       "      <td>-4.0</td>\n",
       "      <td>4.0</td>\n",
       "      <td>0.000083</td>\n",
       "      <td>...</td>\n",
       "      <td>80.907817</td>\n",
       "      <td>110.696839</td>\n",
       "      <td>132.833771</td>\n",
       "      <td>144.124027</td>\n",
       "      <td>151.458906</td>\n",
       "      <td>162.187499</td>\n",
       "      <td>181.761043</td>\n",
       "      <td>213.417242</td>\n",
       "      <td>1045.0</td>\n",
       "      <td>0</td>\n",
       "    </tr>\n",
       "    <tr>\n",
       "      <th>4</th>\n",
       "      <td>390662.0</td>\n",
       "      <td>386.815</td>\n",
       "      <td>390662.0</td>\n",
       "      <td>3.255788e+03</td>\n",
       "      <td>54.328858</td>\n",
       "      <td>2400.0</td>\n",
       "      <td>9600.0</td>\n",
       "      <td>-3.0</td>\n",
       "      <td>3.0</td>\n",
       "      <td>0.000083</td>\n",
       "      <td>...</td>\n",
       "      <td>86.823845</td>\n",
       "      <td>166.415030</td>\n",
       "      <td>212.138150</td>\n",
       "      <td>223.253162</td>\n",
       "      <td>209.894921</td>\n",
       "      <td>191.937017</td>\n",
       "      <td>184.054749</td>\n",
       "      <td>188.248626</td>\n",
       "      <td>3344.0</td>\n",
       "      <td>0</td>\n",
       "    </tr>\n",
       "    <tr>\n",
       "      <th>...</th>\n",
       "      <td>...</td>\n",
       "      <td>...</td>\n",
       "      <td>...</td>\n",
       "      <td>...</td>\n",
       "      <td>...</td>\n",
       "      <td>...</td>\n",
       "      <td>...</td>\n",
       "      <td>...</td>\n",
       "      <td>...</td>\n",
       "      <td>...</td>\n",
       "      <td>...</td>\n",
       "      <td>...</td>\n",
       "      <td>...</td>\n",
       "      <td>...</td>\n",
       "      <td>...</td>\n",
       "      <td>...</td>\n",
       "      <td>...</td>\n",
       "      <td>...</td>\n",
       "      <td>...</td>\n",
       "      <td>...</td>\n",
       "      <td>...</td>\n",
       "    </tr>\n",
       "    <tr>\n",
       "      <th>145</th>\n",
       "      <td>166633.0</td>\n",
       "      <td>223.085</td>\n",
       "      <td>166633.0</td>\n",
       "      <td>1.388724e+03</td>\n",
       "      <td>59.001880</td>\n",
       "      <td>2400.0</td>\n",
       "      <td>9600.0</td>\n",
       "      <td>-1.0</td>\n",
       "      <td>1.0</td>\n",
       "      <td>0.000083</td>\n",
       "      <td>...</td>\n",
       "      <td>57.656830</td>\n",
       "      <td>203.298559</td>\n",
       "      <td>436.840561</td>\n",
       "      <td>708.306747</td>\n",
       "      <td>922.171714</td>\n",
       "      <td>1001.589882</td>\n",
       "      <td>945.852363</td>\n",
       "      <td>815.744724</td>\n",
       "      <td>1181.0</td>\n",
       "      <td>2</td>\n",
       "    </tr>\n",
       "    <tr>\n",
       "      <th>146</th>\n",
       "      <td>124487.0</td>\n",
       "      <td>183.205</td>\n",
       "      <td>124487.0</td>\n",
       "      <td>1.037478e+03</td>\n",
       "      <td>62.526335</td>\n",
       "      <td>2400.0</td>\n",
       "      <td>9600.0</td>\n",
       "      <td>-1.0</td>\n",
       "      <td>1.0</td>\n",
       "      <td>0.000083</td>\n",
       "      <td>...</td>\n",
       "      <td>20.486270</td>\n",
       "      <td>46.088155</td>\n",
       "      <td>78.846813</td>\n",
       "      <td>130.556889</td>\n",
       "      <td>209.160531</td>\n",
       "      <td>318.979341</td>\n",
       "      <td>464.046388</td>\n",
       "      <td>648.693428</td>\n",
       "      <td>1215.0</td>\n",
       "      <td>2</td>\n",
       "    </tr>\n",
       "    <tr>\n",
       "      <th>147</th>\n",
       "      <td>109100.0</td>\n",
       "      <td>189.670</td>\n",
       "      <td>109100.0</td>\n",
       "      <td>9.092424e+02</td>\n",
       "      <td>61.840201</td>\n",
       "      <td>2400.0</td>\n",
       "      <td>9600.0</td>\n",
       "      <td>-2.0</td>\n",
       "      <td>2.0</td>\n",
       "      <td>0.000083</td>\n",
       "      <td>...</td>\n",
       "      <td>18.850814</td>\n",
       "      <td>57.894593</td>\n",
       "      <td>111.909476</td>\n",
       "      <td>169.506496</td>\n",
       "      <td>223.060587</td>\n",
       "      <td>272.887325</td>\n",
       "      <td>324.464020</td>\n",
       "      <td>383.430537</td>\n",
       "      <td>1003.0</td>\n",
       "      <td>2</td>\n",
       "    </tr>\n",
       "    <tr>\n",
       "      <th>148</th>\n",
       "      <td>6111.0</td>\n",
       "      <td>51.470</td>\n",
       "      <td>6111.0</td>\n",
       "      <td>5.092924e+01</td>\n",
       "      <td>58.553101</td>\n",
       "      <td>0.0</td>\n",
       "      <td>0.0</td>\n",
       "      <td>0.0</td>\n",
       "      <td>0.0</td>\n",
       "      <td>0.000083</td>\n",
       "      <td>...</td>\n",
       "      <td>19.274184</td>\n",
       "      <td>52.936426</td>\n",
       "      <td>91.009379</td>\n",
       "      <td>126.892207</td>\n",
       "      <td>156.416310</td>\n",
       "      <td>179.507661</td>\n",
       "      <td>199.278882</td>\n",
       "      <td>219.670885</td>\n",
       "      <td>1337.0</td>\n",
       "      <td>2</td>\n",
       "    </tr>\n",
       "    <tr>\n",
       "      <th>149</th>\n",
       "      <td>5618.0</td>\n",
       "      <td>47.680</td>\n",
       "      <td>5618.0</td>\n",
       "      <td>4.682057e+01</td>\n",
       "      <td>57.034607</td>\n",
       "      <td>0.0</td>\n",
       "      <td>0.0</td>\n",
       "      <td>0.0</td>\n",
       "      <td>0.0</td>\n",
       "      <td>0.000083</td>\n",
       "      <td>...</td>\n",
       "      <td>37.808844</td>\n",
       "      <td>98.699362</td>\n",
       "      <td>158.757989</td>\n",
       "      <td>207.515724</td>\n",
       "      <td>241.602848</td>\n",
       "      <td>263.997075</td>\n",
       "      <td>282.110388</td>\n",
       "      <td>303.167366</td>\n",
       "      <td>1294.0</td>\n",
       "      <td>2</td>\n",
       "    </tr>\n",
       "  </tbody>\n",
       "</table>\n",
       "<p>150 rows × 779 columns</p>\n",
       "</div>"
      ],
      "text/plain": [
       "     emg_Absolute energy  emg_Area under the curve  emg_Autocorrelation  \\\n",
       "0              1672998.0                   610.325            1672998.0   \n",
       "1              1466910.0                   542.950            1466910.0   \n",
       "2            718427256.0                 13709.290          718427256.0   \n",
       "3               671957.0                   467.090             671957.0   \n",
       "4               390662.0                   386.815             390662.0   \n",
       "..                   ...                       ...                  ...   \n",
       "145             166633.0                   223.085             166633.0   \n",
       "146             124487.0                   183.205             124487.0   \n",
       "147             109100.0                   189.670             109100.0   \n",
       "148               6111.0                    51.470               6111.0   \n",
       "149               5618.0                    47.680               5618.0   \n",
       "\n",
       "     emg_Average power  emg_Centroid  emg_ECDF Percentile Count_0  \\\n",
       "0         1.394281e+04     83.472238                       2400.0   \n",
       "1         1.222527e+04     45.037153                       2400.0   \n",
       "2         5.987393e+06     51.070324                       2400.0   \n",
       "3         5.600108e+03     54.866946                       2400.0   \n",
       "4         3.255788e+03     54.328858                       2400.0   \n",
       "..                 ...           ...                          ...   \n",
       "145       1.388724e+03     59.001880                       2400.0   \n",
       "146       1.037478e+03     62.526335                       2400.0   \n",
       "147       9.092424e+02     61.840201                       2400.0   \n",
       "148       5.092924e+01     58.553101                          0.0   \n",
       "149       4.682057e+01     57.034607                          0.0   \n",
       "\n",
       "     emg_ECDF Percentile Count_1  emg_ECDF Percentile_0  \\\n",
       "0                         9600.0                   -5.0   \n",
       "1                         9600.0                   -3.0   \n",
       "2                         9600.0                  -90.0   \n",
       "3                         9600.0                   -4.0   \n",
       "4                         9600.0                   -3.0   \n",
       "..                           ...                    ...   \n",
       "145                       9600.0                   -1.0   \n",
       "146                       9600.0                   -1.0   \n",
       "147                       9600.0                   -2.0   \n",
       "148                          0.0                    0.0   \n",
       "149                          0.0                    0.0   \n",
       "\n",
       "     emg_ECDF Percentile_1  emg_ECDF_0  ...  eog_Wavelet variance_1  \\\n",
       "0                      5.0    0.000083  ...              312.805575   \n",
       "1                      3.0    0.000083  ...              118.262878   \n",
       "2                     87.0    0.000083  ...            20219.030794   \n",
       "3                      4.0    0.000083  ...               80.907817   \n",
       "4                      3.0    0.000083  ...               86.823845   \n",
       "..                     ...         ...  ...                     ...   \n",
       "145                    1.0    0.000083  ...               57.656830   \n",
       "146                    1.0    0.000083  ...               20.486270   \n",
       "147                    2.0    0.000083  ...               18.850814   \n",
       "148                    0.0    0.000083  ...               19.274184   \n",
       "149                    0.0    0.000083  ...               37.808844   \n",
       "\n",
       "     eog_Wavelet variance_2  eog_Wavelet variance_3  eog_Wavelet variance_4  \\\n",
       "0                402.984029              531.839587              742.766206   \n",
       "1                158.838467              219.032676              302.217849   \n",
       "2              44088.527796            66311.099699            89408.551213   \n",
       "3                110.696839              132.833771              144.124027   \n",
       "4                166.415030              212.138150              223.253162   \n",
       "..                      ...                     ...                     ...   \n",
       "145              203.298559              436.840561              708.306747   \n",
       "146               46.088155               78.846813              130.556889   \n",
       "147               57.894593              111.909476              169.506496   \n",
       "148               52.936426               91.009379              126.892207   \n",
       "149               98.699362              158.757989              207.515724   \n",
       "\n",
       "     eog_Wavelet variance_5  eog_Wavelet variance_6  eog_Wavelet variance_7  \\\n",
       "0               1047.941502             1451.723703             1952.690820   \n",
       "1                399.925294              516.062216              659.935191   \n",
       "2             115199.771348           142240.480844           169734.326887   \n",
       "3                151.458906              162.187499              181.761043   \n",
       "4                209.894921              191.937017              184.054749   \n",
       "..                      ...                     ...                     ...   \n",
       "145              922.171714             1001.589882              945.852363   \n",
       "146              209.160531              318.979341              464.046388   \n",
       "147              223.060587              272.887325              324.464020   \n",
       "148              156.416310              179.507661              199.278882   \n",
       "149              241.602848              263.997075              282.110388   \n",
       "\n",
       "     eog_Wavelet variance_8  eog_Zero crossing rate  target  \n",
       "0               2545.203459                   823.0       0  \n",
       "1                836.320019                  1161.0       0  \n",
       "2             198542.778906                  1771.0       0  \n",
       "3                213.417242                  1045.0       0  \n",
       "4                188.248626                  3344.0       0  \n",
       "..                      ...                     ...     ...  \n",
       "145              815.744724                  1181.0       2  \n",
       "146              648.693428                  1215.0       2  \n",
       "147              383.430537                  1003.0       2  \n",
       "148              219.670885                  1337.0       2  \n",
       "149              303.167366                  1294.0       2  \n",
       "\n",
       "[150 rows x 779 columns]"
      ]
     },
     "execution_count": 97,
     "metadata": {},
     "output_type": "execute_result"
    }
   ],
   "source": [
    "test_df"
   ]
  },
  {
   "cell_type": "code",
   "execution_count": 52,
   "id": "09406626-8384-436e-8159-344f2e27f7e4",
   "metadata": {
    "execution": {
     "iopub.execute_input": "2024-02-07T13:05:18.294981Z",
     "iopub.status.busy": "2024-02-07T13:05:18.294211Z",
     "iopub.status.idle": "2024-02-07T13:05:18.318608Z",
     "shell.execute_reply": "2024-02-07T13:05:18.317868Z",
     "shell.execute_reply.started": "2024-02-07T13:05:18.294954Z"
    }
   },
   "outputs": [
    {
     "data": {
      "text/html": [
       "<div>\n",
       "<style scoped>\n",
       "    .dataframe tbody tr th:only-of-type {\n",
       "        vertical-align: middle;\n",
       "    }\n",
       "\n",
       "    .dataframe tbody tr th {\n",
       "        vertical-align: top;\n",
       "    }\n",
       "\n",
       "    .dataframe thead th {\n",
       "        text-align: right;\n",
       "    }\n",
       "</style>\n",
       "<table border=\"1\" class=\"dataframe\">\n",
       "  <thead>\n",
       "    <tr style=\"text-align: right;\">\n",
       "      <th></th>\n",
       "      <th>emg_Absolute energy</th>\n",
       "      <th>emg_Area under the curve</th>\n",
       "      <th>emg_Autocorrelation</th>\n",
       "      <th>emg_Average power</th>\n",
       "      <th>emg_Centroid</th>\n",
       "      <th>emg_ECDF Percentile Count_0</th>\n",
       "      <th>emg_ECDF Percentile Count_1</th>\n",
       "      <th>emg_ECDF Percentile_0</th>\n",
       "      <th>emg_ECDF Percentile_1</th>\n",
       "      <th>emg_ECDF_0</th>\n",
       "      <th>...</th>\n",
       "      <th>eog_Wavelet variance_1</th>\n",
       "      <th>eog_Wavelet variance_2</th>\n",
       "      <th>eog_Wavelet variance_3</th>\n",
       "      <th>eog_Wavelet variance_4</th>\n",
       "      <th>eog_Wavelet variance_5</th>\n",
       "      <th>eog_Wavelet variance_6</th>\n",
       "      <th>eog_Wavelet variance_7</th>\n",
       "      <th>eog_Wavelet variance_8</th>\n",
       "      <th>eog_Zero crossing rate</th>\n",
       "      <th>target</th>\n",
       "    </tr>\n",
       "  </thead>\n",
       "  <tbody>\n",
       "    <tr>\n",
       "      <th>0</th>\n",
       "      <td>346755.0</td>\n",
       "      <td>378.980</td>\n",
       "      <td>346755.0</td>\n",
       "      <td>2889.865822</td>\n",
       "      <td>55.297713</td>\n",
       "      <td>2400.0</td>\n",
       "      <td>9600.0</td>\n",
       "      <td>-4.0</td>\n",
       "      <td>4.0</td>\n",
       "      <td>0.000083</td>\n",
       "      <td>...</td>\n",
       "      <td>90.167281</td>\n",
       "      <td>169.980597</td>\n",
       "      <td>275.299853</td>\n",
       "      <td>370.916447</td>\n",
       "      <td>437.167218</td>\n",
       "      <td>502.995162</td>\n",
       "      <td>605.165358</td>\n",
       "      <td>756.975766</td>\n",
       "      <td>1740.0</td>\n",
       "      <td>0</td>\n",
       "    </tr>\n",
       "    <tr>\n",
       "      <th>1</th>\n",
       "      <td>15057848.0</td>\n",
       "      <td>2212.100</td>\n",
       "      <td>15057848.0</td>\n",
       "      <td>125492.524377</td>\n",
       "      <td>55.297006</td>\n",
       "      <td>2400.0</td>\n",
       "      <td>9600.0</td>\n",
       "      <td>-18.0</td>\n",
       "      <td>17.0</td>\n",
       "      <td>0.000083</td>\n",
       "      <td>...</td>\n",
       "      <td>229.127243</td>\n",
       "      <td>414.771909</td>\n",
       "      <td>612.262220</td>\n",
       "      <td>791.084153</td>\n",
       "      <td>930.959404</td>\n",
       "      <td>1052.353242</td>\n",
       "      <td>1189.229504</td>\n",
       "      <td>1361.600256</td>\n",
       "      <td>1296.0</td>\n",
       "      <td>0</td>\n",
       "    </tr>\n",
       "    <tr>\n",
       "      <th>2</th>\n",
       "      <td>1143320.0</td>\n",
       "      <td>633.510</td>\n",
       "      <td>1143320.0</td>\n",
       "      <td>9528.460705</td>\n",
       "      <td>47.852155</td>\n",
       "      <td>2400.0</td>\n",
       "      <td>9600.0</td>\n",
       "      <td>-5.0</td>\n",
       "      <td>5.0</td>\n",
       "      <td>0.000083</td>\n",
       "      <td>...</td>\n",
       "      <td>131.367423</td>\n",
       "      <td>266.893320</td>\n",
       "      <td>435.246259</td>\n",
       "      <td>622.137053</td>\n",
       "      <td>845.219624</td>\n",
       "      <td>1141.014605</td>\n",
       "      <td>1541.720015</td>\n",
       "      <td>2064.584982</td>\n",
       "      <td>908.0</td>\n",
       "      <td>0</td>\n",
       "    </tr>\n",
       "    <tr>\n",
       "      <th>3</th>\n",
       "      <td>358519.0</td>\n",
       "      <td>440.790</td>\n",
       "      <td>358519.0</td>\n",
       "      <td>2987.907326</td>\n",
       "      <td>61.599932</td>\n",
       "      <td>2400.0</td>\n",
       "      <td>9600.0</td>\n",
       "      <td>-5.0</td>\n",
       "      <td>5.0</td>\n",
       "      <td>0.000083</td>\n",
       "      <td>...</td>\n",
       "      <td>49.845169</td>\n",
       "      <td>102.201094</td>\n",
       "      <td>172.446673</td>\n",
       "      <td>241.387613</td>\n",
       "      <td>278.210076</td>\n",
       "      <td>274.333264</td>\n",
       "      <td>244.236913</td>\n",
       "      <td>208.028991</td>\n",
       "      <td>2038.0</td>\n",
       "      <td>0</td>\n",
       "    </tr>\n",
       "    <tr>\n",
       "      <th>4</th>\n",
       "      <td>283985.0</td>\n",
       "      <td>251.225</td>\n",
       "      <td>283985.0</td>\n",
       "      <td>2366.738895</td>\n",
       "      <td>65.338688</td>\n",
       "      <td>2400.0</td>\n",
       "      <td>9600.0</td>\n",
       "      <td>-2.0</td>\n",
       "      <td>2.0</td>\n",
       "      <td>0.000083</td>\n",
       "      <td>...</td>\n",
       "      <td>178.240258</td>\n",
       "      <td>226.693504</td>\n",
       "      <td>261.138888</td>\n",
       "      <td>320.724431</td>\n",
       "      <td>438.073519</td>\n",
       "      <td>638.955203</td>\n",
       "      <td>940.860977</td>\n",
       "      <td>1356.376284</td>\n",
       "      <td>999.0</td>\n",
       "      <td>0</td>\n",
       "    </tr>\n",
       "    <tr>\n",
       "      <th>...</th>\n",
       "      <td>...</td>\n",
       "      <td>...</td>\n",
       "      <td>...</td>\n",
       "      <td>...</td>\n",
       "      <td>...</td>\n",
       "      <td>...</td>\n",
       "      <td>...</td>\n",
       "      <td>...</td>\n",
       "      <td>...</td>\n",
       "      <td>...</td>\n",
       "      <td>...</td>\n",
       "      <td>...</td>\n",
       "      <td>...</td>\n",
       "      <td>...</td>\n",
       "      <td>...</td>\n",
       "      <td>...</td>\n",
       "      <td>...</td>\n",
       "      <td>...</td>\n",
       "      <td>...</td>\n",
       "      <td>...</td>\n",
       "      <td>...</td>\n",
       "    </tr>\n",
       "    <tr>\n",
       "      <th>625</th>\n",
       "      <td>4223.0</td>\n",
       "      <td>34.480</td>\n",
       "      <td>4223.0</td>\n",
       "      <td>35.194600</td>\n",
       "      <td>60.222752</td>\n",
       "      <td>-1.0</td>\n",
       "      <td>-1.0</td>\n",
       "      <td>-1.0</td>\n",
       "      <td>-1.0</td>\n",
       "      <td>0.000083</td>\n",
       "      <td>...</td>\n",
       "      <td>22.758992</td>\n",
       "      <td>65.769507</td>\n",
       "      <td>130.532205</td>\n",
       "      <td>207.411352</td>\n",
       "      <td>283.348463</td>\n",
       "      <td>349.306011</td>\n",
       "      <td>403.568581</td>\n",
       "      <td>451.033860</td>\n",
       "      <td>1134.0</td>\n",
       "      <td>2</td>\n",
       "    </tr>\n",
       "    <tr>\n",
       "      <th>626</th>\n",
       "      <td>12095.0</td>\n",
       "      <td>67.905</td>\n",
       "      <td>12095.0</td>\n",
       "      <td>100.800067</td>\n",
       "      <td>61.154871</td>\n",
       "      <td>2400.0</td>\n",
       "      <td>9600.0</td>\n",
       "      <td>-1.0</td>\n",
       "      <td>1.0</td>\n",
       "      <td>0.000083</td>\n",
       "      <td>...</td>\n",
       "      <td>27.741836</td>\n",
       "      <td>59.698394</td>\n",
       "      <td>107.664361</td>\n",
       "      <td>180.978799</td>\n",
       "      <td>286.263588</td>\n",
       "      <td>428.318052</td>\n",
       "      <td>609.729786</td>\n",
       "      <td>832.115301</td>\n",
       "      <td>703.0</td>\n",
       "      <td>2</td>\n",
       "    </tr>\n",
       "    <tr>\n",
       "      <th>627</th>\n",
       "      <td>73233.0</td>\n",
       "      <td>161.130</td>\n",
       "      <td>73233.0</td>\n",
       "      <td>610.325860</td>\n",
       "      <td>46.225474</td>\n",
       "      <td>2400.0</td>\n",
       "      <td>9600.0</td>\n",
       "      <td>-1.0</td>\n",
       "      <td>1.0</td>\n",
       "      <td>0.000083</td>\n",
       "      <td>...</td>\n",
       "      <td>22.460989</td>\n",
       "      <td>77.428348</td>\n",
       "      <td>178.911110</td>\n",
       "      <td>332.821362</td>\n",
       "      <td>542.631079</td>\n",
       "      <td>817.626238</td>\n",
       "      <td>1174.778387</td>\n",
       "      <td>1634.896359</td>\n",
       "      <td>1054.0</td>\n",
       "      <td>2</td>\n",
       "    </tr>\n",
       "    <tr>\n",
       "      <th>628</th>\n",
       "      <td>123605.0</td>\n",
       "      <td>179.885</td>\n",
       "      <td>123605.0</td>\n",
       "      <td>1030.127511</td>\n",
       "      <td>77.939516</td>\n",
       "      <td>2400.0</td>\n",
       "      <td>9600.0</td>\n",
       "      <td>-1.0</td>\n",
       "      <td>1.0</td>\n",
       "      <td>0.000083</td>\n",
       "      <td>...</td>\n",
       "      <td>59.998600</td>\n",
       "      <td>116.563044</td>\n",
       "      <td>166.284057</td>\n",
       "      <td>221.966561</td>\n",
       "      <td>293.888454</td>\n",
       "      <td>390.957371</td>\n",
       "      <td>522.049687</td>\n",
       "      <td>695.726086</td>\n",
       "      <td>846.0</td>\n",
       "      <td>2</td>\n",
       "    </tr>\n",
       "    <tr>\n",
       "      <th>629</th>\n",
       "      <td>203973.0</td>\n",
       "      <td>214.105</td>\n",
       "      <td>203973.0</td>\n",
       "      <td>1699.916660</td>\n",
       "      <td>61.077268</td>\n",
       "      <td>2400.0</td>\n",
       "      <td>9600.0</td>\n",
       "      <td>-1.0</td>\n",
       "      <td>1.0</td>\n",
       "      <td>0.000083</td>\n",
       "      <td>...</td>\n",
       "      <td>16.186605</td>\n",
       "      <td>37.061146</td>\n",
       "      <td>72.625235</td>\n",
       "      <td>127.436608</td>\n",
       "      <td>197.860134</td>\n",
       "      <td>279.994979</td>\n",
       "      <td>370.932866</td>\n",
       "      <td>468.104247</td>\n",
       "      <td>1204.0</td>\n",
       "      <td>2</td>\n",
       "    </tr>\n",
       "  </tbody>\n",
       "</table>\n",
       "<p>630 rows × 779 columns</p>\n",
       "</div>"
      ],
      "text/plain": [
       "     emg_Absolute energy  emg_Area under the curve  emg_Autocorrelation  \\\n",
       "0               346755.0                   378.980             346755.0   \n",
       "1             15057848.0                  2212.100           15057848.0   \n",
       "2              1143320.0                   633.510            1143320.0   \n",
       "3               358519.0                   440.790             358519.0   \n",
       "4               283985.0                   251.225             283985.0   \n",
       "..                   ...                       ...                  ...   \n",
       "625               4223.0                    34.480               4223.0   \n",
       "626              12095.0                    67.905              12095.0   \n",
       "627              73233.0                   161.130              73233.0   \n",
       "628             123605.0                   179.885             123605.0   \n",
       "629             203973.0                   214.105             203973.0   \n",
       "\n",
       "     emg_Average power  emg_Centroid  emg_ECDF Percentile Count_0  \\\n",
       "0          2889.865822     55.297713                       2400.0   \n",
       "1        125492.524377     55.297006                       2400.0   \n",
       "2          9528.460705     47.852155                       2400.0   \n",
       "3          2987.907326     61.599932                       2400.0   \n",
       "4          2366.738895     65.338688                       2400.0   \n",
       "..                 ...           ...                          ...   \n",
       "625          35.194600     60.222752                         -1.0   \n",
       "626         100.800067     61.154871                       2400.0   \n",
       "627         610.325860     46.225474                       2400.0   \n",
       "628        1030.127511     77.939516                       2400.0   \n",
       "629        1699.916660     61.077268                       2400.0   \n",
       "\n",
       "     emg_ECDF Percentile Count_1  emg_ECDF Percentile_0  \\\n",
       "0                         9600.0                   -4.0   \n",
       "1                         9600.0                  -18.0   \n",
       "2                         9600.0                   -5.0   \n",
       "3                         9600.0                   -5.0   \n",
       "4                         9600.0                   -2.0   \n",
       "..                           ...                    ...   \n",
       "625                         -1.0                   -1.0   \n",
       "626                       9600.0                   -1.0   \n",
       "627                       9600.0                   -1.0   \n",
       "628                       9600.0                   -1.0   \n",
       "629                       9600.0                   -1.0   \n",
       "\n",
       "     emg_ECDF Percentile_1  emg_ECDF_0  ...  eog_Wavelet variance_1  \\\n",
       "0                      4.0    0.000083  ...               90.167281   \n",
       "1                     17.0    0.000083  ...              229.127243   \n",
       "2                      5.0    0.000083  ...              131.367423   \n",
       "3                      5.0    0.000083  ...               49.845169   \n",
       "4                      2.0    0.000083  ...              178.240258   \n",
       "..                     ...         ...  ...                     ...   \n",
       "625                   -1.0    0.000083  ...               22.758992   \n",
       "626                    1.0    0.000083  ...               27.741836   \n",
       "627                    1.0    0.000083  ...               22.460989   \n",
       "628                    1.0    0.000083  ...               59.998600   \n",
       "629                    1.0    0.000083  ...               16.186605   \n",
       "\n",
       "     eog_Wavelet variance_2  eog_Wavelet variance_3  eog_Wavelet variance_4  \\\n",
       "0                169.980597              275.299853              370.916447   \n",
       "1                414.771909              612.262220              791.084153   \n",
       "2                266.893320              435.246259              622.137053   \n",
       "3                102.201094              172.446673              241.387613   \n",
       "4                226.693504              261.138888              320.724431   \n",
       "..                      ...                     ...                     ...   \n",
       "625               65.769507              130.532205              207.411352   \n",
       "626               59.698394              107.664361              180.978799   \n",
       "627               77.428348              178.911110              332.821362   \n",
       "628              116.563044              166.284057              221.966561   \n",
       "629               37.061146               72.625235              127.436608   \n",
       "\n",
       "     eog_Wavelet variance_5  eog_Wavelet variance_6  eog_Wavelet variance_7  \\\n",
       "0                437.167218              502.995162              605.165358   \n",
       "1                930.959404             1052.353242             1189.229504   \n",
       "2                845.219624             1141.014605             1541.720015   \n",
       "3                278.210076              274.333264              244.236913   \n",
       "4                438.073519              638.955203              940.860977   \n",
       "..                      ...                     ...                     ...   \n",
       "625              283.348463              349.306011              403.568581   \n",
       "626              286.263588              428.318052              609.729786   \n",
       "627              542.631079              817.626238             1174.778387   \n",
       "628              293.888454              390.957371              522.049687   \n",
       "629              197.860134              279.994979              370.932866   \n",
       "\n",
       "     eog_Wavelet variance_8  eog_Zero crossing rate  target  \n",
       "0                756.975766                  1740.0       0  \n",
       "1               1361.600256                  1296.0       0  \n",
       "2               2064.584982                   908.0       0  \n",
       "3                208.028991                  2038.0       0  \n",
       "4               1356.376284                   999.0       0  \n",
       "..                      ...                     ...     ...  \n",
       "625              451.033860                  1134.0       2  \n",
       "626              832.115301                   703.0       2  \n",
       "627             1634.896359                  1054.0       2  \n",
       "628              695.726086                   846.0       2  \n",
       "629              468.104247                  1204.0       2  \n",
       "\n",
       "[630 rows x 779 columns]"
      ]
     },
     "execution_count": 52,
     "metadata": {},
     "output_type": "execute_result"
    }
   ],
   "source": [
    "train_df"
   ]
  },
  {
   "cell_type": "markdown",
   "id": "9bece946-5bf7-4cd3-ab9c-891be0446483",
   "metadata": {},
   "source": [
    "# Applyng a ML model"
   ]
  },
  {
   "cell_type": "code",
   "execution_count": 89,
   "id": "23466061-d5b6-4e7f-b765-64ba5a405a50",
   "metadata": {
    "execution": {
     "iopub.execute_input": "2024-02-07T13:20:22.023706Z",
     "iopub.status.busy": "2024-02-07T13:20:22.023222Z",
     "iopub.status.idle": "2024-02-07T13:20:22.547838Z",
     "shell.execute_reply": "2024-02-07T13:20:22.546577Z",
     "shell.execute_reply.started": "2024-02-07T13:20:22.023674Z"
    }
   },
   "outputs": [
    {
     "name": "stdout",
     "output_type": "stream",
     "text": [
      "[[33  6  1]\n",
      " [ 5 34  9]\n",
      " [ 0  7 31]]\n"
     ]
    },
    {
     "data": {
      "text/plain": [
       "<Axes: >"
      ]
     },
     "execution_count": 89,
     "metadata": {},
     "output_type": "execute_result"
    },
    {
     "data": {
      "image/png": "[encoded data removed]",
      "text/plain": [
       "<Figure size 640x480 with 2 Axes>"
      ]
     },
     "metadata": {},
     "output_type": "display_data"
    }
   ],
   "source": [
    "from sklearn.ensemble import RandomForestClassifier\n",
    "from sklearn.model_selection import train_test_split\n",
    "from sklearn.metrics import confusion_matrix\n",
    "\n",
    "X = train_df.drop('target', axis=1)\n",
    "y = train_df['target']\n",
    "\n",
    "# Splitting the data to check for the model performance\n",
    "\n",
    "Xtrain, Xval, ytrain, yval = train_test_split(X, y, train_size=0.8)\n",
    "\n",
    "clf = RandomForestClassifier()\n",
    "clf.fit(Xtrain, ytrain)\n",
    "ypred = clf.predict(Xval)\n",
    "\n",
    "# get and plot the confusion matrix\n",
    "\n",
    "conf = confusion_matrix(ypred, yval)\n",
    "print(conf)\n",
    "\n",
    "sns.heatmap(conf, annot=True)"
   ]
  },
  {
   "cell_type": "markdown",
   "id": "2169d36c-c5a5-48fa-a063-eb4177996dda",
   "metadata": {},
   "source": [
    "# Now, retrain and use the Test set as the validation.\n",
    "\n"
   ]
  },
  {
   "cell_type": "code",
   "execution_count": 98,
   "id": "1f4f100d-0e75-402f-a804-d460a9cfdfb9",
   "metadata": {
    "execution": {
     "iopub.execute_input": "2024-02-07T13:27:44.608622Z",
     "iopub.status.busy": "2024-02-07T13:27:44.607092Z",
     "iopub.status.idle": "2024-02-07T13:27:45.278822Z",
     "shell.execute_reply": "2024-02-07T13:27:45.278508Z",
     "shell.execute_reply.started": "2024-02-07T13:27:44.608568Z"
    }
   },
   "outputs": [
    {
     "name": "stdout",
     "output_type": "stream",
     "text": [
      "[[43 12  0]\n",
      " [15 40  3]\n",
      " [ 2  7 28]]\n"
     ]
    },
    {
     "data": {
      "text/plain": [
       "<Axes: >"
      ]
     },
     "execution_count": 98,
     "metadata": {},
     "output_type": "execute_result"
    },
    {
     "data": {
      "image/png": "[encoded data removed]",
      "text/plain": [
       "<Figure size 640x480 with 2 Axes>"
      ]
     },
     "metadata": {},
     "output_type": "display_data"
    }
   ],
   "source": [
    "Xtrain = train_df.drop('target', axis=1)\n",
    "ytrain = train_df['target']\n",
    "\n",
    "Xtest = test_df.drop('target', axis=1)\n",
    "ytest = test_df['target']\n",
    "\n",
    "clf = RandomForestClassifier()\n",
    "clf.fit(Xtrain, ytrain)\n",
    "ypred = clf.predict(Xtest)\n",
    "\n",
    "# get and plot the confusion matrix\n",
    "conf = confusion_matrix(ypred, ytest)\n",
    "print(conf)\n",
    "sns.heatmap(conf, annot=True)"
   ]
  },
  {
   "cell_type": "code",
   "execution_count": 99,
   "id": "838c0789-fe47-4f77-8263-6cb44c91a82b",
   "metadata": {
    "execution": {
     "iopub.execute_input": "2024-02-07T13:28:18.302690Z",
     "iopub.status.busy": "2024-02-07T13:28:18.301192Z",
     "iopub.status.idle": "2024-02-07T13:28:18.321742Z",
     "shell.execute_reply": "2024-02-07T13:28:18.321222Z",
     "shell.execute_reply.started": "2024-02-07T13:28:18.302641Z"
    }
   },
   "outputs": [
    {
     "data": {
      "text/plain": [
       "target\n",
       "1    238\n",
       "0    229\n",
       "2    163\n",
       "Name: count, dtype: int64"
      ]
     },
     "execution_count": 99,
     "metadata": {},
     "output_type": "execute_result"
    }
   ],
   "source": [
    "train_df['target'].value_counts()"
   ]
  },
  {
   "cell_type": "code",
   "execution_count": 100,
   "id": "9ab61c1c-8896-4a07-92be-fd28bc281ca0",
   "metadata": {
    "execution": {
     "iopub.execute_input": "2024-02-07T13:28:27.990574Z",
     "iopub.status.busy": "2024-02-07T13:28:27.989846Z",
     "iopub.status.idle": "2024-02-07T13:28:28.012635Z",
     "shell.execute_reply": "2024-02-07T13:28:28.010939Z",
     "shell.execute_reply.started": "2024-02-07T13:28:27.990547Z"
    }
   },
   "outputs": [
    {
     "data": {
      "text/plain": [
       "target\n",
       "0    60\n",
       "1    59\n",
       "2    31\n",
       "Name: count, dtype: int64"
      ]
     },
     "execution_count": 100,
     "metadata": {},
     "output_type": "execute_result"
    }
   ],
   "source": [
    "test_df['target'].value_counts()"
   ]
  },
  {
   "cell_type": "code",
   "execution_count": 110,
   "id": "b2a4c9a9-739e-486b-b99d-3c12acd55a4a",
   "metadata": {
    "execution": {
     "iopub.execute_input": "2024-02-07T13:33:16.876782Z",
     "iopub.status.busy": "2024-02-07T13:33:16.876434Z",
     "iopub.status.idle": "2024-02-07T13:33:16.884128Z",
     "shell.execute_reply": "2024-02-07T13:33:16.882328Z",
     "shell.execute_reply.started": "2024-02-07T13:33:16.876762Z"
    }
   },
   "outputs": [],
   "source": [
    "from sklearn.metrics import accuracy_score, f1_score, precision_recall_fscore_support"
   ]
  },
  {
   "cell_type": "code",
   "execution_count": 104,
   "id": "01dc3a9b-e190-4b39-880b-df638bc872a4",
   "metadata": {
    "execution": {
     "iopub.execute_input": "2024-02-07T13:30:21.413169Z",
     "iopub.status.busy": "2024-02-07T13:30:21.411836Z",
     "iopub.status.idle": "2024-02-07T13:30:21.429192Z",
     "shell.execute_reply": "2024-02-07T13:30:21.428626Z",
     "shell.execute_reply.started": "2024-02-07T13:30:21.413114Z"
    }
   },
   "outputs": [
    {
     "data": {
      "text/plain": [
       "0.74"
      ]
     },
     "execution_count": 104,
     "metadata": {},
     "output_type": "execute_result"
    }
   ],
   "source": [
    "accuracy_score(ypred, ytest)"
   ]
  },
  {
   "cell_type": "code",
   "execution_count": 109,
   "id": "0b0c5fb6-cb14-49f5-8600-b16e655241f7",
   "metadata": {
    "execution": {
     "iopub.execute_input": "2024-02-07T13:31:54.136075Z",
     "iopub.status.busy": "2024-02-07T13:31:54.135232Z",
     "iopub.status.idle": "2024-02-07T13:31:54.148638Z",
     "shell.execute_reply": "2024-02-07T13:31:54.148073Z",
     "shell.execute_reply.started": "2024-02-07T13:31:54.136044Z"
    }
   },
   "outputs": [
    {
     "data": {
      "text/plain": [
       "0.7517053941606372"
      ]
     },
     "execution_count": 109,
     "metadata": {},
     "output_type": "execute_result"
    }
   ],
   "source": [
    "f1_score(ypred, ytest, average='macro')"
   ]
  },
  {
   "cell_type": "code",
   "execution_count": 111,
   "id": "66ed4fa7-d1d2-43d5-a43b-6b2293bb9a60",
   "metadata": {
    "execution": {
     "iopub.execute_input": "2024-02-07T13:33:18.203895Z",
     "iopub.status.busy": "2024-02-07T13:33:18.203281Z",
     "iopub.status.idle": "2024-02-07T13:33:18.214957Z",
     "shell.execute_reply": "2024-02-07T13:33:18.213825Z",
     "shell.execute_reply.started": "2024-02-07T13:33:18.203871Z"
    }
   },
   "outputs": [],
   "source": [
    "precision, recall, f1, _ = precision_recall_fscore_support(ytest, ypred, average='weighted')"
   ]
  },
  {
   "cell_type": "code",
   "execution_count": 112,
   "id": "174b82e3-c566-4a39-9bed-1c062d3bde8c",
   "metadata": {
    "execution": {
     "iopub.execute_input": "2024-02-07T13:33:25.177163Z",
     "iopub.status.busy": "2024-02-07T13:33:25.176762Z",
     "iopub.status.idle": "2024-02-07T13:33:25.181740Z",
     "shell.execute_reply": "2024-02-07T13:33:25.181200Z",
     "shell.execute_reply.started": "2024-02-07T13:33:25.177141Z"
    }
   },
   "outputs": [
    {
     "name": "stdout",
     "output_type": "stream",
     "text": [
      "0.7403880369397611 0.74 0.7382723821598502\n"
     ]
    }
   ],
   "source": [
    "print(precision, recall, f1)"
   ]
  },
  {
   "cell_type": "code",
   "execution_count": null,
   "id": "e5173c16-0e1d-40e4-829d-ec6fe1a65f84",
   "metadata": {},
   "outputs": [],
   "source": []
  }
 ],
 "metadata": {
  "kernelspec": {
   "display_name": "Python 3 (ipykernel)",
   "language": "python",
   "name": "python3"
  },
  "language_info": {
   "codemirror_mode": {
    "name": "ipython",
    "version": 3
   },
   "file_extension": ".py",
   "mimetype": "text/x-python",
   "name": "python",
   "nbconvert_exporter": "python",
   "pygments_lexer": "ipython3",
   "version": "3.11.7"
  }
 },
 "nbformat": 4,
 "nbformat_minor": 5
}
